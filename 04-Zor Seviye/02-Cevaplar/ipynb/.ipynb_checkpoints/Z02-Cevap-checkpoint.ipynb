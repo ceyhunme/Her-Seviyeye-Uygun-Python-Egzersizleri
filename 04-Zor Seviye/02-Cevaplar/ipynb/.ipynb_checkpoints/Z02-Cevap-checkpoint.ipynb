{
 "cells": [
  {
   "cell_type": "markdown",
   "metadata": {},
   "source": [
    "# Soru 2"
   ]
  },
  {
   "cell_type": "raw",
   "metadata": {},
   "source": [
    "Hash algoritmaları bir yönden çok kolay olsa da geri döndürmek imkansızdır. Örneğin password123 gibi basit bir şeyi hash algoritmasına tabi tutarsanız size o kelime ya da cümleye özel uzun bir kod verir. İdeal durumda bunu geriye döndürmek mümkün değildir. Hash kodunu alıp ilk başladığınız kelime veya cümleye geri dönemezsiniz.\n",
    "\n",
    "Bir dizi için SHA-256 güvenlik hash değerini döndüren bir fonksiyon yazın. Hash on altılı sayı dizisi formatında olmalıdır.\n",
    "\n",
    "Örnekler\n",
    "\n",
    "sha256_hash(\"password123\") ➞ \"ef92b778bafe771e89245b89ecbc08a44a4e166c06659911881f383d4473e94f\"\n",
    "\n",
    "sha256_hash(\"Fluffy@home\") ➞ \"dcc1ac3a7148a2d9f47b7dbe3d733040c335b2a3d8adc7984e0c483c5b2c1665\"\n",
    "\n",
    "sha256_hash(\"Hey ahbap!\") ➞ \"14f997f08b8ad032dcb274198684f995d34043f9da00acd904dc72836359ae0f\"\n",
    "\n",
    "*İpucu:\n",
    "Bir modül dahil etmeniz gerekmektedir.\n"
   ]
  },
  {
   "cell_type": "code",
   "execution_count": 8,
   "metadata": {},
   "outputs": [
    {
     "data": {
      "text/plain": [
       "b'\\xc3\\xb6\\xc4\\x9fretmen'"
      ]
     },
     "execution_count": 8,
     "metadata": {},
     "output_type": "execute_result"
    }
   ],
   "source": [
    "\"öğretmen\".encode()"
   ]
  },
  {
   "cell_type": "code",
   "execution_count": 9,
   "metadata": {},
   "outputs": [],
   "source": [
    "import hashlib\n",
    "def sha256_hash(şifre):\n",
    "    kod = hashlib.sha256(şifre.encode())\n",
    "    return kod.hexdigest()"
   ]
  },
  {
   "cell_type": "code",
   "execution_count": 11,
   "metadata": {},
   "outputs": [
    {
     "data": {
      "text/plain": [
       "'96d40d2d4df107b887a93f960a58c1d51e3500d34e433ca3054ddd69cd75186c'"
      ]
     },
     "execution_count": 11,
     "metadata": {},
     "output_type": "execute_result"
    }
   ],
   "source": [
    "sha256_hash(\"klkvlklkvlsvs123\")"
   ]
  },
  {
   "cell_type": "code",
   "execution_count": null,
   "metadata": {},
   "outputs": [],
   "source": []
  }
 ],
 "metadata": {
  "kernelspec": {
   "display_name": "Python 3",
   "language": "python",
   "name": "python3"
  },
  "language_info": {
   "codemirror_mode": {
    "name": "ipython",
    "version": 3
   },
   "file_extension": ".py",
   "mimetype": "text/x-python",
   "name": "python",
   "nbconvert_exporter": "python",
   "pygments_lexer": "ipython3",
   "version": "3.7.4"
  }
 },
 "nbformat": 4,
 "nbformat_minor": 2
}
