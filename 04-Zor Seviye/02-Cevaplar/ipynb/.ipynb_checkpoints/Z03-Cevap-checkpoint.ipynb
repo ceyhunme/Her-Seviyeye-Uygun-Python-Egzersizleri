{
 "cells": [
  {
   "cell_type": "markdown",
   "metadata": {},
   "source": [
    "# Soru 3"
   ]
  },
  {
   "cell_type": "raw",
   "metadata": {},
   "source": [
    "Eğer ek harfler eklenebilir ve kelimeyle eşleşmek için harflerin çıkarılması gerekmezse bir girdi dizisi tamamlanabilir. Dahası string girdisindeki harflerin sırası son kelimedeki harflerin sırasıyla aynı olmalıdır.\n",
    "\n",
    "Bir string girdisi için kelimenin tamamlanabilir olup olmadığını belirleyen bir fonksiyon yazın.\n",
    "\n",
    "Örnekler\n",
    "tamamlanır_mı(\"gzel\", \"güzel\") ➞ True\n",
    "# “g” ve “zel” arasına “ü” eklenebilir.\n",
    "\n",
    "tamamlanır_mı(\"gzela\", \"güzel\") ➞ False\n",
    "# kelimede “a” harfi bulunmaz.\n",
    "\n",
    "tamamlanır_mı(\"zül\", \"güzel\") ➞ False\n",
    "#“z”, “ü” ve “l” kelimede olsa da sıraları doğru değildir\n",
    "\n",
    "tamamlanır_mı(\"ggzl\", \"güzel\") ➞ False\n",
    "# Çok fazla “g” var.\n"
   ]
  },
  {
   "cell_type": "code",
   "execution_count": null,
   "metadata": {},
   "outputs": [],
   "source": []
  }
 ],
 "metadata": {
  "kernelspec": {
   "display_name": "Python 3",
   "language": "python",
   "name": "python3"
  },
  "language_info": {
   "codemirror_mode": {
    "name": "ipython",
    "version": 3
   },
   "file_extension": ".py",
   "mimetype": "text/x-python",
   "name": "python",
   "nbconvert_exporter": "python",
   "pygments_lexer": "ipython3",
   "version": "3.7.4"
  }
 },
 "nbformat": 4,
 "nbformat_minor": 2
}
