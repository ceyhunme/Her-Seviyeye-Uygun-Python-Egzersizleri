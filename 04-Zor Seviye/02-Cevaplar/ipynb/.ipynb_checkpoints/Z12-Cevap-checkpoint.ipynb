{
 "cells": [
  {
   "cell_type": "markdown",
   "metadata": {},
   "source": [
    "# Soru 12"
   ]
  },
  {
   "cell_type": "raw",
   "metadata": {},
   "source": [
    "Bir video oyununda ana karakterin gezegenine bir meteor düşüyor. Meteorun rotası y = mx + b formunda bir string olarak verildiğinde ve ana karakterin pozisyonu ise (x, y) olarak verildiğinde meteorun ana karaktere çarpacağı durumları True, çarpmayacağı durumları False olarak döndürün.\n",
    "\n",
    "Örnekler\n",
    "\n",
    "carpacak_mı(\"y = 2x - 5\", (0, 0)) ➞ False\n",
    "carpacak_mı(\"y = -4x + 6\", (1, 2)) ➞ True\n",
    "\n",
    "Notlar:\n",
    "\n",
    "b değeri asla sıfır ya da boş olmayacak.\n",
    "m değeri her zaman tam sayı olacak.\n",
    "Eğer m değeri 1 ise “1” gösterilecek.\n",
    "Örneğin “y = x + 5” durumu “y = 1x + 5” olarak gösterilecek.\n",
    "Eğer m değeri -1 ise “-1” gösterilecek.\n",
    "Örneğin “y = -x + 2” durumu “y = -1x + 2” olarak gösterilecek.\n"
   ]
  },
  {
   "cell_type": "code",
   "execution_count": 9,
   "metadata": {},
   "outputs": [],
   "source": [
    "def carpacak_mı(eşitlik,pozisyon):\n",
    "    x = str(pozisyon[0])\n",
    "    y = str(pozisyon[1])\n",
    "    eşitlik = eşitlik.replace(\"y\",y)\n",
    "    x = \"*\" + x\n",
    "    eşitlik = eşitlik.replace(\"x\",x)\n",
    "    print(eşitlik)\n",
    "    eşt = eşitlik.split(\"=\")\n",
    "    return eval(eşt[0])==eval(eşt[1])"
   ]
  },
  {
   "cell_type": "code",
   "execution_count": 10,
   "metadata": {},
   "outputs": [
    {
     "name": "stdout",
     "output_type": "stream",
     "text": [
      "0 = 2*0 - 5\n"
     ]
    },
    {
     "data": {
      "text/plain": [
       "False"
      ]
     },
     "execution_count": 10,
     "metadata": {},
     "output_type": "execute_result"
    }
   ],
   "source": [
    "carpacak_mı(\"y = 2x - 5\", (0, 0))"
   ]
  },
  {
   "cell_type": "code",
   "execution_count": 11,
   "metadata": {},
   "outputs": [
    {
     "name": "stdout",
     "output_type": "stream",
     "text": [
      "2 = -4*1 + 6\n"
     ]
    },
    {
     "data": {
      "text/plain": [
       "True"
      ]
     },
     "execution_count": 11,
     "metadata": {},
     "output_type": "execute_result"
    }
   ],
   "source": [
    "carpacak_mı(\"y = -4x + 6\", (1, 2))"
   ]
  },
  {
   "cell_type": "code",
   "execution_count": 13,
   "metadata": {},
   "outputs": [
    {
     "data": {
      "text/plain": [
       "-4"
      ]
     },
     "execution_count": 13,
     "metadata": {},
     "output_type": "execute_result"
    }
   ],
   "source": [
    "eval(\"-4*1\")"
   ]
  },
  {
   "cell_type": "code",
   "execution_count": null,
   "metadata": {},
   "outputs": [],
   "source": []
  }
 ],
 "metadata": {
  "kernelspec": {
   "display_name": "Python 3",
   "language": "python",
   "name": "python3"
  },
  "language_info": {
   "codemirror_mode": {
    "name": "ipython",
    "version": 3
   },
   "file_extension": ".py",
   "mimetype": "text/x-python",
   "name": "python",
   "nbconvert_exporter": "python",
   "pygments_lexer": "ipython3",
   "version": "3.7.4"
  }
 },
 "nbformat": 4,
 "nbformat_minor": 2
}
