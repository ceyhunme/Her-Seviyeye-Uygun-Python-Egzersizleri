{
 "cells": [
  {
   "cell_type": "markdown",
   "metadata": {},
   "source": [
    "# Soru 8"
   ]
  },
  {
   "cell_type": "raw",
   "metadata": {},
   "source": [
    "Sayı ve string parametresi aldıktan sonra sayıyı geriye doğru sayan ve stringi ise büyük harflerle yazıp sonuna ünlem ekleyerek string döndüren bir fonksiyon yazın.\n",
    "\n",
    "Örnek\n",
    "\n",
    "geri_say(10, \"kalkış\") ➞ \"10. 9. 8. 7. 6. 5. 4. 3. 2. 1. KALKIŞ!\"\n",
    "\n",
    "geri_say(3, \"go\") ➞ \"3. 2. 1. GO!\"\n",
    "\n",
    "geri_say(5, \"Ateş\") ➞ \"5. 4. 3. 2. 1. ATEŞ!\""
   ]
  },
  {
   "cell_type": "code",
   "execution_count": 9,
   "metadata": {},
   "outputs": [],
   "source": [
    "def geri_say(n, yazı):\n",
    "    cevap = \"\"\n",
    "    for x in range(n):\n",
    "        cevap = cevap + str(n-x) + \". \"\n",
    "    cevap = cevap + yazı.upper() + \"!\"\n",
    "    return cevap"
   ]
  },
  {
   "cell_type": "code",
   "execution_count": 10,
   "metadata": {},
   "outputs": [
    {
     "data": {
      "text/plain": [
       "'10. 9. 8. 7. 6. 5. 4. 3. 2. 1. KALKIŞ!'"
      ]
     },
     "execution_count": 10,
     "metadata": {},
     "output_type": "execute_result"
    }
   ],
   "source": [
    "geri_say(10, \"kalkış\")"
   ]
  },
  {
   "cell_type": "code",
   "execution_count": 11,
   "metadata": {},
   "outputs": [
    {
     "data": {
      "text/plain": [
       "'3. 2. 1. GO!'"
      ]
     },
     "execution_count": 11,
     "metadata": {},
     "output_type": "execute_result"
    }
   ],
   "source": [
    "geri_say(3, \"go\") "
   ]
  },
  {
   "cell_type": "code",
   "execution_count": null,
   "metadata": {},
   "outputs": [],
   "source": []
  }
 ],
 "metadata": {
  "kernelspec": {
   "display_name": "Python 3",
   "language": "python",
   "name": "python3"
  },
  "language_info": {
   "codemirror_mode": {
    "name": "ipython",
    "version": 3
   },
   "file_extension": ".py",
   "mimetype": "text/x-python",
   "name": "python",
   "nbconvert_exporter": "python",
   "pygments_lexer": "ipython3",
   "version": "3.7.4"
  }
 },
 "nbformat": 4,
 "nbformat_minor": 2
}
