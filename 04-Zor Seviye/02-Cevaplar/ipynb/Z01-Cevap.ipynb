{
 "cells": [
  {
   "cell_type": "markdown",
   "metadata": {},
   "source": [
    "# Soru 1"
   ]
  },
  {
   "cell_type": "raw",
   "metadata": {},
   "source": [
    "Bir n tam sayısının eklemeli devamlılığı, n sayısı tek haneli tam sayı haline gelene kadar basamaklarının toplamının n ile değiştirilme sayısını ifade eder.\n",
    "\n",
    "Bir n tam sayısının çarpan devamlılığı, n sayısı tek haneli tam sayı haline gelene kadar basamaklarının çarpımının n ile değiştirilme sayısını ifade eder.\n",
    "\n",
    "Argüman olarak bir tam sayıyı alan ve:\n",
    "\n",
    "Eklemeli devamlılığı döndüren bir fonksiyon yazın.\n",
    "Çarpan devamlılığı döndüren bir fonksiyon yazın.\n",
    "\n",
    "Örnek: Eklemeli Devamlılık\n",
    "\n",
    "eklemeli_devamlılık(1679583) ➞ 3\n",
    "# 1 + 6 + 7 + 9 + 5 + 8 + 3 = 39\n",
    "# 3 + 9 = 12\n",
    "# 1 + 2 = 3\n",
    "# Tek basamaklı sayıya ulaşmak için 3 tekrar gerekiyor.\n",
    "\n",
    "eklemeli_devamlılık(123456) ➞ 2\n",
    "# 1 + 2 + 3 + 4 + 5 + 6 = 21\n",
    "# 2 + 1 = 3\n",
    "\n",
    "eklemeli_devamlılık(6) ➞ 0\n",
    "# 6 zaten tek basamaklı bir tam sayı.\n",
    "\n",
    "Örnek: Çarpan Devamlılığı\n",
    "\n",
    "çarpan_devamlılığı(77) ➞ 4\n",
    "# 7 x 7 = 49\n",
    "# 4 x 9 = 36\n",
    "# 3 x 6 = 18\n",
    "# 1 x 8 = 8\n",
    "# Tek basamaklı sayıya ulaşmak için 4 tekrar gerekiyor.\n",
    "\n",
    "çarpan_devamlılığı(123456) ➞ 2\n",
    "# 1 x 2 x 3 x 4 x 5 x 6 = 720\n",
    "# 7 x 2 x 0 = 0\n",
    "\n",
    "çarpan_devamlılığı(4) ➞ 0\n",
    "# 4 zaten tek basamaklı bir tam sayı."
   ]
  },
  {
   "cell_type": "code",
   "execution_count": 1,
   "metadata": {},
   "outputs": [],
   "source": [
    "def eklemeli_devamlılık(n):\n",
    "    işlem = 0\n",
    "    while n > 9:\n",
    "        n = sum(int(i) for i in str(n))\n",
    "        işlem += 1\n",
    "    return işlem"
   ]
  },
  {
   "cell_type": "code",
   "execution_count": 2,
   "metadata": {},
   "outputs": [
    {
     "data": {
      "text/plain": [
       "3"
      ]
     },
     "execution_count": 2,
     "metadata": {},
     "output_type": "execute_result"
    }
   ],
   "source": [
    "eklemeli_devamlılık(1679583)"
   ]
  },
  {
   "cell_type": "code",
   "execution_count": 3,
   "metadata": {},
   "outputs": [],
   "source": [
    "def carpan(n):\n",
    "    carp = 1\n",
    "    for i in str(n):\n",
    "        carp *= int(i)\n",
    "    return carp\n",
    "\n",
    "def çarpan_devamlılığı(n):\n",
    "    işlem = 0\n",
    "    while n > 9:\n",
    "        n = carpan(n)\n",
    "        işlem += 1\n",
    "    return işlem"
   ]
  },
  {
   "cell_type": "code",
   "execution_count": 4,
   "metadata": {},
   "outputs": [
    {
     "data": {
      "text/plain": [
       "4"
      ]
     },
     "execution_count": 4,
     "metadata": {},
     "output_type": "execute_result"
    }
   ],
   "source": [
    "çarpan_devamlılığı(77)"
   ]
  },
  {
   "cell_type": "code",
   "execution_count": 5,
   "metadata": {},
   "outputs": [
    {
     "data": {
      "text/plain": [
       "2"
      ]
     },
     "execution_count": 5,
     "metadata": {},
     "output_type": "execute_result"
    }
   ],
   "source": [
    "çarpan_devamlılığı(123456)"
   ]
  },
  {
   "cell_type": "code",
   "execution_count": null,
   "metadata": {},
   "outputs": [],
   "source": []
  }
 ],
 "metadata": {
  "kernelspec": {
   "display_name": "Python 3",
   "language": "python",
   "name": "python3"
  },
  "language_info": {
   "codemirror_mode": {
    "name": "ipython",
    "version": 3
   },
   "file_extension": ".py",
   "mimetype": "text/x-python",
   "name": "python",
   "nbconvert_exporter": "python",
   "pygments_lexer": "ipython3",
   "version": "3.7.4"
  }
 },
 "nbformat": 4,
 "nbformat_minor": 2
}
