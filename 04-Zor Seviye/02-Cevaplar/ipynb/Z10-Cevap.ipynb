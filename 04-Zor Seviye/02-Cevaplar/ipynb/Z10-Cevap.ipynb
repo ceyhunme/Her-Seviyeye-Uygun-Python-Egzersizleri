{
 "cells": [
  {
   "cell_type": "markdown",
   "metadata": {},
   "source": [
    "# Soru 10"
   ]
  },
  {
   "cell_type": "raw",
   "metadata": {},
   "source": [
    "Size beş kartlık bir koleksiyon verilecektir. Eliniz en az bir çift içeriyorsa, iki öğeden oluşan bir liste döndürün: Doğru ve en yüksek çiftin kart numarası (yalnızca bir tek çift varsa önemsizdir). Eğer çift yoksa False dönün.\n",
    "\n",
    "en_yüksek_çift([\"A\", \"A\", \"Q\", \"Q\", \"6\" ]) ➞ [True, \"A\"]\n",
    "\n",
    "en_yüksek_çift([\"J\", \"6\", \"3\", \"10\", \"8\"]) ➞ False\n",
    "\n",
    "en_yüksek_çift([\"K\", \"7\", \"3\", \"9\", \"3\"]) ➞ [True, 3]\n",
    "\n",
    "en_yüksek_çift([\"K\", \"9\", \"10\", \"J\", \"Q\"]) ➞ False\n",
    "\n",
    "en_yüksek_çift([\"3\", \"5\", \"5\", \"5\", \"5\"]) ➞ [True, 5]\n",
    "\n",
    "* A 'nın en değerli kart olduğunu unutmayın"
   ]
  },
  {
   "cell_type": "code",
   "execution_count": 22,
   "metadata": {},
   "outputs": [],
   "source": [
    "def en_yüksek_çift(kartlar):\n",
    "    çiftler = set([ord(x) for x in kartlar if kartlar.count(x) >1 ])\n",
    "    if len(çiftler) == 0:\n",
    "        return False\n",
    "    else:\n",
    "        if 65 in çiftler:\n",
    "            return [True, chr(65)]\n",
    "        else:\n",
    "            return [True, chr(max(çiftler))]\n",
    "        "
   ]
  },
  {
   "cell_type": "code",
   "execution_count": 15,
   "metadata": {},
   "outputs": [
    {
     "data": {
      "text/plain": [
       "65"
      ]
     },
     "execution_count": 15,
     "metadata": {},
     "output_type": "execute_result"
    }
   ],
   "source": [
    "ord(\"A\")"
   ]
  },
  {
   "cell_type": "code",
   "execution_count": 21,
   "metadata": {},
   "outputs": [
    {
     "data": {
      "text/plain": [
       "75"
      ]
     },
     "execution_count": 21,
     "metadata": {},
     "output_type": "execute_result"
    }
   ],
   "source": [
    "ord(\"K\")"
   ]
  },
  {
   "cell_type": "code",
   "execution_count": 20,
   "metadata": {},
   "outputs": [
    {
     "data": {
      "text/plain": [
       "'B'"
      ]
     },
     "execution_count": 20,
     "metadata": {},
     "output_type": "execute_result"
    }
   ],
   "source": [
    "chr(66)"
   ]
  },
  {
   "cell_type": "code",
   "execution_count": 23,
   "metadata": {},
   "outputs": [
    {
     "data": {
      "text/plain": [
       "[True, 'A']"
      ]
     },
     "execution_count": 23,
     "metadata": {},
     "output_type": "execute_result"
    }
   ],
   "source": [
    "en_yüksek_çift([\"A\", \"A\", \"Q\", \"Q\", \"6\" ])"
   ]
  },
  {
   "cell_type": "code",
   "execution_count": 24,
   "metadata": {},
   "outputs": [
    {
     "data": {
      "text/plain": [
       "False"
      ]
     },
     "execution_count": 24,
     "metadata": {},
     "output_type": "execute_result"
    }
   ],
   "source": [
    "en_yüksek_çift([\"J\", \"6\", \"3\", \"10\", \"8\"])"
   ]
  },
  {
   "cell_type": "code",
   "execution_count": 25,
   "metadata": {},
   "outputs": [
    {
     "data": {
      "text/plain": [
       "[True, '5']"
      ]
     },
     "execution_count": 25,
     "metadata": {},
     "output_type": "execute_result"
    }
   ],
   "source": [
    "en_yüksek_çift([\"3\", \"5\", \"5\", \"5\", \"5\"])"
   ]
  },
  {
   "cell_type": "code",
   "execution_count": null,
   "metadata": {},
   "outputs": [],
   "source": []
  }
 ],
 "metadata": {
  "kernelspec": {
   "display_name": "Python 3",
   "language": "python",
   "name": "python3"
  },
  "language_info": {
   "codemirror_mode": {
    "name": "ipython",
    "version": 3
   },
   "file_extension": ".py",
   "mimetype": "text/x-python",
   "name": "python",
   "nbconvert_exporter": "python",
   "pygments_lexer": "ipython3",
   "version": "3.7.4"
  }
 },
 "nbformat": 4,
 "nbformat_minor": 2
}
