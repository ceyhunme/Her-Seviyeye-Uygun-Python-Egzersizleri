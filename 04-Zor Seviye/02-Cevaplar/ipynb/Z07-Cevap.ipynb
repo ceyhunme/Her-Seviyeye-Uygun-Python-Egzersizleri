{
 "cells": [
  {
   "cell_type": "markdown",
   "metadata": {},
   "source": [
    "# Soru 7"
   ]
  },
  {
   "cell_type": "raw",
   "metadata": {},
   "source": [
    "Sütun sayısı olarak a’dan h’ye bir karakter, satır sayısı olarak 1’den 8’e kadar bir tam sayı alan ve normal bir satranç tahtasında vezirin yerini temsil eden bir fonksiyon yazın. Bu iki boyutlu 8x8 listeyi döndürün.\n",
    "\n",
    "Bu liste sıfırlar ve birlerden oluşmalı. Birler vezirin bir kare hareket ettiği pozisyonları ve sıfırlar ise hareket edemediği pozisyonları gösterir.\n",
    "\n",
    "Örnekler\n",
    "\n",
    "vezir_kontrol(\"a\", 1) ➞ [\n",
    "  [1, 0, 0, 0, 0, 0, 0, 1],\n",
    "  [1, 0, 0, 0, 0, 0, 1, 0],\n",
    "  [1, 0, 0, 0, 0, 1, 0, 0],\n",
    "  [1, 0, 0, 0, 1, 0, 0, 0],\n",
    "  [1, 0, 0, 1, 0, 0, 0, 0],\n",
    "  [1, 0, 1, 0, 0, 0, 0, 0],\n",
    "  [1, 1, 0, 0, 0, 0, 0, 0],\n",
    "  [0, 1, 1, 1, 1, 1, 1, 1]\n",
    "]\n",
    "\n",
    "vezir_kontrol(\"h\", 4) ➞ [\n",
    "  [0, 0, 0, 1, 0, 0, 0, 1],\n",
    "  [0, 0, 0, 0, 1, 0, 0, 1],\n",
    "  [0, 0, 0, 0, 0, 1, 0, 1],\n",
    "  [0, 0, 0, 0, 0, 0, 1, 1],\n",
    "  [1, 1, 1, 1, 1, 1, 1, 0],\n",
    "  [0, 0, 0, 0, 0, 0, 1, 1],\n",
    "  [0, 0, 0, 0, 0, 1, 0, 1],\n",
    "  [0, 0, 0, 0, 1, 0, 0, 1]\n",
    "]\n",
    " \n",
    "vezir_kontrol(\"c\", 8) ➞ [\n",
    "  [1, 1, 0, 1, 1, 1, 1, 1],\n",
    "  [0, 1, 1, 1, 0, 0, 0, 0],\n",
    "  [1, 0, 1, 0, 1, 0, 0, 0],\n",
    "  [0, 0, 1, 0, 0, 1, 0, 0],\n",
    "  [0, 0, 1, 0, 0, 0, 1, 0],\n",
    "  [0, 0, 1, 0, 0, 0, 0, 1],\n",
    "  [0, 0, 1, 0, 0, 0, 0, 0],\n",
    "  [0, 0, 1, 0, 0, 0, 0, 0]\n",
    "]\n",
    "Notlar:\n",
    "Vezir pozisyonda olduğu için bu sırada hareket edemeyeceğinden dolayı vezirin mevcut pozisyonu sıfırdır.\n"
   ]
  },
  {
   "cell_type": "code",
   "execution_count": 33,
   "metadata": {},
   "outputs": [],
   "source": [
    "def vezir_kontrol(sütun,satır):\n",
    "    tahta = [ [0]*8 for i in range(8) ]\n",
    "    sütun, satır = ord(sütun) - 97, abs(satır - 8)\n",
    "    \n",
    "    for i in range(8):\n",
    "        for j in range(8):\n",
    "            if i == satır or j == sütun or abs(satır-i) == abs(sütun - j):\n",
    "                tahta[i][j] = 1\n",
    "    tahta[satır][sütun]=0\n",
    "    return tahta"
   ]
  },
  {
   "cell_type": "code",
   "execution_count": 35,
   "metadata": {},
   "outputs": [
    {
     "data": {
      "text/plain": [
       "[[0, 1, 0, 0, 0, 0, 1, 0],\n",
       " [0, 1, 0, 0, 0, 1, 0, 0],\n",
       " [0, 1, 0, 0, 1, 0, 0, 0],\n",
       " [0, 1, 0, 1, 0, 0, 0, 0],\n",
       " [1, 1, 1, 0, 0, 0, 0, 0],\n",
       " [1, 0, 1, 1, 1, 1, 1, 1],\n",
       " [1, 1, 1, 0, 0, 0, 0, 0],\n",
       " [0, 1, 0, 1, 0, 0, 0, 0]]"
      ]
     },
     "execution_count": 35,
     "metadata": {},
     "output_type": "execute_result"
    }
   ],
   "source": [
    "vezir_kontrol(\"b\", 3)"
   ]
  },
  {
   "cell_type": "code",
   "execution_count": null,
   "metadata": {},
   "outputs": [],
   "source": []
  }
 ],
 "metadata": {
  "kernelspec": {
   "display_name": "Python 3",
   "language": "python",
   "name": "python3"
  },
  "language_info": {
   "codemirror_mode": {
    "name": "ipython",
    "version": 3
   },
   "file_extension": ".py",
   "mimetype": "text/x-python",
   "name": "python",
   "nbconvert_exporter": "python",
   "pygments_lexer": "ipython3",
   "version": "3.7.4"
  }
 },
 "nbformat": 4,
 "nbformat_minor": 2
}
