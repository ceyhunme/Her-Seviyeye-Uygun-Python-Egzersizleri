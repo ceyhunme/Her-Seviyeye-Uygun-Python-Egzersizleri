{
 "cells": [
  {
   "cell_type": "markdown",
   "metadata": {},
   "source": [
    "# Soru 9"
   ]
  },
  {
   "cell_type": "raw",
   "metadata": {},
   "source": [
    "Bir sayının çarpan uzunluğu toplam çarpan sayısıdır.\n",
    "\n",
    "Örneğin:\n",
    "\n",
    "3: 1, 3\n",
    "# 3’ün faktör uzunluğu = 2\n",
    "\n",
    "8: 1, 2, 4, 8\n",
    "# 8’ün faktör uzunluğu = 4\n",
    "\n",
    "36 : 1, 2, 3, 4, 6, 9, 12, 18, 36\n",
    "# 36’ün faktör uzunluğu = 9\n",
    "Faktör uzunluğunu azalan sırada listeleyen bir fonksiyon yazın. Birden fazla sayının aynı faktör sayısı varsa, önce en büyük sayı gelecek şekilde bu sayıları azalan şekilde sıralayın.\n",
    "\n",
    "Aşağıdaki örnekte 13 ve 7 sadece 2 çarpana sahip olduğu için 13 sayısı 7’nin önüne yerleştirilmiştir.\n",
    "\n",
    "factor_sort([9, 7, 13, 12]) ➞ [12, 9, 13, 7]\n",
    "# 12 : 6, 9: 3, 13: 2, 7: 2\n",
    "\n",
    "Örnekler\n",
    "\n",
    "faktör_uzunlugu([1, 2, 31, 4]) ➞ [4, 31, 2, 1]\n",
    "\n",
    "faktör_uzunlugu([5, 7, 9]) ➞ [9, 7, 5]\n",
    "\n",
    "faktör_uzunlugu([15, 8, 2, 3]) ➞ [15, 8, 3, 2]\n",
    "\n",
    "Notlar:\n",
    "Azalan sıra: daha fazla çarpan uzunluğu olan sayılar daha az çarpan uzunluğu olan sayılardan önce yazılır."
   ]
  },
  {
   "cell_type": "code",
   "execution_count": 1,
   "metadata": {},
   "outputs": [],
   "source": [
    "def faktör_uzunlugu(sayılar):\n",
    "    liste, liste2 = [],[]\n",
    "    for x in sayılar:\n",
    "        c = 0\n",
    "        for i in range(1,x+1):\n",
    "            if(x%i==0):\n",
    "                c += 1\n",
    "        liste.append([c,x])\n",
    "    liste.sort()\n",
    "    liste.reverse()\n",
    "    for j in liste:\n",
    "        liste2.append(j[1])\n",
    "    return liste2"
   ]
  },
  {
   "cell_type": "code",
   "execution_count": 2,
   "metadata": {},
   "outputs": [
    {
     "data": {
      "text/plain": [
       "[4, 31, 2, 1]"
      ]
     },
     "execution_count": 2,
     "metadata": {},
     "output_type": "execute_result"
    }
   ],
   "source": [
    "faktör_uzunlugu([1, 2, 31, 4])"
   ]
  },
  {
   "cell_type": "code",
   "execution_count": null,
   "metadata": {},
   "outputs": [],
   "source": []
  }
 ],
 "metadata": {
  "kernelspec": {
   "display_name": "Python 3",
   "language": "python",
   "name": "python3"
  },
  "language_info": {
   "codemirror_mode": {
    "name": "ipython",
    "version": 3
   },
   "file_extension": ".py",
   "mimetype": "text/x-python",
   "name": "python",
   "nbconvert_exporter": "python",
   "pygments_lexer": "ipython3",
   "version": "3.7.4"
  }
 },
 "nbformat": 4,
 "nbformat_minor": 2
}
