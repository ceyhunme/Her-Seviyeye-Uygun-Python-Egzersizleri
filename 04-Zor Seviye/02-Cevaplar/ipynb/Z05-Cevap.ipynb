{
 "cells": [
  {
   "cell_type": "markdown",
   "metadata": {},
   "source": [
    "# Soru 5"
   ]
  },
  {
   "cell_type": "raw",
   "metadata": {},
   "source": [
    "Hapishane hücreler listesi olarak temsil edilebilir. Her hücre tam olarak bir mahkum içerir. 1 kilitli olmayan hücreleri ve 0 kilitli hücreleri gösterir.\n",
    "\n",
    "[1, 1, 0, 0, 0, 1, 0]\n",
    "En soldaki hücreden başlayarak göreviniz kaç mahkumu serbest bırakabileceğinizi görmek; ancak bir bit yeniği var. Bir mahkumu serbest bıraktığınızda kilitli olan hücre açılıyor ve kilitli olmayan hücre kilitleniyor.\n",
    "\n",
    "Buna göre aşağıdaki örneği kullanırsak:\n",
    "\n",
    "[1, 1, 0, 0, 0, 1, 0] \n",
    "# 1. hücredeki mahkumu serbest bıraktınız.\n",
    "\n",
    "[0, 0, 1, 1, 1, 0, 1] \n",
    "# 3. hücredeki mahkumu serbest bıraktınız (2. hücre kilitlendi).\n",
    "\n",
    "[1, 1, 0, 0, 0, 1, 0]\n",
    "# 6. hücredeki mahkumu serbest bıraktınız (3., 4. ve 5. hücre kilitlendi).\n",
    "\n",
    "[0, 0, 1, 1, 1, 0, 1]\n",
    "# 7. hücredeki mahkumu serbest bıraktınız - ve bitti!\n",
    "Burada toplamda 4 mahkumu serbest bıraktık.\n",
    "\n",
    "Bu benzersiz hapishane düzeninde serbest bırakılan mahkum sayısını döndüren bir fonksiyon yazın.\n",
    "\n",
    "Örnekler\n",
    "\n",
    "hapishaneden_kaçış([1, 1, 0, 0, 0, 1, 0]) ➞ 4\n",
    "\n",
    "hapishaneden_kaçış([1, 1, 1]) ➞ 1\n",
    "\n",
    "hapishaneden_kaçış([0, 0, 0]) ➞ 0\n",
    "\n",
    "hapishaneden_kaçış([0, 1, 1, 1]) ➞ 0\n",
    "\n",
    "Notlar:\n",
    "*Kilitlerin dönmesi için bir mahkumu serbest bırakmanız gerekiyor. [1, 1, 1] girdisine sahip ikinci örnekte ilk mahkumu bırakında kilit [0, 0, 0] oluyor. Tüm hücreler kilitli olduğu için daha fazla mahkum serbest bırakamazsınız.\n",
    "*Her zaman en soldaki öğeden (ilk hapishane hücresi) başlamalısınız. Eğer sağınızdaki tüm hapishane hücreleri sıfırsa daha fazla mahkumu serbest bırakamazsınız.\n",
    "*İlk kapı kilitliyse mahkum serbest bırakamazsınız"
   ]
  },
  {
   "cell_type": "code",
   "execution_count": 6,
   "metadata": {},
   "outputs": [],
   "source": [
    "def hapishaneden_kaçış(mahkum):\n",
    "    if mahkum[0] == 0:\n",
    "        return (0)\n",
    "    say = 1\n",
    "    for i in range(1,len(mahkum)):\n",
    "        if mahkum[i] != mahkum[i-1]:\n",
    "            say += 1\n",
    "    return say"
   ]
  },
  {
   "cell_type": "code",
   "execution_count": 7,
   "metadata": {},
   "outputs": [
    {
     "data": {
      "text/plain": [
       "4"
      ]
     },
     "execution_count": 7,
     "metadata": {},
     "output_type": "execute_result"
    }
   ],
   "source": [
    "hapishaneden_kaçış([1, 1, 0, 0, 0, 1, 0])"
   ]
  },
  {
   "cell_type": "code",
   "execution_count": 8,
   "metadata": {},
   "outputs": [
    {
     "data": {
      "text/plain": [
       "1"
      ]
     },
     "execution_count": 8,
     "metadata": {},
     "output_type": "execute_result"
    }
   ],
   "source": [
    "hapishaneden_kaçış([1, 1, 1])"
   ]
  },
  {
   "cell_type": "code",
   "execution_count": 9,
   "metadata": {},
   "outputs": [
    {
     "data": {
      "text/plain": [
       "0"
      ]
     },
     "execution_count": 9,
     "metadata": {},
     "output_type": "execute_result"
    }
   ],
   "source": [
    "hapishaneden_kaçış([0, 1, 1, 1]) "
   ]
  },
  {
   "cell_type": "code",
   "execution_count": null,
   "metadata": {},
   "outputs": [],
   "source": []
  }
 ],
 "metadata": {
  "kernelspec": {
   "display_name": "Python 3",
   "language": "python",
   "name": "python3"
  },
  "language_info": {
   "codemirror_mode": {
    "name": "ipython",
    "version": 3
   },
   "file_extension": ".py",
   "mimetype": "text/x-python",
   "name": "python",
   "nbconvert_exporter": "python",
   "pygments_lexer": "ipython3",
   "version": "3.7.4"
  }
 },
 "nbformat": 4,
 "nbformat_minor": 2
}
