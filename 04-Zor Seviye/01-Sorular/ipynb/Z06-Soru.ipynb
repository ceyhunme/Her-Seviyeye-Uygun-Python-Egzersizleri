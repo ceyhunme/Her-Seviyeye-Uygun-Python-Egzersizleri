{
 "cells": [
  {
   "cell_type": "markdown",
   "metadata": {},
   "source": [
    "# Soru 6"
   ]
  },
  {
   "cell_type": "raw",
   "metadata": {},
   "source": [
    "Blok Adamında ana karakter sadece kutular belirli şekilde dizilirse yani her seferinde bir kutuya tırmanacak şekilde kutuya tırmanabiliyor. Daha açık ifade etmek gerekirse her seferinde sadece bir kutuda YUKARI veya AŞAĞIYA hareket edebiliyor.\n",
    "\n",
    "1'ler kutuları temsil ederken 0 ise arka planı temsil ediyor. Blok adamın ekranda verilen kısıtlara göre soldan sağa gidebildiği durumlarda True döndüren bir fonksiyon yazın.\n",
    "\n",
    "Örneğin aşağıdaki örnek yerleşimde sonuç True olmalıdır.\n",
    "\n",
    "[\n",
    "  [0, 0, 0, 0, X, 0, 0, 0, 0],\n",
    "  [0, 0, 0, X, 1, X, X, 0, 0],\n",
    "  [0, X, X, 1, 1, 1, 1, X, 0],\n",
    "  [X, 1, 1, 1, 1, 1, 1, 1, X]\n",
    "]\n",
    "Blok adam bu kutular arasında hareket edebilir (Not: X’ler sadece yürüme yolunu göstermektedir ve gerçek girdinin parçası değildir). Diğer yandan:\n",
    "\n",
    "[\n",
    "  [0, 0, 0, 0, 0, 0, 0, 0, 0],\n",
    "  [0, 0, 0, 1, 1, 0, 0, 0, 0],\n",
    "  [0, X, X, 1, 1, 1, 1, 0, 0],\n",
    "  [X, 1, 1, 1, 1, 1, 1, 1, 0]\n",
    "]\n",
    "Bu durum False döndürmelidir çünkü blok adam sütun 3’te kalır ve aynı anda 2 kutuya tırmanamaz.\n",
    "\n",
    "Örnekler\n",
    "\n",
    "blok_adam([\n",
    "  [0, 0, 0, 0, 0, 0, 0, 0, 0],\n",
    "  [0, 0, 0, 1, 0, 0, 0, 0, 0],\n",
    "  [0, 0, 1, 1, 0, 0, 1, 0, 0],\n",
    "  [0, 1, 1, 1, 1, 1, 1, 1, 0]\n",
    "]) ➞ False\n",
    "\n",
    "# Blok adam 2 blok aşağıya inemez.\n",
    "\n",
    "blok_adam([\n",
    "  [0, 0, 0, 0, 0, 0, 0, 0, 0],\n",
    "  [0, 0, 0, 1, 0, 0, 0, 0, 1],\n",
    "  [0, 0, 1, 1, 1, 0, 1, 1, 1],\n",
    "  [0, 1, 1, 1, 1, 1, 1, 1, 1]\n",
    "]) ➞ True\n",
    "\n",
    "# Not: Bazen çıkış en tepededir!\n",
    "\n",
    "blok_adam([\n",
    "  [0, 0, 0, 0, 0, 0, 0, 0, 0],\n",
    "  [0, 0, 0, 1, 0, 0, 0, 0, 0],\n",
    "  [0, 0, 1, 1, 1, 1, 1, 0, 0],\n",
    "  [0, 1, 1, 1, 1, 1, 1, 1, 0]\n",
    "]) ➞ True\n",
    "\n",
    "blok_adam([\n",
    "  [0, 0, 0, 0, 0, 0, 0, 0, 0],\n",
    "  [0, 0, 0, 1, 0, 0, 0, 0, 0],\n",
    "  [0, 1, 1, 1, 1, 1, 1, 0, 0],\n",
    "  [0, 1, 1, 1, 1, 1, 1, 1, 0]\n",
    "]) ➞ False\n",
    "\n",
    "# Blok adam 2 blok tırmanamaz."
   ]
  },
  {
   "cell_type": "code",
   "execution_count": null,
   "metadata": {},
   "outputs": [],
   "source": []
  }
 ],
 "metadata": {
  "kernelspec": {
   "display_name": "Python 3",
   "language": "python",
   "name": "python3"
  },
  "language_info": {
   "codemirror_mode": {
    "name": "ipython",
    "version": 3
   },
   "file_extension": ".py",
   "mimetype": "text/x-python",
   "name": "python",
   "nbconvert_exporter": "python",
   "pygments_lexer": "ipython3",
   "version": "3.7.4"
  }
 },
 "nbformat": 4,
 "nbformat_minor": 2
}
