{
 "cells": [
  {
   "cell_type": "markdown",
   "metadata": {},
   "source": [
    "# Soru 1"
   ]
  },
  {
   "cell_type": "raw",
   "metadata": {},
   "source": [
    "Bir n tam sayısının eklemeli devamlılığı, n sayısı tek haneli tam sayı haline gelene kadar basamaklarının toplamının n ile değiştirilme sayısını ifade eder.\n",
    "\n",
    "Bir n tam sayısının çarpan devamlılığı, n sayısı tek haneli tam sayı haline gelene kadar basamaklarının çarpımının n ile değiştirilme sayısını ifade eder.\n",
    "\n",
    "Argüman olarak bir tam sayıyı alan ve:\n",
    "\n",
    "Eklemeli devamlılığı döndüren bir fonksiyon yazın.\n",
    "Çarpan devamlılığı döndüren bir fonksiyon yazın.\n",
    "Örnek: Eklemeli Devamlılık\n",
    "additive_persistence(1679583) ➞ 3\n",
    "# 1 + 6 + 7 + 9 + 5 + 8 + 3 = 39\n",
    "# 3 + 9 = 12\n",
    "# 1 + 2 = 3\n",
    "# Tek basamaklı sayıya ulaşmak için 3 tekrar gerekiyor.\n",
    "\n",
    "additive_persistence(123456) ➞ 2\n",
    "# 1 + 2 + 3 + 4 + 5 + 6 = 21\n",
    "# 2 + 1 = 3\n",
    "\n",
    "additive_persistence(6) ➞ 0\n",
    "# 6 zaten tek basamaklı bir tam sayı.\n",
    "Örnek: Çarpan Devamlılığı\n",
    "multiplicative_persistence(77) ➞ 4\n",
    "# 7 x 7 = 49\n",
    "# 4 x 9 = 36\n",
    "# 3 x 6 = 18\n",
    "# 1 x 8 = 8\n",
    "# Tek basamaklı sayıya ulaşmak için 4 tekrar gerekiyor.\n",
    "\n",
    "multiplicative_persistence(123456) ➞ 2\n",
    "# 1 x 2 x 3 x 4 x 5 x 6 = 720\n",
    "# 7 x 2 x 0 = 0\n",
    "\n",
    "multiplicative_persistence(4) ➞ 0\n",
    "# 4 zaten tek basamaklı bir tam sayı."
   ]
  },
  {
   "cell_type": "code",
   "execution_count": null,
   "metadata": {},
   "outputs": [],
   "source": []
  }
 ],
 "metadata": {
  "kernelspec": {
   "display_name": "Python 3",
   "language": "python",
   "name": "python3"
  },
  "language_info": {
   "codemirror_mode": {
    "name": "ipython",
    "version": 3
   },
   "file_extension": ".py",
   "mimetype": "text/x-python",
   "name": "python",
   "nbconvert_exporter": "python",
   "pygments_lexer": "ipython3",
   "version": "3.7.4"
  }
 },
 "nbformat": 4,
 "nbformat_minor": 2
}
