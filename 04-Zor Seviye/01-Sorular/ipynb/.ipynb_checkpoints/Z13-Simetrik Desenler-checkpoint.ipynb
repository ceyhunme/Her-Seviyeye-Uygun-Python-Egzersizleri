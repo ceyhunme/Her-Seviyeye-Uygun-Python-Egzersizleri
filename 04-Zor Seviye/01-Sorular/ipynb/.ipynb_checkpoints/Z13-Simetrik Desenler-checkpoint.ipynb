{
 "cells": [
  {
   "cell_type": "markdown",
   "metadata": {},
   "source": [
    "# Soru 13"
   ]
  },
  {
   "cell_type": "raw",
   "metadata": {},
   "source": [
    "Kerim’in harika bir halı dükkanı var. Halıları 4 ayrı kategoride gruplamayı seviyor.\n",
    "\n",
    "mükemmel değil\n",
    "yatay olarak simetrik\n",
    "dikey olarak simetrik\n",
    "mükemmel\n",
    "\n",
    "Mükemmel olmayan halılar ne yatay ne de dikey olarak simetrik. Mükemmel olmayan halıya bir örnek:\n",
    "\n",
    "[\n",
    "  [\"a\", \"a\", \"a\", \"a\"],\n",
    "  [\"a\", \"a\", \"a\", \"a\"],\n",
    "  [\"a\", \"a\", \"b\", \"b\"]\n",
    "]\n",
    "Bir sonraki yatay olarak simetrik halı. Bu halı varsayımsal x ekseninde katlanabiliyor ve iki tarafı da eş oluyor. Yatay olarak simetrik halı dikey olarak simetrik değil (bu durumda halı mükemmel olurdu).\n",
    "\n",
    "[\n",
    "  [\"c\", \"a\", \"a\", \"a\"],\n",
    "  [\"b\", \"b\", \"b\", \"b\"]\n",
    "  [\"c\", \"a\", \"a\", \"a\"],\n",
    "]\n",
    "Bir sonraki dikey olarak simetrik halı. Bu halı varsayımsal y ekseninde katlanabiliyor ve iki tarafı da eş oluyor. Dikey olarak simetrik halı yatay olarak simetrik değil (bu durumda halı mükemmel olurdu).\n",
    "\n",
    "[\n",
    "  [\"a\", \"b\", \"a\"],\n",
    "  [\"b\", \"b\", \"b\"],\n",
    "  [\"a\", \"b\", \"a\"],\n",
    "  [\"a\", \"b\", \"a\"]\n",
    "]\n",
    "Son olarak mükemmel halı hem dikey hem de yatay olarak simetrik. Hem enine hem de boyuna katylanınca iki eş parça oluyor.\n",
    "\n",
    "[\n",
    "  [\"a\", \"b\", \"b\", \"a\"],\n",
    "  [\"b\", \"b\", \"b\", \"b\"]\n",
    "  [\"a\", \"b\", \"b\", \"a\"]\n",
    "]\n",
    "m x n boyutlarında bir halı verildiğinde halının mükemmel değil, yatay olarak simetrik, dikey olarak simetrik ya da mükemmel olup olmadığını belirleyin. Halılar iki boyutlu liste kullanarak temsil edilmiştir.\n",
    "\n",
    "Örnekler\n",
    "classify_rug([\n",
    "  [\"a\", \"a\"],\n",
    "  [\"a\", \"a\"]\n",
    "]) ➞ “mükemmel\"\n",
    "\n",
    "classify_rug([\n",
    "  [\"a\", \"a\", \"b\"],\n",
    "  [\"a\", \"a\", \"a\"],\n",
    "  [\"b\", \"a\", \"a\"]\n",
    "]) ➞ \"mükemmel değil\"\n",
    "\n",
    "classify_rug([\n",
    "  [\"b\", \"a\"],\n",
    "  [\"b\", \"a\"]\n",
    "]) ➞ \"yatay olarak simetrik\"\n",
    "\n",
    "classify_rug([\n",
    "  [\"a\", \"a\"],\n",
    "  [\"b\", \"b\"],\n",
    "]) ➞ \"dikey olarak simetrik\"\n",
    "Notlar:\n",
    "1 x n halılar yatay olarak simetrik, n x 1 olan halılar dikey olarak simetrik ve 1 x 1 olan halılar mükemmel olarak düşünülebilir."
   ]
  },
  {
   "cell_type": "code",
   "execution_count": null,
   "metadata": {},
   "outputs": [],
   "source": []
  }
 ],
 "metadata": {
  "kernelspec": {
   "display_name": "Python 3",
   "language": "python",
   "name": "python3"
  },
  "language_info": {
   "codemirror_mode": {
    "name": "ipython",
    "version": 3
   },
   "file_extension": ".py",
   "mimetype": "text/x-python",
   "name": "python",
   "nbconvert_exporter": "python",
   "pygments_lexer": "ipython3",
   "version": "3.7.4"
  }
 },
 "nbformat": 4,
 "nbformat_minor": 2
}
