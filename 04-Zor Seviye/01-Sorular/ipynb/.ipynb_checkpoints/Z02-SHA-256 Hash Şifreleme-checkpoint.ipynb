{
 "cells": [
  {
   "cell_type": "markdown",
   "metadata": {},
   "source": [
    "# Soru 2"
   ]
  },
  {
   "cell_type": "raw",
   "metadata": {},
   "source": [
    "Hash algoritmaları bir yönde çok kolay olsa da geri döndürmek imkansızdır. Örneğin password123 gibi basit bir şeyi hash algoritmasına tabi tutarsanız size o kelime ya da cümleye özel uzun bir kod verir. İdeal durumda bunu geriye döndürmek mümkün değildir. Hash kodunu alıp ilk başladığınız kelime veya cümleye geri dönemezsiniz.\n",
    "\n",
    "Bir dizi için SHA-256 güvenlik hash değerini döndüren bir fonksiyon yazın. Hash on altılı sayı dizisi formatında olmalıdır.\n",
    "\n",
    "Örnekler\n",
    "get_sha256_hash(\"password123\") ➞ \"ef92b778bafe771e89245b89ecbc08a44a4e166c06659911881f383d4473e94f\"\n",
    "\n",
    "get_sha256_hash(\"Fluffy@home\") ➞ \"dcc1ac3a7148a2d9f47b7dbe3d733040c335b2a3d8adc7984e0c483c5b2c1665\"\n",
    "\n",
    "get_sha256_hash(\"Hey ahbap!\") ➞ \"14f997f08b8ad032dcb274198684f995d34043f9da00acd904dc72836359ae0f\"\n"
   ]
  },
  {
   "cell_type": "code",
   "execution_count": null,
   "metadata": {},
   "outputs": [],
   "source": []
  }
 ],
 "metadata": {
  "kernelspec": {
   "display_name": "Python 3",
   "language": "python",
   "name": "python3"
  },
  "language_info": {
   "codemirror_mode": {
    "name": "ipython",
    "version": 3
   },
   "file_extension": ".py",
   "mimetype": "text/x-python",
   "name": "python",
   "nbconvert_exporter": "python",
   "pygments_lexer": "ipython3",
   "version": "3.7.4"
  }
 },
 "nbformat": 4,
 "nbformat_minor": 2
}
