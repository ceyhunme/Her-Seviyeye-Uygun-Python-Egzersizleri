{
 "cells": [
  {
   "cell_type": "markdown",
   "metadata": {},
   "source": [
    "# Soru 7"
   ]
  },
  {
   "cell_type": "raw",
   "metadata": {},
   "source": [
    "Sütun sayısı olarak a’dan h’ye bir karakter, satır sayısı olarak 1’den 8’e kadar bir tam sayı alan ve normal bir satranç tahtasında vezirin yerini temsil eden bir fonksiyon yazın. Bu iki boyutlu 8x8 listeyi döndürün.\n",
    "\n",
    "Bu liste sıfırlar ve birlerden oluşmalı. Birler vezirin bir kare hareket ettiği pozisyonları ve sıfırlar ise hareket edemediği pozisyonları gösterir.\n",
    "\n",
    "Örnekler\n",
    "\n",
    "check_board(\"a\", 1) ➞ [\n",
    "  [1, 0, 0, 0, 0, 0, 0, 1],\n",
    "  [1, 0, 0, 0, 0, 0, 1, 0],\n",
    "  [1, 0, 0, 0, 0, 1, 0, 0],\n",
    "  [1, 0, 0, 0, 1, 0, 0, 0],\n",
    "  [1, 0, 0, 1, 0, 0, 0, 0],\n",
    "  [1, 0, 1, 0, 0, 0, 0, 0],\n",
    "  [1, 1, 0, 0, 0, 0, 0, 0],\n",
    "  [0, 1, 1, 1, 1, 1, 1, 1]\n",
    "]\n",
    "\n",
    "check_board(\"h\", 4) ➞ [\n",
    "  [0, 0, 0, 1, 0, 0, 0, 1],\n",
    "  [0, 0, 0, 0, 1, 0, 0, 1],\n",
    "  [0, 0, 0, 0, 0, 1, 0, 1],\n",
    "  [0, 0, 0, 0, 0, 0, 1, 1],\n",
    "  [1, 1, 1, 1, 1, 1, 1, 0],\n",
    "  [0, 0, 0, 0, 0, 0, 1, 1],\n",
    "  [0, 0, 0, 0, 0, 1, 0, 1],\n",
    "  [0, 0, 0, 0, 1, 0, 0, 1]\n",
    "]\n",
    " \n",
    "check_board(\"c\", 8) ➞ [\n",
    "  [1, 1, 0, 1, 1, 1, 1, 1],\n",
    "  [0, 1, 1, 1, 0, 0, 0, 0],\n",
    "  [1, 0, 1, 0, 1, 0, 0, 0],\n",
    "  [0, 0, 1, 0, 0, 1, 0, 0],\n",
    "  [0, 0, 1, 0, 0, 0, 1, 0],\n",
    "  [0, 0, 1, 0, 0, 0, 0, 1],\n",
    "  [0, 0, 1, 0, 0, 0, 0, 0],\n",
    "  [0, 0, 1, 0, 0, 0, 0, 0]\n",
    "]\n",
    "Notlar:\n",
    "Vezir pozisyonda olduğu için bu sırada hareket edemeyeceğinden dolayı vezirin mevcut pozisyonu sıfırdır.\n"
   ]
  },
  {
   "cell_type": "code",
   "execution_count": null,
   "metadata": {},
   "outputs": [],
   "source": []
  },
  {
   "cell_type": "code",
   "execution_count": null,
   "metadata": {},
   "outputs": [],
   "source": []
  }
 ],
 "metadata": {
  "kernelspec": {
   "display_name": "Python 3",
   "language": "python",
   "name": "python3"
  },
  "language_info": {
   "codemirror_mode": {
    "name": "ipython",
    "version": 3
   },
   "file_extension": ".py",
   "mimetype": "text/x-python",
   "name": "python",
   "nbconvert_exporter": "python",
   "pygments_lexer": "ipython3",
   "version": "3.7.4"
  }
 },
 "nbformat": 4,
 "nbformat_minor": 2
}
