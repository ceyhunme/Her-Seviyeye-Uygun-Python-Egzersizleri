{
 "cells": [
  {
   "cell_type": "markdown",
   "metadata": {},
   "source": [
    "# Soru 15"
   ]
  },
  {
   "cell_type": "raw",
   "metadata": {},
   "source": [
    "Her kovada n ya da daha az karakter olacak şekilde bir cümleyi kelime kovalarına bölen bir fonksiyon yazın. Sadece her kovada bulunan kelimeleri dahil edin.\n",
    "\n",
    "Örnekler\n",
    "split_into_buckets(\"she sells sea shells by the sea\", 10)\n",
    "➞ [\"she sells\", \"sea shells\", \"by the sea\"]\n",
    "\n",
    "split_into_buckets(\"the mouse jumped over the cheese\", 7)\n",
    "➞ [\"the\", \"mouse\", \"jumped\", \"over\", \"the\", \"cheese\"]\n",
    "\n",
    "split_into_buckets(\"fairy dust coated the air\", 20)\n",
    "➞ [\"fairy dust coated\", \"the air\"]\n",
    "\n",
    "split_into_buckets(\"a b c d e\", 2)\n",
    "➞ [\"a\", \"b\", \"c\", \"d\", \"e\"]\n",
    "\n",
    "Notlar:\n",
    "\n",
    "Boşluklar bir karakter olarak sayılır.\n",
    "Her kelime kovası için bal ve son boşlukları kesin (bkz. son örnek).\n",
    "Eğer kova bir kelimeyi tutmak için çok küçükse boş liste döndürün: []\n",
    "Nihai amaç sadece verilen n uzunluğuna eşit (veya daha kısa) kelimeleri döndürmek değil, (mümkünse) kovada yer alan tüm cümleleri döndürmektir. Bu nedenle uygun uzunluktaki tek kelime olan “by” özel durumunda cümle kovaya aktarılamaz ve boş liste olarak döner.\n"
   ]
  },
  {
   "cell_type": "code",
   "execution_count": null,
   "metadata": {},
   "outputs": [],
   "source": []
  }
 ],
 "metadata": {
  "kernelspec": {
   "display_name": "Python 3",
   "language": "python",
   "name": "python3"
  },
  "language_info": {
   "codemirror_mode": {
    "name": "ipython",
    "version": 3
   },
   "file_extension": ".py",
   "mimetype": "text/x-python",
   "name": "python",
   "nbconvert_exporter": "python",
   "pygments_lexer": "ipython3",
   "version": "3.7.4"
  }
 },
 "nbformat": 4,
 "nbformat_minor": 2
}
