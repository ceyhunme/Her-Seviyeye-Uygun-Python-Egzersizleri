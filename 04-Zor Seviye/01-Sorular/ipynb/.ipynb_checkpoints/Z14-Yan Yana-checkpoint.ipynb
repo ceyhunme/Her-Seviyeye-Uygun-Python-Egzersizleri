{
 "cells": [
  {
   "cell_type": "markdown",
   "metadata": {},
   "source": [
    "# Soru 14"
   ]
  },
  {
   "cell_type": "raw",
   "metadata": {},
   "source": [
    "Aynı “türden” iki blok yan yana olursa, tüm bulaşıcı blok kaybolur (çıkar). Bu meydana geldiğinde bu durum daha önceden ayrı olan blokların birbirine temas etmesine ve zincirleme reaksiyon başlatmasına izin verir. Her blok farklı bir blokla çevrelenene kadar devam eder.\n",
    "\n",
    "İşte bir örnek:\n",
    "\n",
    "[\"A\", \"B\", \"C\", \"C\", \"B\", \"D\", \"A\"]\n",
    "# Yan yana olan iki C çıkar\n",
    "\n",
    "[\"A\", \"B\", \"B\", \"D\", \"A\"]\n",
    "# Yan yana olan iki B çıkar\n",
    "\n",
    "[\"A\", \"D\", \"A\"]\n",
    "# Çıkan blok yok\n",
    "Başka bir örnek:\n",
    "\n",
    "[\"A\", \"B\", \"A\", \"A\", \"A\", \"B\", \"B\"]\n",
    "# Yan yana olan üç A çıkar\n",
    "# (yan yana olan iki B’den önce)\n",
    "\n",
    "[\"A\", \"B\", \"B\", \"B\"]\n",
    "# Yan yana olan üç B çıkar\n",
    "\n",
    "[\"A\"]\n",
    "# Sonuç\n",
    "Örnekler\n",
    "final_result([\"B\", \"B\", \"A\", \"C\", \"A\", \"A\", \"C\"]) ➞ [\"A\"]\n",
    "\n",
    "final_result([\"B\", \"B\", \"C\", \"C\", \"A\", \"A\", \"A\"]) ➞ []\n",
    "\n",
    "final_result([\"C\", \"A\", \"C\"]) ➞ [\"C\", \"A\", \"C\"]\n",
    "Notlar:\n",
    "İlk sırada birden fazla çıkabilir blok varsa çıkma soldan başlar."
   ]
  },
  {
   "cell_type": "code",
   "execution_count": null,
   "metadata": {},
   "outputs": [],
   "source": []
  }
 ],
 "metadata": {
  "kernelspec": {
   "display_name": "Python 3",
   "language": "python",
   "name": "python3"
  },
  "language_info": {
   "codemirror_mode": {
    "name": "ipython",
    "version": 3
   },
   "file_extension": ".py",
   "mimetype": "text/x-python",
   "name": "python",
   "nbconvert_exporter": "python",
   "pygments_lexer": "ipython3",
   "version": "3.7.4"
  }
 },
 "nbformat": 4,
 "nbformat_minor": 2
}
