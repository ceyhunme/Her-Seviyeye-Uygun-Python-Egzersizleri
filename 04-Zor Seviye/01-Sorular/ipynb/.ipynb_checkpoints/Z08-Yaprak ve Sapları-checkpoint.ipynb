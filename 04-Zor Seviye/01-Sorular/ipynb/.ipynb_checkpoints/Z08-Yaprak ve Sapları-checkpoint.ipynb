{
 "cells": [
  {
   "cell_type": "markdown",
   "metadata": {},
   "source": [
    "# Soru 8"
   ]
  },
  {
   "cell_type": "raw",
   "metadata": {},
   "source": [
    "İstatistikte gövde ve yaprak gösterimi, küçük değer setlerine uygulanan veri seti değer dağılım gösterimidir. Bu egzersizde aşağıdaki adımları izleyerek pozitif tam sayı değerleri için basit bir grafik oluşturacağız.\n",
    "\n",
    "1) Her değeri iki bölüme ayırmanız gerekiyor: gövde son basamak hariç tüm sayı basamaklarına eşitken yaprak ise son basamağa eşit olacak. 0-9 sayı aralığı için başlangıca “0” eklemelisiniz. Örnek:\n",
    "\n",
    "4872: gövde “487” ve yaprak “2”.\n",
    "429: gövde “42” ve yaprak “9”.\n",
    "85: gövde “8” ve yaprak “5”.\n",
    "1: gövde “0” ve yaprak “1”.\n",
    "2) Verileri tekrarlamadan artan sırada gövdeleri ve artan sırada her gövdedeki her uygun yaprağı gösterin. Veri seti örnekleri 22, 22, 13, 11, 11 içeriyor:\n",
    "\n",
    "Gövdeler 1 ve 2 (artan sırada tekrarsız)\n",
    "Gövde 1 için yapraklar 1, 1 ve 3 (artan sırada her yaprak) ve gövde 2 için yapraklar 2 ve 2.\n",
    "Pozitif tam sayılar listesi verildiğinde gövde ve yaprak gösterimini dizi listesi olarak her gövde için bir tane olacak şekilde döndürmelisiniz: diziler gövde ve yapraklar “ | ” (boşluklar dahil) ayrılacak şekilde ve yapraklar ise boşlukla ayrılmış olarak artan şekilde gösterilmelidir.\n",
    "\n",
    "Örnekler\n",
    "stem_plot([111, 11, 1]) ➞ [\"0 | 1\", \"1 | 1\", \"11 | 1\"]\n",
    "\n",
    "stem_plot([4, 8, 75]) ➞ [\"0 | 4 8\", \"7 | 5\"]\n",
    "\n",
    "stem_plot([22, 22, 38, 22, 19]) ➞ [\"1 | 9\", \"2 | 2 2 2\", \"3 | 8\"]\n",
    "\n",
    "Notlar:\n",
    "Verilen her liste geçerlidir ve sadece pozitif tam sayılardan oluşmaktadır (istisna yok).\n",
    "Baştaki ve sonraki sıfırlara dikkat edin.\n",
    "Gövde ve yaprak gösterimiyle ilgili daha fazla bilgiyi Kaynaklar sekmesinde bulabilirsiniz."
   ]
  },
  {
   "cell_type": "code",
   "execution_count": null,
   "metadata": {},
   "outputs": [],
   "source": []
  }
 ],
 "metadata": {
  "kernelspec": {
   "display_name": "Python 3",
   "language": "python",
   "name": "python3"
  },
  "language_info": {
   "codemirror_mode": {
    "name": "ipython",
    "version": 3
   },
   "file_extension": ".py",
   "mimetype": "text/x-python",
   "name": "python",
   "nbconvert_exporter": "python",
   "pygments_lexer": "ipython3",
   "version": "3.7.4"
  }
 },
 "nbformat": 4,
 "nbformat_minor": 2
}
