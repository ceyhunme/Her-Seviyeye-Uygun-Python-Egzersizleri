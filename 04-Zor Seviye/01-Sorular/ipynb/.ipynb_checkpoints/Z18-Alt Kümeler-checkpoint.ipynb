{
 "cells": [
  {
   "cell_type": "markdown",
   "metadata": {},
   "source": [
    "# Soru 18"
   ]
  },
  {
   "cell_type": "raw",
   "metadata": {},
   "source": [
    "Tüm alt listeleri belirli bir değere toplayan listeye döndüren bir fonksiyon yazın. Alt listeleri aşağıdaki sırada döndürün:\n",
    "\n",
    "İlk olarak artan uzunlukta sıralayın.\n",
    "İkinci olarak en soldan başlayarak eleman-eleman olarak karşılaştırarak sıralayın. İkili karşılaştırmalarla ilk olarak en küçük elemanı listeye koyun.\n",
    "Aşağıdaki örnek nasıl yapılacağını gösterecektir:\n",
    "\n",
    "get_subsets([-3, -2, -1, 0, 1, 2, 3], 2)\n",
    "[ # Aşağıdaki tüm alt setlerin toplamı 2.\n",
    "  [2],\n",
    "  [-1, 3],\n",
    "  [0, 2], # Aynı uzunluk: -1 < 0, bu nedenle [-1, 3] [0, 2]’den önce gelir.\n",
    "  [-3, 2, 3],\n",
    "  [-2, 1, 3],\n",
    "  [-1, 0, 3],\n",
    "  [-1, 1, 2],\n",
    "  [-3, 0, 2, 3],\n",
    "  [-2, -1, 2, 3],\n",
    "  [-2, 0, 1, 3], # Aynı uzunluk + aynı ilk eleman -1 < 0, bu nedenle [-2, -1, 2, 3] [-2, 0, 1, 3]’den önce gelir.\n",
    "  [-1, 0, 1, 2],\n",
    "  [-3, -1, 1, 2, 3],\n",
    "  [-2, -1, 0, 2, 3],\n",
    "  [-3, -1, 0, 1, 2, 3]\n",
    "]\n",
    "\n",
    "Örnekler\n",
    "\n",
    "get_subsets([-1, 0, 1, 2], 2) ➞ [[2], [0, 2], [-1, 1, 2], [-1, 0, 1, 2]]\n",
    "\n",
    "get_subsets([-1, 0, 1, 2], 3) ➞ [[1, 2], [0, 1, 2]]\n",
    "\n",
    "get_subsets([1, 2, 3, 4], 5) ➞ [[1, 4], [2, 3]]\n",
    "\n",
    "get_subsets([-1, 0, 1, 2], 4) ➞ []\n",
    "\n",
    "Notlar:\n",
    "Listelerde benzersiz sayılar bulunur.\n",
    "Sayıların toplamı değere karşılık gelmeyen alt setlerin olduğu durumlarda boşa dönün (dördüncü örnek)."
   ]
  },
  {
   "cell_type": "code",
   "execution_count": null,
   "metadata": {},
   "outputs": [],
   "source": []
  }
 ],
 "metadata": {
  "kernelspec": {
   "display_name": "Python 3",
   "language": "python",
   "name": "python3"
  },
  "language_info": {
   "codemirror_mode": {
    "name": "ipython",
    "version": 3
   },
   "file_extension": ".py",
   "mimetype": "text/x-python",
   "name": "python",
   "nbconvert_exporter": "python",
   "pygments_lexer": "ipython3",
   "version": "3.7.4"
  }
 },
 "nbformat": 4,
 "nbformat_minor": 2
}
