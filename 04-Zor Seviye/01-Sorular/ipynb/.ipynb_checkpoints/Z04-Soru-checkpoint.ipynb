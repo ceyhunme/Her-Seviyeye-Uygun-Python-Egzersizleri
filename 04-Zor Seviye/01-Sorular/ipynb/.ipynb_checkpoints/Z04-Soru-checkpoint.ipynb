{
 "cells": [
  {
   "cell_type": "markdown",
   "metadata": {},
   "source": [
    "# Soru 4"
   ]
  },
  {
   "cell_type": "raw",
   "metadata": {},
   "source": [
    "Kelime değeri her karakterin sayısal değerlerinin toplanması ile elde edilir (boşluk ve noktalama işaretleri hariç): harflere 1 (“a”) ila 26 (“z”) (İngilizce dili) arasında bir değer verilir iken sayılar ise 0 ila 9 arasında gerçek değerler alırlar. Cümle değeri kelimelerin değerlerinin toplamıdır.\n",
    "\n",
    "cümle = “ABC ! abc ... @ 123\"\n",
    "# Boşlukları, noktalama işaretlerini ve sembolleri çıkarın.\n",
    "\n",
    "cümle = [\"ABC\", \"abc\", \"123\"]\n",
    "\n",
    "kelimelerin değerleri = \"ABC\" = 1+2+3 = 6 | \"abc\" = 1+2+3 = 6 | \"123\" = 1+2+3 = 6\n",
    "\n",
    "cümle değeri = 6 + 6 + 6 = 18\n",
    "Bir cümle dizisi verildiğinde aşağıdaki sonucu döndüren bir fonksiyon yazın:\n",
    "\n",
    "Orijinal cümle değeri asal ise Asal Cümle.\n",
    "\n",
    "Cümle değeri asal değilse ama bir kelime çıkarıldıktan sonra yeni cümle değeri asalsa (daha iyi bir açıklamak için örnek 2’ye bakın) Neredeyse Asal Cümle. Ayrıca parantez içerisinde çıkardığınız kelimeyi yazmanız gerekmektedir.\n",
    "\n",
    "Cümle değeri asal değilse ve yeni cümle değerinin asal olması için birden fazla kelimenin çıkarılması gerekiyorsa (ya da asal olmuyorsa) Kompozit Cümle.\n",
    "\n",
    "Harf değerleri büyük harf-küçük harf duyarlı değildir (\"aZ\" = \"Az\" = 1 + 26 = 27); sayılar kelime olarak ele alınır (\"123\" = 1+2+3 = 6).\n",
    "\n",
    "Örnekler\n",
    "kelime_asallığı(\"Help me!\") ➞ \"Asal Cümle\"\n",
    "# \"Help\" + \"me\" = 41 + 18 = 59 (asal)\n",
    "\n",
    "kelime_asallığı(\"42 is THE aNsWeR...\") ➞ \"Nerdeyse Asal Cümle (aNsWeR)\n",
    "# \"42\" + \"is\" + \"THE\" + \"aNsWeR\" = 6 + 28 + 33 + 80 = 147 (asal değil)\n",
    "# “42” olmadan yeni değer 141\n",
    "# “is” olmadan yeni değer 119\n",
    "# “THE” olmadan yeni değer 114\n",
    "# “aNsWeR” olmadan yeni değer 67\n",
    "# Eğer “aNsWeR” kelimesi çıkarılırsa yeni değer asal olur.\n",
    "\n",
    "kelime_asallığı(\"Did you smoke?\") ➞ \"Kompozit Cümle\"\n",
    "# \"Did\" + \"you\" + \"smoke\" = 17 + 61 + 63 = 141 (asal değil)\n",
    "# “Did” olmadan yeni değer 124\n",
    "# “you” olmadan yeni değer 80\n",
    "# “smoke” olmadan yeni değer 78\n",
    "# Kelimelerin çıkarılması yeni cümle değerini asal yapmıyor\n",
    "\n",
    "Notlar:\n",
    "Sadece harfler ve sayılar cümlenin parçası.\n",
    "Eğer Neredeyse Asal Cümleyse, parantezler arasında çıkarılan kelime orijinal cümle ile aynı büyük harf-küçük harf şekline sahip olmalıdır (bkz. örnek 2).\n",
    "Eğer sadece bir kelime çıkarılarak birden fazla kelimeyi çıkarmaya gerek duymadan bir cümle değeri asal oluyorsa o cümle Neredeyse Asaldır.\n",
    "Sayılarla ilgili kuralı unutmayın: “10” bir kelimedir ve bu nedenle değeri 10 değil 1+0 şeklindedir.\n",
    "\n"
   ]
  },
  {
   "cell_type": "code",
   "execution_count": null,
   "metadata": {},
   "outputs": [],
   "source": []
  }
 ],
 "metadata": {
  "kernelspec": {
   "display_name": "Python 3",
   "language": "python",
   "name": "python3"
  },
  "language_info": {
   "codemirror_mode": {
    "name": "ipython",
    "version": 3
   },
   "file_extension": ".py",
   "mimetype": "text/x-python",
   "name": "python",
   "nbconvert_exporter": "python",
   "pygments_lexer": "ipython3",
   "version": "3.7.4"
  }
 },
 "nbformat": 4,
 "nbformat_minor": 2
}
