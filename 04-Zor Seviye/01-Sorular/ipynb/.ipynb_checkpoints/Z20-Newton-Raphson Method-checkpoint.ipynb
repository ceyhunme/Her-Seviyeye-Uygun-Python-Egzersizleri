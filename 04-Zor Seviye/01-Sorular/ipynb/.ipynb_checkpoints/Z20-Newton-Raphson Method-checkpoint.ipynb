{
 "cells": [
  {
   "cell_type": "markdown",
   "metadata": {},
   "source": [
    "# Soru 20"
   ]
  },
  {
   "cell_type": "raw",
   "metadata": {},
   "source": [
    "Polinom eğrisinin köklerini bulan bir fonksiyon yazın. Bunu Newton-Raphson yöntemiyle yapın.\n",
    "\n",
    "Girdiniz üç derece polinom için katsayı listesi olacak: c(0)x^3 + c(1)x^2 + c(2)*x + c(3).\n",
    "Cevabınızı virgülden sonraki en yakın üçüncü basamağa yuvarlayın (en yakın 0,001). İlk tahmin olarak x = 0,0 seçin. Doğruluk için yirmi tekrarlı algoritma yeterlidir.\n",
    "Newton-Raphson yönetim genel 'df/dx’ türevini kullanır. Bu polinom olarak analitik şekilde hesaplanabilir veya küçük dx adımları (0,0001 gibi) kullanarak sayısal olarak hesaplanabilir. Daha fazla bilgi için Kaynaklar sekmesine bakın.\n",
    "\n",
    "Örnekler\n",
    "newton_raphson([0.0, -0.1, -0.2, 0.3]) ➞ 1.000\n",
    "\n",
    "newton_raphson([-0.1, 0.4, 0.1, -0.8]) ➞ 3.681\n",
    "\n",
    "newton_raphson([0.2, -0.6, 1.5, -2.7]) ➞ 2.295"
   ]
  },
  {
   "cell_type": "code",
   "execution_count": null,
   "metadata": {},
   "outputs": [],
   "source": []
  }
 ],
 "metadata": {
  "kernelspec": {
   "display_name": "Python 3",
   "language": "python",
   "name": "python3"
  },
  "language_info": {
   "codemirror_mode": {
    "name": "ipython",
    "version": 3
   },
   "file_extension": ".py",
   "mimetype": "text/x-python",
   "name": "python",
   "nbconvert_exporter": "python",
   "pygments_lexer": "ipython3",
   "version": "3.7.4"
  }
 },
 "nbformat": 4,
 "nbformat_minor": 2
}
