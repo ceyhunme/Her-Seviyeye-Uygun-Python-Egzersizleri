{
 "cells": [
  {
   "cell_type": "markdown",
   "metadata": {},
   "source": [
    "# Soru 10"
   ]
  },
  {
   "cell_type": "raw",
   "metadata": {},
   "source": [
    "Size beş kartlık bir koleksiyon verilecektir. Eliniz en az bir çift içeriyorsa, iki öğeden oluşan bir liste döndürün: Doğru ve en yüksek çiftin kart numarası (yalnızca bir tek çift varsa önemsizdir). Eğer çift yoksa False dönün.\n",
    "\n",
    "en_yüksek_çift([\"A\", \"A\", \"Q\", \"Q\", \"6\" ]) ➞ [True, \"A\"]\n",
    "\n",
    "en_yüksek_çift([\"J\", \"6\", \"3\", \"10\", \"8\"]) ➞ False\n",
    "\n",
    "en_yüksek_çift([\"K\", \"7\", \"3\", \"9\", \"3\"]) ➞ [True, 3]\n",
    "\n",
    "en_yüksek_çift([\"K\", \"9\", \"10\", \"J\", \"Q\"]) ➞ False\n",
    "\n",
    "en_yüksek_çift([\"3\", \"5\", \"5\", \"5\", \"5\"]) ➞ [True, 5]\n",
    "\n",
    "* A 'nın en değerli kart olduğunu unutmayın"
   ]
  },
  {
   "cell_type": "code",
   "execution_count": null,
   "metadata": {},
   "outputs": [],
   "source": []
  }
 ],
 "metadata": {
  "kernelspec": {
   "display_name": "Python 3",
   "language": "python",
   "name": "python3"
  },
  "language_info": {
   "codemirror_mode": {
    "name": "ipython",
    "version": 3
   },
   "file_extension": ".py",
   "mimetype": "text/x-python",
   "name": "python",
   "nbconvert_exporter": "python",
   "pygments_lexer": "ipython3",
   "version": "3.7.4"
  }
 },
 "nbformat": 4,
 "nbformat_minor": 2
}
