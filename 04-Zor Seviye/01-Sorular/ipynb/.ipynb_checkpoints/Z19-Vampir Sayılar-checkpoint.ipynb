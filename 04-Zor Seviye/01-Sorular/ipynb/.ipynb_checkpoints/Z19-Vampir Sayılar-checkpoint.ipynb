{
 "cells": [
  {
   "cell_type": "markdown",
   "metadata": {},
   "source": [
    "# Soru 19"
   ]
  },
  {
   "cell_type": "raw",
   "metadata": {},
   "source": [
    "Vampir Sayı, tüm olası basamak permütasyonunda yeninden düzenlenebilen, her permütasyonu iki parçaya ayrılabilen ve permütasyonlarından en az birinin çarpımına eşit olan 99’dan büyük pozitif tam sayıdır.\n",
    "\n",
    "Eğer sayının çift basamağı varsa, sol ve sağ bölümleri her permütasyonda aynı uzunluğu sahip olacaktır.\n",
    "Eğer sayının basamak sayısı tekse ve en az üç basamaktan oluşuyorsa, sol ve sağ bölümleri her olası permütasyonda farklı uzunluklar temsil edilerek +1 ve -1 aralığında değişir.\n",
    "Bir n pozitif tamsayısı için aşağıdaki dizi şeklinde n sayısını döndüren bir fonksiyon yazın:\n",
    "\n",
    "n 100’den küçükse ve n’e eşit parçalara dönen permütasyon çarpanı yoksa “Normal Sayı”.\n",
    "n tek basamak sayısına sahipse “Psödovampir”\n",
    "n çift basamak sayısına sahipse “Gerçek Vampir”\n",
    "Örnekler\n",
    "is_vampire(1260) ➞ \"Gerçek Vampir\"\n",
    "# çift basamak sayısı var ve 99’dan büyük.\n",
    "# Permutasyonlar:\n",
    "# 12 * 60 = 720\n",
    "# 16 * 20 = 320\n",
    "# 10 * 26 = 260\n",
    "# 21 * 60 = 1260\n",
    "\n",
    "is_vampire(126) ➞ \"Psödovampir\"\n",
    "# tek basamak sayısı var ve 99’dan büyük.\n",
    "# Permutasyonlar:\n",
    "# 12 * 6 = 72\n",
    "# 1 * 26 = 26\n",
    "# 21 * 6 = 126\n",
    "\n",
    "is_vampire(67) ➞ \"Normal Sayı\"\n",
    "# 100’den küçük\n",
    "# Permutasyonlar:\n",
    "# 6 * 7 = 7 * 6 = 42\n",
    "\n",
    "Notlar:\n",
    "1 ila 99 arasındaki bir sayı tanım itibariyle Normal Sayıdır: tek basamaklı bir sayı iki bölüme ayrılamaz ve iki basamaklı sayıların permütasyonlu çarpımı ise her zaman kendisinden daha küçük bir sayı olur.\n"
   ]
  },
  {
   "cell_type": "code",
   "execution_count": null,
   "metadata": {},
   "outputs": [],
   "source": []
  }
 ],
 "metadata": {
  "kernelspec": {
   "display_name": "Python 3",
   "language": "python",
   "name": "python3"
  },
  "language_info": {
   "codemirror_mode": {
    "name": "ipython",
    "version": 3
   },
   "file_extension": ".py",
   "mimetype": "text/x-python",
   "name": "python",
   "nbconvert_exporter": "python",
   "pygments_lexer": "ipython3",
   "version": "3.7.4"
  }
 },
 "nbformat": 4,
 "nbformat_minor": 2
}
