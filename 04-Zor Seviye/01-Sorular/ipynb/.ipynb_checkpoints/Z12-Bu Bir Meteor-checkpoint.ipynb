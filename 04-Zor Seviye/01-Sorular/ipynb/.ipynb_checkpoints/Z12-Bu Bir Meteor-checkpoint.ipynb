{
 "cells": [
  {
   "cell_type": "markdown",
   "metadata": {},
   "source": [
    "# Soru 12"
   ]
  },
  {
   "cell_type": "raw",
   "metadata": {},
   "source": [
    "Bir video oyununda ana karakterin gezegenine bir meteor düşüyor. Meteorun rotası y = mx + b formunda bir dizi olarak verildiğinde ve ana karakterin pozisyonu ise (x, y) olarak verildiğinde meteorun ana karaktere çarpacağı durumları True, çarpmayacağı durumları False olarak döndürün.\n",
    "\n",
    "Örnekler\n",
    "\n",
    "will_hit(\"y = 2x - 5\", (0, 0)) ➞ False\n",
    "will_hit(\"y = -4x + 6\", (1, 2)) ➞ True\n",
    "\n",
    "Notlar:\n",
    "\n",
    "b değeri asla sıfır ya da boş olmayacak.\n",
    "m değeri her zaman tam sayı olacak.\n",
    "Eğer m değeri 1 ise “1” gösterilecek.\n",
    "Örneğin “y = x + 5” durumu “y = 1x + 5” olarak gösterilecek.\n",
    "Eğer m değeri -1 ise “-1” gösterilecek.\n",
    "Örneğin “y = -x + 2” durumu “y = -1x + 2” olarak gösterilecek.\n"
   ]
  },
  {
   "cell_type": "code",
   "execution_count": null,
   "metadata": {},
   "outputs": [],
   "source": []
  }
 ],
 "metadata": {
  "kernelspec": {
   "display_name": "Python 3",
   "language": "python",
   "name": "python3"
  },
  "language_info": {
   "codemirror_mode": {
    "name": "ipython",
    "version": 3
   },
   "file_extension": ".py",
   "mimetype": "text/x-python",
   "name": "python",
   "nbconvert_exporter": "python",
   "pygments_lexer": "ipython3",
   "version": "3.7.4"
  }
 },
 "nbformat": 4,
 "nbformat_minor": 2
}
