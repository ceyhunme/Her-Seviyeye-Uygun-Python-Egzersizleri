{
 "cells": [
  {
   "cell_type": "markdown",
   "metadata": {},
   "source": [
    "# Soru 11"
   ]
  },
  {
   "cell_type": "raw",
   "metadata": {},
   "source": [
    "Bir sayı, eğer (1’den büyük çarpanlar dahil olacak şekilde) asal çarpanlarına ayırınca basamak sayısı sayının kendi basamak sayısına eşit ya da küçükse o sayı Ekonomik olarak adlandırılır.\n",
    "\n",
    "n tam sayısı için aşağıdaki diziyi döndüren bir fonksiyon yazın:\n",
    "\n",
    "Eğer (1’den büyük çarpanlar dahil olacak şekilde) asal çarpanlarına ayırınca basamak sayısı sayının kendi basamak sayısına eşit “Eşit Basamaklı”\n",
    "Eğer (1’den büyük çarpanlar dahil olacak şekilde) asal çarpanlarına ayırınca basamak sayısı sayının kendi basamak sayısına küçükse “İdareli”\n",
    "Yukarıdaki iki koşula da uymuyorsa “Savurgan”.\n",
    "Örnekler\n",
    "is_economical(14) ➞ \"Eşit Basamaklı\"\n",
    "# 14’ün (2 basamaklı) asal çarpanları [2, 7] (2 basamaklı)\n",
    "# 1’e eşit olan çarpanlar sayılmıyor\n",
    "\n",
    "is_economical(125) ➞ \"İdareli\"\n",
    "# 125’ün (3 basamaklı) asal çarpanları [5, 7] (2 basamaklı)\n",
    "# 1’den büyük olanlar sayılıyor.\n",
    "\n",
    "is_economical(1024) ➞ \"İdareli\"\n",
    "# 1024’ün (4 basamaklı) asal çarpanları [2, 7] (3 basamaklı)\n",
    "\n",
    "is_economical(30) ➞ \"Savurgan\"\n",
    "# 30’ün (2 basamaklı) asal çarpanları [2, 5] (3 basamaklı)\n",
    "\n",
    "Notlar:\n",
    "n sayısı 1’den büyük pozitif tam sayı olacak.\n",
    "1’den büyük çarpanları asal sayı çarpanlarına ayırma sürecinde saymayı unutmayın: 2¹ = 2 (bir basamaklı), 2² = 22 (iki basamaklı), 2¹° = 210 (üç basamaklı)..."
   ]
  },
  {
   "cell_type": "code",
   "execution_count": null,
   "metadata": {},
   "outputs": [],
   "source": []
  }
 ],
 "metadata": {
  "kernelspec": {
   "display_name": "Python 3",
   "language": "python",
   "name": "python3"
  },
  "language_info": {
   "codemirror_mode": {
    "name": "ipython",
    "version": 3
   },
   "file_extension": ".py",
   "mimetype": "text/x-python",
   "name": "python",
   "nbconvert_exporter": "python",
   "pygments_lexer": "ipython3",
   "version": "3.7.4"
  }
 },
 "nbformat": 4,
 "nbformat_minor": 2
}
