{
 "cells": [
  {
   "cell_type": "markdown",
   "metadata": {},
   "source": [
    "# Soru 17"
   ]
  },
  {
   "cell_type": "raw",
   "metadata": {},
   "source": [
    "Labirent 2 boyutlu matris olarak temsil edilmiştir; 0’lar yürünebilir alanları gösterirken 1’ler ise duvarları temsil etmektedir. Sol üst kenardan yürümeye başlarsınız ve en alt sağdaki hücreden çıkarsınız.\n",
    "\n",
    "Labirentin bir ucundan diğerine yürüyebildiğiniz durumlarda True döndüren bir fonksiyon yazınız. Sadece yukarıya, aşağıya, sola ve sağa hareket edebilirsiniz. Çapraz olarak hareket edemezsiniz.\n",
    "\n",
    "Örnekler\n",
    "can_exit([\n",
    "  [0, 1, 1, 1, 1, 1, 1],\n",
    "  [0, 0, 1, 1, 0, 1, 1],\n",
    "  [1, 0, 0, 0, 0, 1, 1],\n",
    "  [1, 1, 1, 1, 0, 0, 1],\n",
    "  [1, 1, 1, 1, 1, 0, 0]\n",
    "]) ➞ true\n",
    "\n",
    "can_exit([\n",
    "  [0, 1, 1, 1, 1, 1, 1],\n",
    "  [0, 0, 1, 0, 0, 1, 1],\n",
    "  [1, 0, 0, 0, 0, 1, 1],\n",
    "  [1, 1, 0, 1, 0, 0, 1],\n",
    "  [1, 1, 0, 0, 1, 1, 1]\n",
    "]) ➞ false\n",
    "\n",
    "# Bu labirentte sadece çıkmaz yollar var!\n",
    "\n",
    "can_exit([\n",
    "  [0, 1, 1, 1, 1, 0, 0],\n",
    "  [0, 0, 0, 0, 1, 0, 0],\n",
    "  [1, 1, 1, 0, 0, 0, 0],\n",
    "  [1, 1, 1, 1, 1, 1, 0],\n",
    "  [1, 1, 1, 1, 1, 1, 1]\n",
    "]) ➞ false\n",
    "\n",
    "# Çıkış sadece bir blok ötede ama ulaşılamaz!\n",
    "\n",
    "can_exit([\n",
    "  [0, 1, 1, 1, 1, 0, 0],\n",
    "  [0, 0, 0, 0, 1, 0, 0],\n",
    "  [1, 1, 1, 0, 0, 0, 0],\n",
    "  [1, 0, 0, 0, 1, 1, 0],\n",
    "  [1, 1, 1, 1, 1, 1, 0]\n",
    "]) ➞ true\n",
    "Notlar:\n",
    "m x n boyutlu bir labirentte [0, 0]’dan giriş yapıp [m-1, n-1]’den çıkarsınız.\n",
    "Labirentte çıkmazlar olabilir - tek bir çıkış yolu yeterlidir."
   ]
  },
  {
   "cell_type": "code",
   "execution_count": null,
   "metadata": {},
   "outputs": [],
   "source": []
  }
 ],
 "metadata": {
  "kernelspec": {
   "display_name": "Python 3",
   "language": "python",
   "name": "python3"
  },
  "language_info": {
   "codemirror_mode": {
    "name": "ipython",
    "version": 3
   },
   "file_extension": ".py",
   "mimetype": "text/x-python",
   "name": "python",
   "nbconvert_exporter": "python",
   "pygments_lexer": "ipython3",
   "version": "3.7.4"
  }
 },
 "nbformat": 4,
 "nbformat_minor": 2
}
