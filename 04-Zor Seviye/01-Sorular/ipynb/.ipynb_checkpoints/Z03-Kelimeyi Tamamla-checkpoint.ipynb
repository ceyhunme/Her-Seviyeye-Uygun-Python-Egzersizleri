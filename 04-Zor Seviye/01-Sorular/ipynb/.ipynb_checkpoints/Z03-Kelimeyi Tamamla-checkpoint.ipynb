{
 "cells": [
  {
   "cell_type": "markdown",
   "metadata": {},
   "source": [
    "# Soru 3"
   ]
  },
  {
   "cell_type": "raw",
   "metadata": {},
   "source": [
    "Eğer ek harfler eklenebilir ve kelimeyle eşleşmek için harflerin çıkarılması gerekmezse bir girdi dizisi tamamlanabilir. Dahası girdi dizisindeki harflerin sırası son kelimedeki harflerin sırasıyla aynı olmalıdır.\n",
    "\n",
    "Bir girdi dizisi için kelimenin tamamlanabilir olup olmadığını belirleyen bir fonksiyon yazın.\n",
    "\n",
    "Örnekler\n",
    "can_complete(\"gzel\", \"güzel\") ➞ True\n",
    "# “g” ve “zel” arasına “ü” eklenebilir.\n",
    "\n",
    "can_complete(\"gzela\", \"güzel\") ➞ False\n",
    "# kelimede “a” harfi bulunmaz.\n",
    "\n",
    "can_complete(\"zül\", \"güzel\") ➞ False\n",
    "#“z”, “ü” ve “l” kelimede olsa da sıraları doğru değildir\n",
    "\n",
    "can_complete(\"ggzl\", \"güzel\") ➞ False\n",
    "# Çok fazla “g” var.\n",
    "\n",
    "Notlar:\n",
    "Hem dizi girdisi hem de kelime küçük harfli olabilir\n"
   ]
  },
  {
   "cell_type": "code",
   "execution_count": null,
   "metadata": {},
   "outputs": [],
   "source": []
  }
 ],
 "metadata": {
  "kernelspec": {
   "display_name": "Python 3",
   "language": "python",
   "name": "python3"
  },
  "language_info": {
   "codemirror_mode": {
    "name": "ipython",
    "version": 3
   },
   "file_extension": ".py",
   "mimetype": "text/x-python",
   "name": "python",
   "nbconvert_exporter": "python",
   "pygments_lexer": "ipython3",
   "version": "3.7.4"
  }
 },
 "nbformat": 4,
 "nbformat_minor": 2
}
