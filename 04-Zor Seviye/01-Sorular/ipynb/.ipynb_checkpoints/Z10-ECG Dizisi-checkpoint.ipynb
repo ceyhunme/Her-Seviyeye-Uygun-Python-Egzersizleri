{
 "cells": [
  {
   "cell_type": "markdown",
   "metadata": {},
   "source": [
    "# Soru 10"
   ]
  },
  {
   "cell_type": "raw",
   "metadata": {},
   "source": [
    "ECG Dizisinde (her zaman 1 ve 2 sayılarıyla başlayarak) takip eden her sayı dizide olmayan en küçük sayıdır ve kendisinden önce gelen sayıyla (1 hariç) ortak bir çarpana sahiptir. ECG Serisindeki (1 ve 2 hariç) tüm sayılar, normal sayısal dizideki doğal endekslerinden farklı bir endekse sahiptir. 3 sayısının ECG Dizisi Endeksini görmek için aşağıdaki örneğe bakın.\n",
    "\n",
    "# Dizide olmayan en küçük sayıyı bulun...\n",
    "# Bu sayı öncekiyle ortak bir çarpana sahip mi?\n",
    "\n",
    "DİZİ = [1, 2]\n",
    "\n",
    "3 = 2 ile paylaşılan çarpan yok\n",
    "4 = 2 ile 2 çarpan paylaşıyor\n",
    "\n",
    "DİZİ = [1, 2, 4]\n",
    "\n",
    "3 = 4 ile paylaşılan çarpan yok\n",
    "5 = 4 ile paylaşılan çarpan yok\n",
    "6 = 2 ile 4 çarpan paylaşıyor\n",
    "\n",
    "DİZİ = [1, 2, 4, 6]\n",
    "\n",
    "3 = 3 ile 6 çarpan paylaşıyor\n",
    "\n",
    "DİZİ = [1, 2, 4, 6, 3]\n",
    "\n",
    "3 sayısı ECG Dizisinde endeks 4’tedir.\n",
    "n tam sayısı için ECG Dizisi Endeksini döndüren bir fonksiyon yazın.\n",
    "\n",
    "Örnekler\n",
    "ecg_seq_index(3) ➞ 4\n",
    "\n",
    "ecg_seq_index(5) ➞ 9\n",
    "\n",
    "ecg_seq_index(7) ➞ 13\n",
    "\n",
    "Notlar:\n",
    "ECG elektrokardiyogramın kısaltmasıdır: bir dizinin trendlerini grafik olarak göstermek isterseniz aynı durum geçerlidir.\n",
    "Merak: dizideki her tek p asal sayısını 2p ve onu da 3p izler.\n"
   ]
  },
  {
   "cell_type": "code",
   "execution_count": null,
   "metadata": {},
   "outputs": [],
   "source": []
  }
 ],
 "metadata": {
  "kernelspec": {
   "display_name": "Python 3",
   "language": "python",
   "name": "python3"
  },
  "language_info": {
   "codemirror_mode": {
    "name": "ipython",
    "version": 3
   },
   "file_extension": ".py",
   "mimetype": "text/x-python",
   "name": "python",
   "nbconvert_exporter": "python",
   "pygments_lexer": "ipython3",
   "version": "3.7.4"
  }
 },
 "nbformat": 4,
 "nbformat_minor": 2
}
