{
 "cells": [
  {
   "cell_type": "markdown",
   "metadata": {},
   "source": [
    "# Soru 16"
   ]
  },
  {
   "cell_type": "raw",
   "metadata": {},
   "source": [
    "Bir sayı dizisini alan ve tek sayılardan oluşan en büyük karenin boyutunu döndüren bir fonksiyon yazın. Daha iyi anlamak için örneklere bakın.\n",
    "\n",
    "Örnekler\n",
    "odd_square_patch([\n",
    "  [1, 2, 4, 9],\n",
    "  [4, 5, 5, 7],\n",
    "  [3, 6, 1, 7]\n",
    "]) ➞ 2\n",
    "\n",
    "# Sağ altta 2x2 kare\n",
    "# (2. satırda [5, 7] ve üçüncü satırda [1, 7]).\n",
    "\n",
    "odd_square_patch([[1, 2, 4, 9]]) ➞ 1\n",
    "\n",
    "# Tek satırlı bir dizinin sahip olabileceği kare\n",
    "# maksimum tek bir tek sayı içeren 1x1 boyutuna sahiptir.\n",
    "\n",
    "odd_square_patch([[2, 4, 6]]) ➞ 0"
   ]
  },
  {
   "cell_type": "code",
   "execution_count": null,
   "metadata": {},
   "outputs": [],
   "source": []
  }
 ],
 "metadata": {
  "kernelspec": {
   "display_name": "Python 3",
   "language": "python",
   "name": "python3"
  },
  "language_info": {
   "codemirror_mode": {
    "name": "ipython",
    "version": 3
   },
   "file_extension": ".py",
   "mimetype": "text/x-python",
   "name": "python",
   "nbconvert_exporter": "python",
   "pygments_lexer": "ipython3",
   "version": "3.7.4"
  }
 },
 "nbformat": 4,
 "nbformat_minor": 2
}
