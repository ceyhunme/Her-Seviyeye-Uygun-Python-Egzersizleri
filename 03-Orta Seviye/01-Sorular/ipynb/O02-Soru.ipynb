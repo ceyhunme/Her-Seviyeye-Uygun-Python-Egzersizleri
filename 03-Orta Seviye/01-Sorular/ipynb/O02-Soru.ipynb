{
 "cells": [
  {
   "cell_type": "markdown",
   "metadata": {},
   "source": [
    "# Soru 2"
   ]
  },
  {
   "cell_type": "raw",
   "metadata": {},
   "source": [
    "Bir üretici için çalışıyorsunuz ve sizden ürün satışından elde edilen toplam kârı hesaplamanızı istedi. Birim başına maliyet, birim başına satış ve başlangıç envanterini veren bir sözlük aldınız. En yakın lira değerine yuvarlayarak elde edilen toplam kârı döndürün. Tüm envanterin satıldığını varsayın.\n",
    "\n",
    "Örnekler\n",
    "kazanc({\n",
    "  \"maliyet\": 32.67,\n",
    "  \"satış\": 45.00,\n",
    "  \"envanter\": 1200\n",
    "}) ➞ 14796\n",
    "\n",
    "kazanc({\n",
    "  \"maliyet\": 225.89,\n",
    "  \"satış\": 550.00,\n",
    "  \"envanter\": 100\n",
    "}) ➞ 32411\n",
    "\n",
    "kazanc({\n",
    "  \"maliyet\": 2.77,\n",
    "  \"satış\": 7.95,\n",
    "  \"envanter\": 8500\n",
    "}) ➞ 44030\n",
    "\n",
    "Notlar:\n",
    "Kâr = Toplam Satış - Toplam Maliyet\n",
    "\n"
   ]
  },
  {
   "cell_type": "code",
   "execution_count": null,
   "metadata": {},
   "outputs": [],
   "source": []
  }
 ],
 "metadata": {
  "kernelspec": {
   "display_name": "Python 3",
   "language": "python",
   "name": "python3"
  },
  "language_info": {
   "codemirror_mode": {
    "name": "ipython",
    "version": 3
   },
   "file_extension": ".py",
   "mimetype": "text/x-python",
   "name": "python",
   "nbconvert_exporter": "python",
   "pygments_lexer": "ipython3",
   "version": "3.7.4"
  }
 },
 "nbformat": 4,
 "nbformat_minor": 2
}
