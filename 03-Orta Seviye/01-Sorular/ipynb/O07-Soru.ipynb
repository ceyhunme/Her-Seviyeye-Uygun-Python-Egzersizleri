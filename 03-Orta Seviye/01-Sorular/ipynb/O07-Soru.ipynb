{
 "cells": [
  {
   "cell_type": "markdown",
   "metadata": {},
   "source": [
    "# Soru 7"
   ]
  },
  {
   "cell_type": "raw",
   "metadata": {},
   "source": [
    "Sayılar listesini alan ve listede 7 sayısının olduğu durumlarda “Boom!” döndüren bir fonksiyon yazın. Diğer durumlarda “listede 7 yok” döndürün.\n",
    "\n",
    "Örnekler\n",
    "\n",
    "evreka([1, 2, 3, 4, 5, 6, 7]) ➞ \"Boom!\"\n",
    "\n",
    "evreka([8, 6, 33, 100]) ➞ \"listede 7 yok\"\n",
    "\n",
    "evreka([2, 55, 60, 97, 86]) ➞ \"Boom!\""
   ]
  },
  {
   "cell_type": "code",
   "execution_count": null,
   "metadata": {},
   "outputs": [],
   "source": []
  }
 ],
 "metadata": {
  "kernelspec": {
   "display_name": "Python 3",
   "language": "python",
   "name": "python3"
  },
  "language_info": {
   "codemirror_mode": {
    "name": "ipython",
    "version": 3
   },
   "file_extension": ".py",
   "mimetype": "text/x-python",
   "name": "python",
   "nbconvert_exporter": "python",
   "pygments_lexer": "ipython3",
   "version": "3.7.4"
  }
 },
 "nbformat": 4,
 "nbformat_minor": 2
}
