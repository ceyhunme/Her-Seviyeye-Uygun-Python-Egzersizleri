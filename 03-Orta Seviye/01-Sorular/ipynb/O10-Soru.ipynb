{
 "cells": [
  {
   "cell_type": "markdown",
   "metadata": {},
   "source": [
    "# Soru 10"
   ]
  },
  {
   "cell_type": "raw",
   "metadata": {},
   "source": [
    "Girdi olarak 12 saatlik formatta verilen stringi 24 saatlik formata, eğer 24 saatlik verilmişse 12 saate çeviren bir fonksiyon yazınız.\n",
    "\n",
    "saat_cevir(\"12:00 am\") ➞ \"0:00\"\n",
    "\n",
    "saat_cevir(\"6:20 pm\") ➞ \"18:20\"\n",
    "\n",
    "saat_cevir(\"21:00\") ➞ \"9:00 pm\"\n",
    "\n",
    "saat_cevir(\"5:05\") ➞ \"5:05 am\"\n",
    "\n",
    "\n",
    "*12 saatlik format pm ve am içerip içermediğine göre kontrol edilecek."
   ]
  },
  {
   "cell_type": "code",
   "execution_count": null,
   "metadata": {},
   "outputs": [],
   "source": []
  }
 ],
 "metadata": {
  "kernelspec": {
   "display_name": "Python 3",
   "language": "python",
   "name": "python3"
  },
  "language_info": {
   "codemirror_mode": {
    "name": "ipython",
    "version": 3
   },
   "file_extension": ".py",
   "mimetype": "text/x-python",
   "name": "python",
   "nbconvert_exporter": "python",
   "pygments_lexer": "ipython3",
   "version": "3.7.4"
  }
 },
 "nbformat": 4,
 "nbformat_minor": 2
}
