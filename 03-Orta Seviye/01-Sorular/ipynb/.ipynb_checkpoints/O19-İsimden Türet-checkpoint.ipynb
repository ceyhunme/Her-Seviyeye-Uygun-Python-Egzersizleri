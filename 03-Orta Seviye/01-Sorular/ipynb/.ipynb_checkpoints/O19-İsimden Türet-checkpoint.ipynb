{
 "cells": [
  {
   "cell_type": "markdown",
   "metadata": {},
   "source": [
    "# Soru 19"
   ]
  },
  {
   "cell_type": "raw",
   "metadata": {},
   "source": [
    "Verilen bir isimden kelimeler dizisi üretebilen durumlarda True döndüren bir fonksiyon yazın.\n",
    "\n",
    "Örnekler\n",
    "anagram(\"Justin Bieber\", [\"injures\", \"ebb\", \"it\"]) ➞ True\n",
    "\n",
    "anagram(\"Natalie Portman\", [\"ornamental\", \"pita\"]) ➞ True\n",
    "\n",
    "anagram(\"Chris Pratt\", [\"chirps\", \"rat\"]) ➞ False\n",
    "# Tüm harfler kullanılmadı\n",
    "\n",
    "anagram(\"Jeff Goldblum\", [\"jog\", \"meld\", \"bluffs\"]) ➞ False\n",
    "# Orijinal isimde ‘s’ yok.\n",
    "\n",
    "Notlar:\n",
    "İsimdeki her harf sadece bir kere kullanılabilir.\n",
    "İsimdeki tüm harflerin kullanılması gerekiyor."
   ]
  },
  {
   "cell_type": "code",
   "execution_count": null,
   "metadata": {},
   "outputs": [],
   "source": []
  }
 ],
 "metadata": {
  "kernelspec": {
   "display_name": "Python 3",
   "language": "python",
   "name": "python3"
  },
  "language_info": {
   "codemirror_mode": {
    "name": "ipython",
    "version": 3
   },
   "file_extension": ".py",
   "mimetype": "text/x-python",
   "name": "python",
   "nbconvert_exporter": "python",
   "pygments_lexer": "ipython3",
   "version": "3.7.4"
  }
 },
 "nbformat": 4,
 "nbformat_minor": 2
}
