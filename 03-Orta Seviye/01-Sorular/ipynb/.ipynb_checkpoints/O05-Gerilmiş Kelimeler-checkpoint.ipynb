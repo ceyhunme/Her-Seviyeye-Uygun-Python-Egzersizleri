{
 "cells": [
  {
   "cell_type": "markdown",
   "metadata": {},
   "source": [
    "# Soru 5"
   ]
  },
  {
   "cell_type": "raw",
   "metadata": {},
   "source": [
    "Bir diziyi alan ve yeni dizide birbirini izleyen aynı harfleri çıkaran yeni bir dizi üreten bir fonksiyon oluşturun.\n",
    "\n",
    "Örnekler\n",
    "\n",
    "unstretch(\"ppoeemm\") ➞ \"poem\"\n",
    "\n",
    "unstretch(\"wiiiinnnnd\") ➞ \"wind\"\n",
    "\n",
    "unstretch(\"ttiiitllleeee\") ➞ \"title\"\n",
    "\n",
    "unstretch(\"cccccaaarrrbbonnnnn\") ➞ \"carbon\"\n",
    "\n",
    "Notlar:\n",
    "\n",
    "Son dizi iki harfli kelimeleri içermeyecek (“passing”, “lottery”)."
   ]
  },
  {
   "cell_type": "code",
   "execution_count": null,
   "metadata": {},
   "outputs": [],
   "source": []
  }
 ],
 "metadata": {
  "kernelspec": {
   "display_name": "Python 3",
   "language": "python",
   "name": "python3"
  },
  "language_info": {
   "codemirror_mode": {
    "name": "ipython",
    "version": 3
   },
   "file_extension": ".py",
   "mimetype": "text/x-python",
   "name": "python",
   "nbconvert_exporter": "python",
   "pygments_lexer": "ipython3",
   "version": "3.7.4"
  }
 },
 "nbformat": 4,
 "nbformat_minor": 2
}
