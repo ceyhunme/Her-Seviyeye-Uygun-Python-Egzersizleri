{
 "cells": [
  {
   "cell_type": "markdown",
   "metadata": {},
   "source": [
    "# Soru 2"
   ]
  },
  {
   "cell_type": "raw",
   "metadata": {},
   "source": [
    "Bir üretici için çalışıyorsunuz ve sizden ürün satışından elde edilen toplam karı hesaplamanızı istedi. Birim başına maliyet (dolar olarak), birim başına satış (dolar olarak) ve başlangıç envanterini veren bir liste aldınız. En yakın dolar değerine yuvarlayarak elde edilen toplam karı döndürün. Tüm envanterin satıldığını varsayın.\n",
    "\n",
    "Örnekler\n",
    "profit({\n",
    "  \"cost_price\": 32,67,\n",
    "  \"sell_price\": 45,00,\n",
    "  \"inventory\": 1200\n",
    "}) ➞ 14796\n",
    "\n",
    "profit({\n",
    "  \"cost_price\": 225,89,\n",
    "  \"sell_price\": 550,00,\n",
    "  \"inventory\": 100\n",
    "}) ➞ 32411\n",
    "\n",
    "profit({\n",
    "  \"cost_price\": 2,77,\n",
    "  \"sell_price\": 7,95,\n",
    "  \"inventory\": 8500\n",
    "}) ➞ 44030\n",
    "\n",
    "Notlar:\n",
    "Kar = Toplam Satış - Toplam Maliyet\n"
   ]
  },
  {
   "cell_type": "code",
   "execution_count": null,
   "metadata": {},
   "outputs": [],
   "source": []
  }
 ],
 "metadata": {
  "kernelspec": {
   "display_name": "Python 3",
   "language": "python",
   "name": "python3"
  },
  "language_info": {
   "codemirror_mode": {
    "name": "ipython",
    "version": 3
   },
   "file_extension": ".py",
   "mimetype": "text/x-python",
   "name": "python",
   "nbconvert_exporter": "python",
   "pygments_lexer": "ipython3",
   "version": "3.7.4"
  }
 },
 "nbformat": 4,
 "nbformat_minor": 2
}
