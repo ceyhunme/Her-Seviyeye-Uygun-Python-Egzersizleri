{
 "cells": [
  {
   "cell_type": "markdown",
   "metadata": {},
   "source": [
    "# Soru 12"
   ]
  },
  {
   "cell_type": "raw",
   "metadata": {},
   "source": [
    "Telefon numarası doğru formata sahipse True, yanlış formata sahipse False çıktısına dönen ve dizi girişini kabul eden bir fonksiyon oluşturun. 0-9 arasındaki herhangi bir sayının (uygun yerlerde) geçerli bir telefon numarası oluşturacağını varsayın. Geçerli bir telefon numarası şu şekilde görünmektedir: \n",
    "\n",
    "(123) 456-7890\n",
    "\n",
    "Örnekler\n",
    "\n",
    "is_valid_phone_number(\"(123) 456-7890\") ➞ True\n",
    "\n",
    "is_valid_phone_number(\"1111)555 2345\") ➞ False\n",
    "\n",
    "is_valid_phone_number(\"098) 123 4567\") ➞ False\n",
    "Notlar:\n",
    "Parantezi kapattıktan sonra boşluk eklemeyi unutmayın."
   ]
  },
  {
   "cell_type": "code",
   "execution_count": null,
   "metadata": {},
   "outputs": [],
   "source": []
  }
 ],
 "metadata": {
  "kernelspec": {
   "display_name": "Python 3",
   "language": "python",
   "name": "python3"
  },
  "language_info": {
   "codemirror_mode": {
    "name": "ipython",
    "version": 3
   },
   "file_extension": ".py",
   "mimetype": "text/x-python",
   "name": "python",
   "nbconvert_exporter": "python",
   "pygments_lexer": "ipython3",
   "version": "3.7.4"
  }
 },
 "nbformat": 4,
 "nbformat_minor": 2
}
