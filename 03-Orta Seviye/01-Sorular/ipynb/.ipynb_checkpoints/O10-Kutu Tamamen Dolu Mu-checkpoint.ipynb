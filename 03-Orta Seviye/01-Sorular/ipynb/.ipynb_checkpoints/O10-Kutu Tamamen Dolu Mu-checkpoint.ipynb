{
 "cells": [
  {
   "cell_type": "markdown",
   "metadata": {},
   "source": [
    "# Soru 10"
   ]
  },
  {
   "cell_type": "raw",
   "metadata": {},
   "source": [
    "Kutunun tam olarak dolu olup olmadığını kontrol eden bir fonksiyon yazın.\n",
    "\n",
    "Örnekler\n",
    "completely_filled([\n",
    "  \"#####\",\n",
    "  \"#***#\",\n",
    "  \"#***#\",\n",
    "  \"#***#\",\n",
    "  \"#####\"\n",
    "]) ➞ True\n",
    "\n",
    "completely_filled([\n",
    "  \"#####\",\n",
    "  \"#* *#\",\n",
    "  \"#***#\",\n",
    "  \"#***#\",\n",
    "  \"#####\"\n",
    "]) ➞ False\n",
    "\n",
    "completely_filled([\n",
    "  \"###\",\n",
    "  \"#*#\",\n",
    "  \"###\"\n",
    "]) ➞ True\n",
    "\n",
    "completely_filled([\n",
    "  \"##\",\n",
    "  \"##\"\n",
    "]) ➞ True\n",
    "\n",
    "Notlar:\n",
    "n<==2 kutu boyutları otomatik olarak dolu olarak kabul edilmektedir (bkz. örnek #4)."
   ]
  },
  {
   "cell_type": "code",
   "execution_count": null,
   "metadata": {},
   "outputs": [],
   "source": []
  }
 ],
 "metadata": {
  "kernelspec": {
   "display_name": "Python 3",
   "language": "python",
   "name": "python3"
  },
  "language_info": {
   "codemirror_mode": {
    "name": "ipython",
    "version": 3
   },
   "file_extension": ".py",
   "mimetype": "text/x-python",
   "name": "python",
   "nbconvert_exporter": "python",
   "pygments_lexer": "ipython3",
   "version": "3.7.4"
  }
 },
 "nbformat": 4,
 "nbformat_minor": 2
}
