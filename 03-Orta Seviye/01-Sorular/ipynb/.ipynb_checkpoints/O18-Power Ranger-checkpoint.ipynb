{
 "cells": [
  {
   "cell_type": "markdown",
   "metadata": {},
   "source": [
    "# Soru 18"
   ]
  },
  {
   "cell_type": "raw",
   "metadata": {},
   "source": [
    "n, a, b sayılarını alan ve [a, b] dahil olmak üzere bu aralıkta yer alan sayıların n. üstünü alan değerleri veren fonksiyonu yazınız.\n",
    "\n",
    "Örnekler\n",
    "power_ranger(2, 49, 65) ➞ 2\n",
    "# 2 (n^2) 48 ve 65 arasında kalır, 49 (7^2) ve64 (8^2)\n",
    "\n",
    "power_ranger(3, 1, 27) ➞ 3\n",
    "# 3 (n^3) 1 ve 27 arasında kalır, 1 (1^3), 8 (2^3) ve 27 (3^3)\n",
    "\n",
    "power_ranger(10, 1, 5) ➞ 1\n",
    "# 1’in 10. üstü 1 ve 5 arasında kalır, 1 (1^10)\n",
    "\n",
    "power_ranger(5, 31, 33) ➞ 1\n",
    "\n",
    "power_ranger(4, 250, 1300) ➞ 3\n",
    "Notlar:\n",
    "Aralığın sınırlarının dahil olduğunu unutmayın.\n",
    "a<b her zaman doğru olacaktır.\n"
   ]
  },
  {
   "cell_type": "code",
   "execution_count": null,
   "metadata": {},
   "outputs": [],
   "source": []
  }
 ],
 "metadata": {
  "kernelspec": {
   "display_name": "Python 3",
   "language": "python",
   "name": "python3"
  },
  "language_info": {
   "codemirror_mode": {
    "name": "ipython",
    "version": 3
   },
   "file_extension": ".py",
   "mimetype": "text/x-python",
   "name": "python",
   "nbconvert_exporter": "python",
   "pygments_lexer": "ipython3",
   "version": "3.7.4"
  }
 },
 "nbformat": 4,
 "nbformat_minor": 2
}
