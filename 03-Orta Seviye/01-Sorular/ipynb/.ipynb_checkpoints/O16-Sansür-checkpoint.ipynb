{
 "cells": [
  {
   "cell_type": "markdown",
   "metadata": {},
   "source": [
    "# Soru 16"
   ]
  },
  {
   "cell_type": "raw",
   "metadata": {},
   "source": [
    "Biri tüm sesli harfleri *, l*k* th*s ile değiştirerek dizimi sansürlemeye çalıştı. Şanslıyım ki çıkarılan tüm sesli harfleri buldum.\n",
    "\n",
    "Sansürlü bir dizi ve sansürlü sesli harflerin verildiği durumda orijinal sansürsüz diziyi döndürün.\n",
    "\n",
    "Örnek\n",
    "uncensor(\"Wh*r* d*d my v*w*ls g*?\", \"eeioeo\") ➞ \"Where did my vowels go?\"\n",
    "\n",
    "uncensor(\"abcd\", \"\") ➞ \"abcd\"\n",
    "\n",
    "uncensor(\"*PP*RC*S*\", \"UEAE\") ➞ \"UPPERCASE\"\n",
    "\n",
    "Notlar:\n",
    "Sesli harfler doğru sırada verilmiştir.\n",
    "Sesli harf sayısı, sansürlü dizideki * karakter sayısıyla eşleşir.\n"
   ]
  },
  {
   "cell_type": "code",
   "execution_count": null,
   "metadata": {},
   "outputs": [],
   "source": []
  }
 ],
 "metadata": {
  "kernelspec": {
   "display_name": "Python 3",
   "language": "python",
   "name": "python3"
  },
  "language_info": {
   "codemirror_mode": {
    "name": "ipython",
    "version": 3
   },
   "file_extension": ".py",
   "mimetype": "text/x-python",
   "name": "python",
   "nbconvert_exporter": "python",
   "pygments_lexer": "ipython3",
   "version": "3.7.4"
  }
 },
 "nbformat": 4,
 "nbformat_minor": 2
}
