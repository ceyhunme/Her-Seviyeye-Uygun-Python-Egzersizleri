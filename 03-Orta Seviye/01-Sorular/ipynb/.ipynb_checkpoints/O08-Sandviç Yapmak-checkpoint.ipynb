{
 "cells": [
  {
   "cell_type": "markdown",
   "metadata": {},
   "source": [
    "# Soru 8"
   ]
  },
  {
   "cell_type": "raw",
   "metadata": {},
   "source": [
    "Malzeme listesi ve tadın girdi olduğu durum için seçili malzemelerin çevresinde ekmek olacak şekilde listeyi döndüren bir fonksiyon yazın.\n",
    "\n",
    "Örnekler\n",
    "makeSandwich(['ton', 'salam', 'domates'], 'salam') ➞ ['ton', 'ekmek', ‘salam', 'ekmek', 'domates']\n",
    "\n",
    "makeSandwich(['peynir', 'marul'], 'peynir') ➞ ['ekmek', 'peynir', 'ekmek', 'marul']\n",
    "\n",
    "makeSandwich(['salam', 'salam'], 'salam') ➞ ['ekmek', 'salam', 'ekmek', 'ekmek', 'salam', 'ekmek']\n",
    "\n",
    "Notlar:\n",
    "Her zaman geçerli girdiler alacaksınız.\n",
    "Aynı malzemeden yan yana iki tane varsa iki ayrı sandviç yapın (Örnek 3)."
   ]
  },
  {
   "cell_type": "code",
   "execution_count": null,
   "metadata": {},
   "outputs": [],
   "source": []
  }
 ],
 "metadata": {
  "kernelspec": {
   "display_name": "Python 3",
   "language": "python",
   "name": "python3"
  },
  "language_info": {
   "codemirror_mode": {
    "name": "ipython",
    "version": 3
   },
   "file_extension": ".py",
   "mimetype": "text/x-python",
   "name": "python",
   "nbconvert_exporter": "python",
   "pygments_lexer": "ipython3",
   "version": "3.7.4"
  }
 },
 "nbformat": 4,
 "nbformat_minor": 2
}
