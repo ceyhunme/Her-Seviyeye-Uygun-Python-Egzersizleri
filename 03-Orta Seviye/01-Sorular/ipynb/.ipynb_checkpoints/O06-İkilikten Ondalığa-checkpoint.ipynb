{
 "cells": [
  {
   "cell_type": "markdown",
   "metadata": {},
   "source": [
    "# Soru 6"
   ]
  },
  {
   "cell_type": "raw",
   "metadata": {},
   "source": [
    "Size bir girdi verildi: Sekiz tane 1 ve/veya sıfırdan oluşan bir liste. 8 bit ikili sayıyı alan ve onlu sisteme dönüştüren bir fonksiyon yazın.\n",
    "\n",
    "Örnekler\n",
    "binary_to_decimal([1, 1, 1, 1, 1, 1, 1, 1]) ➞ 255\n",
    "\n",
    "binary_to_decimal([0, 0, 0, 0, 0, 0, 0, 0]) ➞ 0\n",
    "\n",
    "binary_to_decimal([1, 0, 1, 1, 1, 1, 0, 0]) ➞ 188"
   ]
  },
  {
   "cell_type": "code",
   "execution_count": null,
   "metadata": {},
   "outputs": [],
   "source": []
  }
 ],
 "metadata": {
  "kernelspec": {
   "display_name": "Python 3",
   "language": "python",
   "name": "python3"
  },
  "language_info": {
   "codemirror_mode": {
    "name": "ipython",
    "version": 3
   },
   "file_extension": ".py",
   "mimetype": "text/x-python",
   "name": "python",
   "nbconvert_exporter": "python",
   "pygments_lexer": "ipython3",
   "version": "3.7.4"
  }
 },
 "nbformat": 4,
 "nbformat_minor": 2
}
