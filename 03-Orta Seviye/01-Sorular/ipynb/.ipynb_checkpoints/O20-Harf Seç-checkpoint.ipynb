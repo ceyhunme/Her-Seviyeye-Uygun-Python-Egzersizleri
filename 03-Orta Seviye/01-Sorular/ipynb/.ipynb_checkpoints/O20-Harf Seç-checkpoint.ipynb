{
 "cells": [
  {
   "cell_type": "markdown",
   "metadata": {},
   "source": [
    "# Soru 20"
   ]
  },
  {
   "cell_type": "raw",
   "metadata": {},
   "source": [
    "s1 ve s2 dizisi verildiğinde bir dizide yer alan bir karakterin diğer dizide aynı yerde ama büyük harf olduğu karakterleri seçin. Bunları tek bir dizi olarak döndürün.\n",
    "\n",
    "Örnek vermek gerekirse s1 = “heLLo” ve s2 = “GUlp” için “G” ve “U” büyük harf olduğu için s1’deki “he” harflerini seçiyoruz. Daha sonra “LL” büyük harfli olduğu için s2’den “lp” karakterlerini seçiyoruz. Son olarak bunları birleştirerek “help” dizisini döndürüyoruz.\n",
    "\n",
    "Örnekler\n",
    "\n",
    "select_letters(\"heLLO\", \"GUlp\") ➞ \"help\"\n",
    "\n",
    "select_letters(\"1234567\", \"XxXxX\")  ➞ \"135\"\n",
    "\n",
    "select_letters(\"EVERYTHING\", \"SomeThings\") ➞  \"EYSomeThings\"\n",
    "\n",
    "Notlar:\n",
    "Diziler aynı uzunlukta olmak zorunda değil.\n",
    "Diziler alfanümerik olmayan karakter içeremez."
   ]
  },
  {
   "cell_type": "code",
   "execution_count": null,
   "metadata": {},
   "outputs": [],
   "source": []
  }
 ],
 "metadata": {
  "kernelspec": {
   "display_name": "Python 3",
   "language": "python",
   "name": "python3"
  },
  "language_info": {
   "codemirror_mode": {
    "name": "ipython",
    "version": 3
   },
   "file_extension": ".py",
   "mimetype": "text/x-python",
   "name": "python",
   "nbconvert_exporter": "python",
   "pygments_lexer": "ipython3",
   "version": "3.7.4"
  }
 },
 "nbformat": 4,
 "nbformat_minor": 2
}
