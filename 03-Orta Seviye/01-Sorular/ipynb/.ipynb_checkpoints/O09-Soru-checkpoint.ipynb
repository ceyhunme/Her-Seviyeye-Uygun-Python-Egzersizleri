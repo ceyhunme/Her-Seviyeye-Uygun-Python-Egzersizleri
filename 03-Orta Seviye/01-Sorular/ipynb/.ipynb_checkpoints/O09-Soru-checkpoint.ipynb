{
 "cells": [
  {
   "cell_type": "markdown",
   "metadata": {},
   "source": [
    "# Soru 9"
   ]
  },
  {
   "cell_type": "raw",
   "metadata": {},
   "source": [
    "Belirli bir aralıkta (aralık sınırları dahil) bir sayının kaç kere olduğunu sayan bir fonksiyon yazın. Fonksiyon şu şekilde görünecek:\n",
    "\n",
    "kac_tane(başlangıç, bitiş, sayı) ➞ sayının kullanılma sayısı\n",
    "\n",
    "Örnekler\n",
    "\n",
    "kac_tane(51, 55, 5) ➞ 6\n",
    "# [51, 52, 53, 54, 55] : 5 sayısı 6 kere geçiyor\n",
    "\n",
    "kac_tane(1, 8, 9) ➞ 0\n",
    "\n",
    "kac_tane(-8, -1, 8) ➞ 1\n",
    "\n",
    "kac_tane(71, 77, 2) ➞ 1\n",
    "\n",
    "Notlar:\n",
    "Aralıklar negatif olabilir\n",
    "başlangıç <= bitiş\n",
    "\n"
   ]
  },
  {
   "cell_type": "code",
   "execution_count": null,
   "metadata": {},
   "outputs": [],
   "source": []
  }
 ],
 "metadata": {
  "kernelspec": {
   "display_name": "Python 3",
   "language": "python",
   "name": "python3"
  },
  "language_info": {
   "codemirror_mode": {
    "name": "ipython",
    "version": 3
   },
   "file_extension": ".py",
   "mimetype": "text/x-python",
   "name": "python",
   "nbconvert_exporter": "python",
   "pygments_lexer": "ipython3",
   "version": "3.7.4"
  }
 },
 "nbformat": 4,
 "nbformat_minor": 2
}
