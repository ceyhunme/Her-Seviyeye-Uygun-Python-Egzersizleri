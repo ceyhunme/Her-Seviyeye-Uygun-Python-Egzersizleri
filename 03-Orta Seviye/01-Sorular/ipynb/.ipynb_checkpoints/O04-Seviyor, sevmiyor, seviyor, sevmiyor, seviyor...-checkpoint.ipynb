{
 "cells": [
  {
   "cell_type": "markdown",
   "metadata": {},
   "source": [
    "# Soru 4"
   ]
  },
  {
   "cell_type": "raw",
   "metadata": {},
   "source": [
    "Masa tenisi oyunu her zaman Ping! ve sonrasında gelen Pong! sesinden oluşur. Bu nedenle eğer son ses olarak Pong! sesini duyarsanız 2. Oyuncunun kazandığını anlarsınız (Oyuncu 1 vuruşa karşılık veremez).\n",
    "\n",
    "Ping! listesi için her öğenin arasında Pong! yerleştiren bir fonksiyon yazın. Aynı zamanda:\n",
    "\n",
    "Kazanma True’ya eşitse listeyi Pong! ile bitirin.\n",
    "Kazanma False’a eşitse Ping! ile bitirin.\n",
    "\n",
    "Örnekler\n",
    "ping_pong([\"Ping!\", \"Ping!\", \"Ping!\"], True) ➞ [\"Ping!\", \"Pong!\", \"Ping!\", \"Pong!\", \"Ping!\", \"Pong!\"]\n",
    "\n",
    "ping_pong([\"Ping!\", \"Ping!\"], False) ➞ [\"Ping!\", \"Pong!\", \"Ping!\"]\n",
    "\n",
    "ping_pong([\"Ping!\"], True) ➞ [\"Ping!\", \"Pong!\"]\n",
    "Notlar:\n",
    "Her zaman topu döndürmelisiniz (Ponglar sizin).\n",
    "1. Oyuncu servis kullanıyor ve Ping! sesi çıkarıyor.\n",
    "Listeye dönün.\n"
   ]
  },
  {
   "cell_type": "code",
   "execution_count": null,
   "metadata": {},
   "outputs": [],
   "source": []
  }
 ],
 "metadata": {
  "kernelspec": {
   "display_name": "Python 3",
   "language": "python",
   "name": "python3"
  },
  "language_info": {
   "codemirror_mode": {
    "name": "ipython",
    "version": 3
   },
   "file_extension": ".py",
   "mimetype": "text/x-python",
   "name": "python",
   "nbconvert_exporter": "python",
   "pygments_lexer": "ipython3",
   "version": "3.7.4"
  }
 },
 "nbformat": 4,
 "nbformat_minor": 2
}
