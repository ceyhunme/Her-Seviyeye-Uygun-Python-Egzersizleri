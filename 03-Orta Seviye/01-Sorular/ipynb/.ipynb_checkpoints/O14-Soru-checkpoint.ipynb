{
 "cells": [
  {
   "cell_type": "markdown",
   "metadata": {},
   "source": [
    "# Soru 14"
   ]
  },
  {
   "cell_type": "raw",
   "metadata": {},
   "source": [
    "Camel Case (veya camelCase) kullanımı, ilk kelimenin küçük harfli ve diğer tüm kelimelerin ilk harflerinin ise büyük harfli olarak kullanıldığı durumdur. Kelimelerin arasında boşluk olmadığına dikkat edin.\n",
    "\n",
    "Diziyi alan ve camelCase’e döndüren bir fonksiyon oluşturun.\n",
    "\n",
    "Örnekler\n",
    "camelCasing(\"Hello World\") ➞ \"helloWorld\"\n",
    "\n",
    "camelCasing(\"snake_case\") ➞ \"snakeCase\"\n",
    "\n",
    "camelCasing(\"low high_HIGH\") ➞ \"lowHighHigh\"\n",
    "\n",
    "Notlar:\n",
    "Tüm boşlukları ve alt çizgileri kaldırmanız gerekir.\n",
    "Girdi olarak sayı olmayacak.\n",
    "\n"
   ]
  },
  {
   "cell_type": "code",
   "execution_count": null,
   "metadata": {},
   "outputs": [],
   "source": []
  }
 ],
 "metadata": {
  "kernelspec": {
   "display_name": "Python 3",
   "language": "python",
   "name": "python3"
  },
  "language_info": {
   "codemirror_mode": {
    "name": "ipython",
    "version": 3
   },
   "file_extension": ".py",
   "mimetype": "text/x-python",
   "name": "python",
   "nbconvert_exporter": "python",
   "pygments_lexer": "ipython3",
   "version": "3.7.4"
  }
 },
 "nbformat": 4,
 "nbformat_minor": 2
}
