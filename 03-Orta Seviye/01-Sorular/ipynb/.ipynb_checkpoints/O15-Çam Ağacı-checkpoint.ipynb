{
 "cells": [
  {
   "cell_type": "markdown",
   "metadata": {},
   "source": [
    "# Soru 15"
   ]
  },
  {
   "cell_type": "raw",
   "metadata": {},
   "source": [
    "h yüksekliğine göre Yılbaşı ağacı oluşturan bir fonksiyon yazın.\n",
    "\n",
    "Örnekler\n",
    "tree(1) ➞ [\n",
    "  \"#\"\n",
    "]\n",
    "\n",
    "tree(2) ➞ [\n",
    "  \" # \",\n",
    "  \"###\"\n",
    "]\n",
    "\n",
    "tree(5) ➞ [\n",
    "  \"    #    \",\n",
    "  \"   ###   \",\n",
    "  \"  #####  \",\n",
    "  \" ####### \",\n",
    "  \"#########\"\n",
    "]\n",
    "\n",
    "tree(0) ➞ []\n"
   ]
  },
  {
   "cell_type": "code",
   "execution_count": null,
   "metadata": {},
   "outputs": [],
   "source": []
  }
 ],
 "metadata": {
  "kernelspec": {
   "display_name": "Python 3",
   "language": "python",
   "name": "python3"
  },
  "language_info": {
   "codemirror_mode": {
    "name": "ipython",
    "version": 3
   },
   "file_extension": ".py",
   "mimetype": "text/x-python",
   "name": "python",
   "nbconvert_exporter": "python",
   "pygments_lexer": "ipython3",
   "version": "3.7.4"
  }
 },
 "nbformat": 4,
 "nbformat_minor": 2
}
