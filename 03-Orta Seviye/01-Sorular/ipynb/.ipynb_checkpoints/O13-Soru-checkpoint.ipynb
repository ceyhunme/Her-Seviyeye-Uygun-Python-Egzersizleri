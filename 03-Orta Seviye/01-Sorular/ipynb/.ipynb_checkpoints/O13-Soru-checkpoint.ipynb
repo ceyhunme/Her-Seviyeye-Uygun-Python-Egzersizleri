{
 "cells": [
  {
   "cell_type": "markdown",
   "metadata": {},
   "source": [
    "# Soru 13"
   ]
  },
  {
   "cell_type": "raw",
   "metadata": {},
   "source": [
    "Perrin dizisindeki her sayı bir sayının kendisinden iki önceki ve iki sonraki konumunun toplamı olarak oluşturulur. İlk üç sayının (3, 0, 2) olduğu bir durumda dizi şu şekilde genişletilir:\n",
    "\n",
    "P(0) P(1) P(2) P(3) P(4) P(5) P(6) P(7) ... P(n)\n",
    "3, 0, 2, 3, 2, 5, 5, 7, ...\n",
    "n değeri verildiğinde Perrin sayısı P(n) değerini döndürün.\n",
    "\n",
    "Örnekler\n",
    "\n",
    "perrin(1) ➞ 0\n",
    "\n",
    "perrin(8) ➞ 10\n",
    "\n",
    "perrin(26) ➞ 1497"
   ]
  },
  {
   "cell_type": "code",
   "execution_count": null,
   "metadata": {},
   "outputs": [],
   "source": []
  }
 ],
 "metadata": {
  "kernelspec": {
   "display_name": "Python 3",
   "language": "python",
   "name": "python3"
  },
  "language_info": {
   "codemirror_mode": {
    "name": "ipython",
    "version": 3
   },
   "file_extension": ".py",
   "mimetype": "text/x-python",
   "name": "python",
   "nbconvert_exporter": "python",
   "pygments_lexer": "ipython3",
   "version": "3.7.4"
  }
 },
 "nbformat": 4,
 "nbformat_minor": 2
}
