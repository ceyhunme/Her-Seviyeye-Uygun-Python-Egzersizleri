{
 "cells": [
  {
   "cell_type": "markdown",
   "metadata": {},
   "source": [
    "# Soru 9"
   ]
  },
  {
   "cell_type": "raw",
   "metadata": {},
   "source": [
    "Belirli bir aralıkta (aralık sınırları dahil) bir sayının kaç kere olduğunu sayan bir fonksiyon yazın. Fonksiyon şu şekilde görünecek:\n",
    "\n",
    "digit_occurrences(başlangıç, bitiş, sayı) ➞ sayının kullanılma sayısı\n",
    "\n",
    "Örnekler\n",
    "digit_occurrences(51, 55, 5) ➞ 6\n",
    "# [51, 52, 53, 54, 55] : 5 sayısı 6 kere geçiyor\n",
    "\n",
    "digit_occurrences(1, 8, 9) ➞ 0\n",
    "\n",
    "digit_occurrences(-8, -1, 8) ➞ 1\n",
    "\n",
    "digit_occurrences(71, 77, 2) ➞ 1\n",
    "Notlar:\n",
    "Aralıklar negatif olabilir\n",
    "start <= end\n"
   ]
  },
  {
   "cell_type": "code",
   "execution_count": null,
   "metadata": {},
   "outputs": [],
   "source": []
  }
 ],
 "metadata": {
  "kernelspec": {
   "display_name": "Python 3",
   "language": "python",
   "name": "python3"
  },
  "language_info": {
   "codemirror_mode": {
    "name": "ipython",
    "version": 3
   },
   "file_extension": ".py",
   "mimetype": "text/x-python",
   "name": "python",
   "nbconvert_exporter": "python",
   "pygments_lexer": "ipython3",
   "version": "3.7.4"
  }
 },
 "nbformat": 4,
 "nbformat_minor": 2
}
