{
 "cells": [
  {
   "cell_type": "markdown",
   "metadata": {},
   "source": [
    "# Soru 17"
   ]
  },
  {
   "cell_type": "raw",
   "metadata": {},
   "source": [
    "Pasta grafiği, her kategorinin sıklığının toplam sıklıkta tek bir sıklık yüzdesi olarak derece genliğinde bir dilim (veya dairesel alan) ile temsil edildiği veri setini temsil edilen dairesel bir grafiktir. Alanların derecelerini aşağıdaki adımlarla elde edebilirsiniz:\n",
    "\n",
    "Toplam frekansları hesaplayın.\n",
    "Toplam frekansı her kategorinin frekansına bölerek yüzdeleri hesaplayın.\n",
    "Her yüzdeyi 360 ile çarparak dereceye dönüştürün.\n",
    "Anahtarlar(dict.key) veri kategorilerini (harflerle temsil edilen) ve değerler de veri frekansları olan sözlük verilerine sahipsiniz. Aynı sözlük değerlerinin frekanslar yerine derecelere dönüştürülen değerleriyle pasta grafiğini döndüren bir haritayı içeren fonksiyon yazın. Son değerleri en yakın ondalığa yuvarlayın.\n",
    "\n",
    "Pasta Grafiği\n",
    "\n",
    "Örnekler\n",
    "\n",
    "pasta_grafigi({ \"a\": 1, \"b\":2 }) ➞ { \"a\": 120, \"b\": 240 }\n",
    "\n",
    "pasta_grafigi({ \"a\": 30, \"b\": 15, \"c\": 55 }) ➞ { \"a\": 108, \"b\": 54, \"c\": 198 }\n",
    "\n",
    "pasta_grafigi({ \"a\": 8, \"b\": 21, \"c\": 12, \"d\": 5, \"e\": 4 }) ➞ { \"a\": 57,6, \"b\": 151,2, \"c\": 86,4, \"d\": 36, \"e\": 28,8 }"
   ]
  },
  {
   "cell_type": "code",
   "execution_count": null,
   "metadata": {},
   "outputs": [],
   "source": []
  }
 ],
 "metadata": {
  "kernelspec": {
   "display_name": "Python 3",
   "language": "python",
   "name": "python3"
  },
  "language_info": {
   "codemirror_mode": {
    "name": "ipython",
    "version": 3
   },
   "file_extension": ".py",
   "mimetype": "text/x-python",
   "name": "python",
   "nbconvert_exporter": "python",
   "pygments_lexer": "ipython3",
   "version": "3.7.4"
  }
 },
 "nbformat": 4,
 "nbformat_minor": 2
}
