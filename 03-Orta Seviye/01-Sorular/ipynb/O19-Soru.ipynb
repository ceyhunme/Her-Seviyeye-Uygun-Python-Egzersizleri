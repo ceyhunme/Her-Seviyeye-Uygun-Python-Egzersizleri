{
 "cells": [
  {
   "cell_type": "markdown",
   "metadata": {},
   "source": [
    "# Soru 19"
   ]
  },
  {
   "cell_type": "raw",
   "metadata": {},
   "source": [
    "Sudoku, standart biçimde oluşturulmuş 9×9 boyutlarında bir diyagram üzerinde çözülen ve her satırda, her sütunda ve her 3×3 boyutluk karede, 1’den 9’a kadar olan rakamların birer kez yer alması gerektiği temeline dayanan bir zeka oyunu çeşididir.\n",
    "\n",
    "Sizden 2 boyutlu bir 3x3 sudokuyu inceleyip sudoku olup olmadığı inceleyen bir fonksiyon yazmanız bekleniyor. \n",
    "\n",
    "* Tüm rakamlar olacak\n",
    "* Rakam tekrarı olmayacak\n",
    "\n",
    "sudoku_mu([[1, 3, 2], [9, 7, 8], [4, 5, 6]]) ➞ True\n",
    "\n",
    "sudoku_mu([[1, 1, 3], [6, 5, 4], [8, 7, 9]]) ➞ False\n",
    "\n",
    "sudoku_mu([[0, 1, 2], [6, 4, 5], [9, 8, 7]]) ➞ False\n",
    "\n",
    "sudoku_mu([[8, 9, 2], [5, 6, 1], [3, 7, 4]]) ➞ True\n",
    "\n",
    "\n"
   ]
  },
  {
   "cell_type": "code",
   "execution_count": null,
   "metadata": {},
   "outputs": [],
   "source": []
  }
 ],
 "metadata": {
  "kernelspec": {
   "display_name": "Python 3",
   "language": "python",
   "name": "python3"
  },
  "language_info": {
   "codemirror_mode": {
    "name": "ipython",
    "version": 3
   },
   "file_extension": ".py",
   "mimetype": "text/x-python",
   "name": "python",
   "nbconvert_exporter": "python",
   "pygments_lexer": "ipython3",
   "version": "3.7.4"
  }
 },
 "nbformat": 4,
 "nbformat_minor": 2
}
