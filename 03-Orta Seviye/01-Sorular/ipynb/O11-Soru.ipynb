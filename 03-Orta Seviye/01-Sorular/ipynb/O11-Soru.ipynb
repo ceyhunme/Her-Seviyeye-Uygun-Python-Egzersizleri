{
 "cells": [
  {
   "cell_type": "markdown",
   "metadata": {},
   "source": [
    "# Soru 11"
   ]
  },
  {
   "cell_type": "raw",
   "metadata": {},
   "source": [
    "x, y ve z sayıları verildiğinde dik açılı bir üçgen olup olmadığını belirleyin.\n",
    "\n",
    "Örnekler\n",
    "\n",
    "dik_açılı(3, 4, 5) ➞ True\n",
    "# Bu durum klasik bir dik üçgen örneğidir.\n",
    "\n",
    "dik_açılı(145, 105, 100) ➞ True\n",
    "# Bu daha az bilinen bir örnektir.\n",
    "\n",
    "dik_açılı(70, 130, 110) ➞ False\n",
    "# Bu bir dik üçgen değildir.\n",
    "\n"
   ]
  },
  {
   "cell_type": "code",
   "execution_count": null,
   "metadata": {},
   "outputs": [],
   "source": []
  }
 ],
 "metadata": {
  "kernelspec": {
   "display_name": "Python 3",
   "language": "python",
   "name": "python3"
  },
  "language_info": {
   "codemirror_mode": {
    "name": "ipython",
    "version": 3
   },
   "file_extension": ".py",
   "mimetype": "text/x-python",
   "name": "python",
   "nbconvert_exporter": "python",
   "pygments_lexer": "ipython3",
   "version": "3.7.4"
  }
 },
 "nbformat": 4,
 "nbformat_minor": 2
}
