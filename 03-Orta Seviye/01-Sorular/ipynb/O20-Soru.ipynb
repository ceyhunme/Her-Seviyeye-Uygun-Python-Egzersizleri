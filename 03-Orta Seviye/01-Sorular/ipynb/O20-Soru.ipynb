{
 "cells": [
  {
   "cell_type": "markdown",
   "metadata": {},
   "source": [
    "# Soru 20"
   ]
  },
  {
   "cell_type": "raw",
   "metadata": {},
   "source": [
    "Satrançta, vezirler herhangi bir karede  yatay, dikey veya çapraz olarak hareket edebilirler.\n",
    "\n",
    "Vezirinizin ve rakibinizin vezirinin yerini göz önüne alındığında, rakibinizin vezirini yakalayıp yakalayamayacağınızı belirleyin. Konumunuz ve rakiplerinizin konumu sırasıyla listenin birinci ve ikinci unsurlarıdır.\n",
    "\n",
    "Örnek\n",
    "\n",
    "vezir([\"A1\", \"H8\"]) ➞ True\n",
    "# Çapraz hareket edebilir\n",
    "\n",
    "vezir([\"A1\", \"C2\"]) ➞ False\n",
    "# A1'den C2'ye ulaşamaz.\n",
    "\n",
    "vezir([\"G3\", \"E5\"]) ➞ True\n",
    "\n"
   ]
  },
  {
   "cell_type": "code",
   "execution_count": null,
   "metadata": {},
   "outputs": [],
   "source": []
  }
 ],
 "metadata": {
  "kernelspec": {
   "display_name": "Python 3",
   "language": "python",
   "name": "python3"
  },
  "language_info": {
   "codemirror_mode": {
    "name": "ipython",
    "version": 3
   },
   "file_extension": ".py",
   "mimetype": "text/x-python",
   "name": "python",
   "nbconvert_exporter": "python",
   "pygments_lexer": "ipython3",
   "version": "3.7.4"
  }
 },
 "nbformat": 4,
 "nbformat_minor": 2
}
