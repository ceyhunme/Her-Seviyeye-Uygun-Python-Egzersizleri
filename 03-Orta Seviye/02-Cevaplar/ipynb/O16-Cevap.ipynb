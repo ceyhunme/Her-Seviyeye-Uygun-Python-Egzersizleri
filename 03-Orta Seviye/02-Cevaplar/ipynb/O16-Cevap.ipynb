{
 "cells": [
  {
   "cell_type": "markdown",
   "metadata": {},
   "source": [
    "# Soru 16"
   ]
  },
  {
   "cell_type": "raw",
   "metadata": {},
   "source": [
    "Sansürlü bir string ve sansürlü sesli harflerin verildiği durumda orijinal sansürsüz diziyi döndürün.\n",
    "\n",
    "Örnek\n",
    "\n",
    "sansür(\"abcd\", \"\") ➞ \"abcd\"\n",
    "\n",
    "sansür(\"*r*b*m* p*rk *tt*m\", \"aaaıaei\") ➞ \"arabamı park ettim\"\n",
    "\n",
    "Notlar:\n",
    "Sesli harfler doğru sırada verilmiştir.\n",
    "Sesli harf sayısı, sansürlü dizideki * karakter sayısıyla eşleşir.\n"
   ]
  },
  {
   "cell_type": "code",
   "execution_count": 10,
   "metadata": {},
   "outputs": [],
   "source": [
    "def sansür(sansürlü,sesli):\n",
    "    k=0\n",
    "    cevap = \"\"\n",
    "    for i in sansürlü:\n",
    "        if i == \"*\":\n",
    "            cevap += sesli[k]\n",
    "            k+=1\n",
    "        else:\n",
    "            cevap += i\n",
    "    return cevap"
   ]
  },
  {
   "cell_type": "code",
   "execution_count": 11,
   "metadata": {},
   "outputs": [
    {
     "data": {
      "text/plain": [
       "'arabamı park ettim'"
      ]
     },
     "execution_count": 11,
     "metadata": {},
     "output_type": "execute_result"
    }
   ],
   "source": [
    "sansür(\"*r*b*m* p*rk *tt*m\", \"aaaıaei\")"
   ]
  },
  {
   "cell_type": "code",
   "execution_count": 14,
   "metadata": {},
   "outputs": [],
   "source": [
    "def sansür2(sansürlü,sesli):\n",
    "    sansürlü = sansürlü.replace(\"*\",\"{}\")\n",
    "    return sansürlü.format(*sesli)\n"
   ]
  },
  {
   "cell_type": "code",
   "execution_count": 15,
   "metadata": {},
   "outputs": [
    {
     "data": {
      "text/plain": [
       "'arabamı park ettim'"
      ]
     },
     "execution_count": 15,
     "metadata": {},
     "output_type": "execute_result"
    }
   ],
   "source": [
    "sansür2(\"*r*b*m* p*rk *tt*m\", \"aaaıaei\") "
   ]
  },
  {
   "cell_type": "code",
   "execution_count": null,
   "metadata": {},
   "outputs": [],
   "source": []
  }
 ],
 "metadata": {
  "kernelspec": {
   "display_name": "Python 3",
   "language": "python",
   "name": "python3"
  },
  "language_info": {
   "codemirror_mode": {
    "name": "ipython",
    "version": 3
   },
   "file_extension": ".py",
   "mimetype": "text/x-python",
   "name": "python",
   "nbconvert_exporter": "python",
   "pygments_lexer": "ipython3",
   "version": "3.7.4"
  }
 },
 "nbformat": 4,
 "nbformat_minor": 2
}
