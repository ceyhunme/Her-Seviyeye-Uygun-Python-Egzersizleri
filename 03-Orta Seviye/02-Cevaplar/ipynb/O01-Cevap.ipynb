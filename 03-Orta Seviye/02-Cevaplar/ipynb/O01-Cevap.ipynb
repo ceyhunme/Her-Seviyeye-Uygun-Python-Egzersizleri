{
 "cells": [
  {
   "cell_type": "markdown",
   "metadata": {},
   "source": [
    "# Soru 1"
   ]
  },
  {
   "cell_type": "raw",
   "metadata": {},
   "source": [
    "Semih ve Mehmet’in yarışan sümüklü böcekleri var. İkisinde de 3 tane var, yavaş (y), orta (o) ve hızlı (h). Semih’in sümüklü böcekleri Mehmet’in sümüklü böceklerinden daha güçlü olsa da Mehmet’in bir planı var. Planı:\n",
    "\n",
    "Raunt 1: [y, h] En yavaş böceği Semih’in en hızlı böceğine kurban et.\n",
    "Raunt 2: [o, y] Orta sümüklü böceğiyle Semih’in en yavaş böceğini yen.\n",
    "Raunt 3: [h, o] En hızlı böceğiyle Semih’in orta böceğini yen.\n",
    "Mehmet’in oyunu 2/3 oranında kazandığı durumda True çıktısı verecek şekilde Mehmet’in kazanıp kazamadığını belirleyen bir fonksiyon yazın.\n",
    "\n",
    "Fonksiyon girdileri:\n",
    "\n",
    "Liste 1: Mehmet için [y, o, h]\n",
    "Liste 2: Semih için [y, o, h]\n",
    "\n",
    "Örnekler\n",
    "mehmet_wins([3, 5, 10], [4, 7, 11]) ➞ True\n",
    "\n",
    "Karşılaşmalar (3, 11), (5, 4) ve (10, 7) olduğu için Mehmet 3’ünden 2’sini kazanır.\n",
    "\n",
    "mehmet_wins([6, 8, 9], [7, 12, 14]) ➞ False\n",
    "\n",
    "Karşılaşmalar (6, 14), (8, 7) ve (9, 12) olduğu için Semih 3’ünden 2’sini kazanır.\n",
    "\n",
    "mehmet_wins([1, 8, 20], [2, 9, 100]) ➞ True\n",
    "\n",
    "Notlar:\n",
    "Yarışan sümüklü böceğin hızı Semih’in yarışan sümüklü böceğinin hızını aşarsa Mehmet kazanır.\n",
    "Semih her zaman aşağıdaki sırada oynayacak: [h, y, o]"
   ]
  },
  {
   "cell_type": "code",
   "execution_count": 1,
   "metadata": {},
   "outputs": [],
   "source": [
    "def mehmet_wins(mehmet,semih):\n",
    "    mehmetKazandıklari = 0\n",
    "    if mehmet[0] > semih[2]: mehmetKazandıklari += 1\n",
    "    if mehmet[1] > semih[0]: mehmetKazandıklari += 1\n",
    "    if mehmet[2] > semih[1]: mehmetKazandıklari += 1\n",
    "    return mehmetKazandıklari >= 2"
   ]
  },
  {
   "cell_type": "code",
   "execution_count": 2,
   "metadata": {},
   "outputs": [
    {
     "data": {
      "text/plain": [
       "True"
      ]
     },
     "execution_count": 2,
     "metadata": {},
     "output_type": "execute_result"
    }
   ],
   "source": [
    "mehmet_wins([3, 5, 10], [4, 7, 11])"
   ]
  },
  {
   "cell_type": "code",
   "execution_count": null,
   "metadata": {},
   "outputs": [],
   "source": []
  }
 ],
 "metadata": {
  "kernelspec": {
   "display_name": "Python 3",
   "language": "python",
   "name": "python3"
  },
  "language_info": {
   "codemirror_mode": {
    "name": "ipython",
    "version": 3
   },
   "file_extension": ".py",
   "mimetype": "text/x-python",
   "name": "python",
   "nbconvert_exporter": "python",
   "pygments_lexer": "ipython3",
   "version": "3.7.4"
  }
 },
 "nbformat": 4,
 "nbformat_minor": 2
}
