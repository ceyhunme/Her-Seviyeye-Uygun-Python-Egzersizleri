{
 "cells": [
  {
   "cell_type": "markdown",
   "metadata": {},
   "source": [
    "# Soru 15"
   ]
  },
  {
   "cell_type": "raw",
   "metadata": {},
   "source": [
    "h yüksekliğine göre Yılbaşı ağacı oluşturan bir fonksiyon yazın.\n",
    "\n",
    "Örnekler\n",
    "agac(1) ➞ [\n",
    "  \"#\"\n",
    "]\n",
    "\n",
    "agac(2) ➞ [\n",
    "  \" # \",\n",
    "  \"###\"\n",
    "]\n",
    "\n",
    "agac(5) ➞ [\n",
    "  \"    #    \",\n",
    "  \"   ###   \",\n",
    "  \"  #####  \",\n",
    "  \" ####### \",\n",
    "  \"#########\"\n",
    "]\n",
    "\n",
    "agac(0) ➞ []\n",
    "\n",
    "Not:\n",
    "\n",
    "*Liste elemanları yan yana gözükebilir.\n"
   ]
  },
  {
   "cell_type": "code",
   "execution_count": 16,
   "metadata": {},
   "outputs": [
    {
     "data": {
      "text/plain": [
       "'  python  '"
      ]
     },
     "execution_count": 16,
     "metadata": {},
     "output_type": "execute_result"
    }
   ],
   "source": [
    "a = \"python\"\n",
    "a.center(10)"
   ]
  },
  {
   "cell_type": "code",
   "execution_count": 19,
   "metadata": {},
   "outputs": [],
   "source": [
    "def agac(n):\n",
    "    cevap = list()\n",
    "    genislik = 2*n-1\n",
    "    for i in range(1,n+1):\n",
    "        kare = \"#\"*(i*2-1)\n",
    "        cevap.append(kare.center(genislik))\n",
    "    return cevap"
   ]
  },
  {
   "cell_type": "code",
   "execution_count": 24,
   "metadata": {},
   "outputs": [
    {
     "data": {
      "text/plain": [
       "['                             #                             ',\n",
       " '                            ###                            ',\n",
       " '                           #####                           ',\n",
       " '                          #######                          ',\n",
       " '                         #########                         ',\n",
       " '                        ###########                        ',\n",
       " '                       #############                       ',\n",
       " '                      ###############                      ',\n",
       " '                     #################                     ',\n",
       " '                    ###################                    ',\n",
       " '                   #####################                   ',\n",
       " '                  #######################                  ',\n",
       " '                 #########################                 ',\n",
       " '                ###########################                ',\n",
       " '               #############################               ',\n",
       " '              ###############################              ',\n",
       " '             #################################             ',\n",
       " '            ###################################            ',\n",
       " '           #####################################           ',\n",
       " '          #######################################          ',\n",
       " '         #########################################         ',\n",
       " '        ###########################################        ',\n",
       " '       #############################################       ',\n",
       " '      ###############################################      ',\n",
       " '     #################################################     ',\n",
       " '    ###################################################    ',\n",
       " '   #####################################################   ',\n",
       " '  #######################################################  ',\n",
       " ' ######################################################### ',\n",
       " '###########################################################']"
      ]
     },
     "execution_count": 24,
     "metadata": {},
     "output_type": "execute_result"
    }
   ],
   "source": [
    "agac(30)"
   ]
  },
  {
   "cell_type": "code",
   "execution_count": null,
   "metadata": {},
   "outputs": [],
   "source": []
  }
 ],
 "metadata": {
  "kernelspec": {
   "display_name": "Python 3",
   "language": "python",
   "name": "python3"
  },
  "language_info": {
   "codemirror_mode": {
    "name": "ipython",
    "version": 3
   },
   "file_extension": ".py",
   "mimetype": "text/x-python",
   "name": "python",
   "nbconvert_exporter": "python",
   "pygments_lexer": "ipython3",
   "version": "3.7.4"
  }
 },
 "nbformat": 4,
 "nbformat_minor": 2
}
