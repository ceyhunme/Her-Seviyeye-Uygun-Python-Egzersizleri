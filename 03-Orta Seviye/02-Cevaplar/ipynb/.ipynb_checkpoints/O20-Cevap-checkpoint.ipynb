{
 "cells": [
  {
   "cell_type": "markdown",
   "metadata": {},
   "source": [
    "# Soru 20"
   ]
  },
  {
   "cell_type": "raw",
   "metadata": {},
   "source": [
    "Satrançta, vezirler herhangi bir karede  yatay, dikey veya çapraz olarak hareket edebilirler.\n",
    "\n",
    "Vezirinizin ve rakibinizin vezirinin yerini göz önüne alındığında, rakibinizin vezirini yakalayıp yakalayamayacağınızı belirleyin. Konumunuz ve rakiplerinizin konumu sırasıyla listenin birinci ve ikinci unsurlarıdır.\n",
    "\n",
    "Örnek\n",
    "\n",
    "vezir([\"A1\", \"H8\"]) ➞ True\n",
    "# Çapraz hareket edebilir\n",
    "\n",
    "vezir([\"A1\", \"C2\"]) ➞ False\n",
    "# A1'den C2'ye ulaşamaz.\n",
    "\n",
    "vezir([\"G3\", \"E5\"]) ➞ True\n"
   ]
  },
  {
   "cell_type": "code",
   "execution_count": 29,
   "metadata": {},
   "outputs": [],
   "source": [
    "def vezir(oyuncular):\n",
    "    harfler = \"ABCDEFGH\"\n",
    "    p1 = oyuncular[0]\n",
    "    p2 = oyuncular[1]\n",
    "    if p1[0] == p2[0] or p1[1] == p2[1]:\n",
    "        return True\n",
    "    poz1 = harfler.index(p1[0])\n",
    "    poz2 = harfler.index(p2[0])\n",
    "    yatay = abs(poz1-poz2)\n",
    "    dikey = abs(int(p1[1])-int(p2[1]))\n",
    "    if yatay == dikey:\n",
    "        return True\n",
    "    else:\n",
    "        return False"
   ]
  },
  {
   "cell_type": "code",
   "execution_count": 8,
   "metadata": {},
   "outputs": [
    {
     "data": {
      "text/plain": [
       "True"
      ]
     },
     "execution_count": 8,
     "metadata": {},
     "output_type": "execute_result"
    }
   ],
   "source": [
    "vezir([\"A1\", \"A8\"])"
   ]
  },
  {
   "cell_type": "code",
   "execution_count": 13,
   "metadata": {},
   "outputs": [
    {
     "data": {
      "text/plain": [
       "True"
      ]
     },
     "execution_count": 13,
     "metadata": {},
     "output_type": "execute_result"
    }
   ],
   "source": [
    "vezir([\"A1\", \"C1\"])"
   ]
  },
  {
   "cell_type": "code",
   "execution_count": 31,
   "metadata": {},
   "outputs": [
    {
     "data": {
      "text/plain": [
       "False"
      ]
     },
     "execution_count": 31,
     "metadata": {},
     "output_type": "execute_result"
    }
   ],
   "source": [
    "vezir([\"A1\", \"B8\"])"
   ]
  },
  {
   "cell_type": "code",
   "execution_count": null,
   "metadata": {},
   "outputs": [],
   "source": []
  }
 ],
 "metadata": {
  "kernelspec": {
   "display_name": "Python 3",
   "language": "python",
   "name": "python3"
  },
  "language_info": {
   "codemirror_mode": {
    "name": "ipython",
    "version": 3
   },
   "file_extension": ".py",
   "mimetype": "text/x-python",
   "name": "python",
   "nbconvert_exporter": "python",
   "pygments_lexer": "ipython3",
   "version": "3.7.4"
  }
 },
 "nbformat": 4,
 "nbformat_minor": 2
}
