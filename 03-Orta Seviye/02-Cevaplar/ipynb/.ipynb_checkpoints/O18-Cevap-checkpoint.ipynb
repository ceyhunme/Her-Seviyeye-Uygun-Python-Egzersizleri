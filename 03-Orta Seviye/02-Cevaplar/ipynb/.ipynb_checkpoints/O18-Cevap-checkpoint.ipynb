{
 "cells": [
  {
   "cell_type": "markdown",
   "metadata": {},
   "source": [
    "# Soru 18"
   ]
  },
  {
   "cell_type": "raw",
   "metadata": {},
   "source": [
    "Girdi olarak string alan, her harfin türkçe alfabesindeki sırasını bulup topladıktan sonra çıkan sonuç çift ise True, tek ise False döndüren bir fonksiyon yazınız.\n",
    "\n",
    "Örnek\n",
    "\n",
    "kelime_çift_mi(\"Python\")  ➞ False\n",
    "# 20 + 28 + 24 + 10 + 18 + 17 = 117 (Tek)\n"
   ]
  },
  {
   "cell_type": "code",
   "execution_count": 31,
   "metadata": {},
   "outputs": [],
   "source": [
    "def kelime_çift_mi(cümle):\n",
    "    harfler = \"abcçdefgğhıijklmnoöprsştuüvyz\"\n",
    "    toplam = 0\n",
    "    for harf in cümle.lower():\n",
    "        if harf in harfler:\n",
    "            toplam += harfler.index(harf) + 1\n",
    "    return toplam % 2 == 0"
   ]
  },
  {
   "cell_type": "code",
   "execution_count": 32,
   "metadata": {},
   "outputs": [
    {
     "data": {
      "text/plain": [
       "False"
      ]
     },
     "execution_count": 32,
     "metadata": {},
     "output_type": "execute_result"
    }
   ],
   "source": [
    "kelime_çift_mi(\"Python\")"
   ]
  },
  {
   "cell_type": "code",
   "execution_count": 34,
   "metadata": {},
   "outputs": [
    {
     "data": {
      "text/plain": [
       "True"
      ]
     },
     "execution_count": 34,
     "metadata": {},
     "output_type": "execute_result"
    }
   ],
   "source": [
    "kelime_çift_mi(\"b\")"
   ]
  },
  {
   "cell_type": "code",
   "execution_count": null,
   "metadata": {},
   "outputs": [],
   "source": []
  }
 ],
 "metadata": {
  "kernelspec": {
   "display_name": "Python 3",
   "language": "python",
   "name": "python3"
  },
  "language_info": {
   "codemirror_mode": {
    "name": "ipython",
    "version": 3
   },
   "file_extension": ".py",
   "mimetype": "text/x-python",
   "name": "python",
   "nbconvert_exporter": "python",
   "pygments_lexer": "ipython3",
   "version": "3.7.4"
  }
 },
 "nbformat": 4,
 "nbformat_minor": 2
}
