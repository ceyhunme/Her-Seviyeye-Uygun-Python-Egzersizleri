{
 "cells": [
  {
   "cell_type": "markdown",
   "metadata": {},
   "source": [
    "# Soru 8"
   ]
  },
  {
   "cell_type": "raw",
   "metadata": {},
   "source": [
    "Malzeme listesi ve seçilen malzemeyi girdi olarak alın. Seçili malzemelerin çevresinde ekmek olacak şekilde listeyi tekrar döndüren bir fonksiyon yazın.\n",
    "\n",
    "Örnekler\n",
    "\n",
    "sandviç(['ton', 'salam', 'domates'], 'salam') ➞ ['ton', 'ekmek', ‘salam', 'ekmek', 'domates']\n",
    "\n",
    "sandviç(['peynir', 'marul'], 'peynir') ➞ ['ekmek', 'peynir', 'ekmek', 'marul']\n",
    "\n",
    "sandviç(['salam', 'salam'], 'salam') ➞ ['ekmek', 'salam', 'ekmek', 'ekmek', 'salam', 'ekmek']\n"
   ]
  },
  {
   "cell_type": "code",
   "execution_count": 3,
   "metadata": {},
   "outputs": [],
   "source": [
    "def sandviç(malzeme,secilen):\n",
    "    cevap=list()\n",
    "    for i in malzeme:\n",
    "        if i == secilen:\n",
    "            cevap.append(\"ekmek\")\n",
    "            cevap.append(i)\n",
    "            cevap.append(\"ekmek\")\n",
    "        else:\n",
    "            cevap.append(i)\n",
    "    return cevap"
   ]
  },
  {
   "cell_type": "code",
   "execution_count": 4,
   "metadata": {},
   "outputs": [
    {
     "data": {
      "text/plain": [
       "['ton', 'ekmek', 'salam', 'ekmek', 'domates']"
      ]
     },
     "execution_count": 4,
     "metadata": {},
     "output_type": "execute_result"
    }
   ],
   "source": [
    "sandviç(['ton', 'salam', 'domates'], 'salam') "
   ]
  },
  {
   "cell_type": "code",
   "execution_count": null,
   "metadata": {},
   "outputs": [],
   "source": []
  }
 ],
 "metadata": {
  "kernelspec": {
   "display_name": "Python 3",
   "language": "python",
   "name": "python3"
  },
  "language_info": {
   "codemirror_mode": {
    "name": "ipython",
    "version": 3
   },
   "file_extension": ".py",
   "mimetype": "text/x-python",
   "name": "python",
   "nbconvert_exporter": "python",
   "pygments_lexer": "ipython3",
   "version": "3.7.4"
  }
 },
 "nbformat": 4,
 "nbformat_minor": 2
}
