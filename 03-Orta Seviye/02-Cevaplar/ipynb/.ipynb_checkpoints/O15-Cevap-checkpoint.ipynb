{
 "cells": [
  {
   "cell_type": "markdown",
   "metadata": {},
   "source": [
    "# Soru 15"
   ]
  },
  {
   "cell_type": "raw",
   "metadata": {},
   "source": [
    "h yüksekliğine göre Yılbaşı ağacı oluşturan bir fonksiyon yazın.\n",
    "\n",
    "Örnekler\n",
    "agac(1) ➞ [\n",
    "  \"#\"\n",
    "]\n",
    "\n",
    "agac(2) ➞ [\n",
    "  \" # \",\n",
    "  \"###\"\n",
    "]\n",
    "\n",
    "agac(5) ➞ [\n",
    "  \"    #    \",\n",
    "  \"   ###   \",\n",
    "  \"  #####  \",\n",
    "  \" ####### \",\n",
    "  \"#########\"\n",
    "]\n",
    "\n",
    "agac(0) ➞ []\n",
    "\n",
    "Not:\n",
    "\n",
    "*Liste elemanları yan yana gözükebilir.\n"
   ]
  },
  {
   "cell_type": "code",
   "execution_count": null,
   "metadata": {},
   "outputs": [],
   "source": []
  }
 ],
 "metadata": {
  "kernelspec": {
   "display_name": "Python 3",
   "language": "python",
   "name": "python3"
  },
  "language_info": {
   "codemirror_mode": {
    "name": "ipython",
    "version": 3
   },
   "file_extension": ".py",
   "mimetype": "text/x-python",
   "name": "python",
   "nbconvert_exporter": "python",
   "pygments_lexer": "ipython3",
   "version": "3.7.4"
  }
 },
 "nbformat": 4,
 "nbformat_minor": 2
}
