{
 "cells": [
  {
   "cell_type": "markdown",
   "metadata": {},
   "source": [
    "# Soru 4"
   ]
  },
  {
   "cell_type": "raw",
   "metadata": {},
   "source": [
    "Masa tenisi oyunu her zaman Ping! ve sonrasında gelen Pong! sesinden oluşur. Bu nedenle eğer son ses olarak Pong! sesini duyarsanız 2. Oyuncunun kazandığını anlarsınız (Oyuncu 1 vuruşa karşılık veremez).\n",
    "\n",
    "Ping! listesi için her öğenin arasında Pong! yerleştiren bir fonksiyon yazın. Aynı zamanda:\n",
    "\n",
    "Kazanma True’ya eşitse listeyi Pong! ile bitirin.\n",
    "Kazanma False’a eşitse Ping! ile bitirin.\n",
    "\n",
    "Örnekler\n",
    "\n",
    "ping_pong([\"Ping!\", \"Ping!\", \"Ping!\"], True) ➞ [\"Ping!\", \"Pong!\", \"Ping!\", \"Pong!\", \"Ping!\", \"Pong!\"]\n",
    "\n",
    "ping_pong([\"Ping!\", \"Ping!\"], False) ➞ [\"Ping!\", \"Pong!\", \"Ping!\"]\n",
    "\n",
    "ping_pong([\"Ping!\"], True) ➞ [\"Ping!\", \"Pong!\"]\n",
    "\n",
    "Notlar:\n",
    "Her zaman topu döndürmelisiniz (Ponglar sizin).\n",
    "1. Oyuncu servis kullanıyor ve Ping! sesi çıkarıyor.\n",
    "Listeyle dönün.\n"
   ]
  },
  {
   "cell_type": "code",
   "execution_count": 16,
   "metadata": {},
   "outputs": [],
   "source": [
    "def ping_pong(liste,kazanma):\n",
    "    sonuc = [\"Ping!\",\"Pong!\"]*len(liste)\n",
    "    if kazanma:\n",
    "        return sonuc\n",
    "    else:\n",
    "        return sonuc[:-1]"
   ]
  },
  {
   "cell_type": "code",
   "execution_count": 17,
   "metadata": {},
   "outputs": [
    {
     "data": {
      "text/plain": [
       "['Ping!', 'Pong!', 'Ping!', 'Pong!', 'Ping!']"
      ]
     },
     "execution_count": 17,
     "metadata": {},
     "output_type": "execute_result"
    }
   ],
   "source": [
    "ping_pong([\"Ping!\", \"Ping!\", \"Ping!\"], False)"
   ]
  },
  {
   "cell_type": "code",
   "execution_count": 18,
   "metadata": {},
   "outputs": [],
   "source": [
    "def ping_pong2(liste,kazanma):\n",
    "    sonuc = [\"Ping!\",\"Pong!\"]*len(liste)\n",
    "    return sonuc if kazanma else sonuc[:-1]"
   ]
  },
  {
   "cell_type": "code",
   "execution_count": 19,
   "metadata": {},
   "outputs": [
    {
     "data": {
      "text/plain": [
       "['Ping!', 'Pong!', 'Ping!', 'Pong!', 'Ping!']"
      ]
     },
     "execution_count": 19,
     "metadata": {},
     "output_type": "execute_result"
    }
   ],
   "source": [
    "ping_pong2([\"Ping!\", \"Ping!\", \"Ping!\"], False)"
   ]
  },
  {
   "cell_type": "code",
   "execution_count": null,
   "metadata": {},
   "outputs": [],
   "source": []
  }
 ],
 "metadata": {
  "kernelspec": {
   "display_name": "Python 3",
   "language": "python",
   "name": "python3"
  },
  "language_info": {
   "codemirror_mode": {
    "name": "ipython",
    "version": 3
   },
   "file_extension": ".py",
   "mimetype": "text/x-python",
   "name": "python",
   "nbconvert_exporter": "python",
   "pygments_lexer": "ipython3",
   "version": "3.7.4"
  }
 },
 "nbformat": 4,
 "nbformat_minor": 2
}
