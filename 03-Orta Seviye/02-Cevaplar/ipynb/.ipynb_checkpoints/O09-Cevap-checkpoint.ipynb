{
 "cells": [
  {
   "cell_type": "markdown",
   "metadata": {},
   "source": [
    "# Soru 9"
   ]
  },
  {
   "cell_type": "raw",
   "metadata": {},
   "source": [
    "Belirli bir aralıkta (aralık sınırları dahil) bir sayının kaç kere olduğunu sayan bir fonksiyon yazın. Fonksiyon şu şekilde görünecek:\n",
    "\n",
    "kac_tane(başlangıç, bitiş, sayı) ➞ sayının kullanılma sayısı\n",
    "\n",
    "Örnekler\n",
    "\n",
    "kac_tane(51, 55, 5) ➞ 6\n",
    "# [51, 52, 53, 54, 55] : 5 sayısı 6 kere geçiyor\n",
    "\n",
    "kac_tane(1, 8, 9) ➞ 0\n",
    "\n",
    "kac_tane(-8, -1, 8) ➞ 1\n",
    "\n",
    "kac_tane(71, 77, 2) ➞ 1\n",
    "\n",
    "Notlar:\n",
    "Aralıklar negatif olabilir\n",
    "başlangıç <= bitiş\n"
   ]
  },
  {
   "cell_type": "code",
   "execution_count": 1,
   "metadata": {},
   "outputs": [],
   "source": [
    "def kac_tane(başlangıç,bitiş,sayı):\n",
    "    liste= []\n",
    "    for i in range(başlangıç,bitiş+1):\n",
    "        liste.append(str(i))\n",
    "    cevap=0\n",
    "    for i in range(len(liste)):\n",
    "        cevap+= liste[i].count(str(sayı))\n",
    "    return cevap"
   ]
  },
  {
   "cell_type": "code",
   "execution_count": 2,
   "metadata": {},
   "outputs": [
    {
     "data": {
      "text/plain": [
       "6"
      ]
     },
     "execution_count": 2,
     "metadata": {},
     "output_type": "execute_result"
    }
   ],
   "source": [
    "kac_tane(51, 55, 5)"
   ]
  },
  {
   "cell_type": "code",
   "execution_count": 3,
   "metadata": {},
   "outputs": [
    {
     "data": {
      "text/plain": [
       "1"
      ]
     },
     "execution_count": 3,
     "metadata": {},
     "output_type": "execute_result"
    }
   ],
   "source": [
    "kac_tane(-8, -1, 8)"
   ]
  },
  {
   "cell_type": "code",
   "execution_count": null,
   "metadata": {},
   "outputs": [],
   "source": []
  }
 ],
 "metadata": {
  "kernelspec": {
   "display_name": "Python 3",
   "language": "python",
   "name": "python3"
  },
  "language_info": {
   "codemirror_mode": {
    "name": "ipython",
    "version": 3
   },
   "file_extension": ".py",
   "mimetype": "text/x-python",
   "name": "python",
   "nbconvert_exporter": "python",
   "pygments_lexer": "ipython3",
   "version": "3.7.4"
  }
 },
 "nbformat": 4,
 "nbformat_minor": 2
}
