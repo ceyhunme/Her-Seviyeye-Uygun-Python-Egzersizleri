{
 "cells": [
  {
   "cell_type": "markdown",
   "metadata": {},
   "source": [
    "# Soru 10"
   ]
  },
  {
   "cell_type": "raw",
   "metadata": {},
   "source": [
    "Girdi olarak 12 saatlik formatta verilen stringi 24 saatlik formata, eğer 24 saatlik verilmişse 12 saate çeviren bir fonksiyon yazınız.\n",
    "\n",
    "saat_cevir(\"12:00 am\") ➞ \"0:00\"\n",
    "\n",
    "saat_cevir(\"6:20 pm\") ➞ \"18:20\"\n",
    "\n",
    "saat_cevir(\"21:00\") ➞ \"9:00 pm\"\n",
    "\n",
    "saat_cevir(\"5:05\") ➞ \"5:05 am\"\n",
    "\n",
    "\n",
    "*12 saatlik format pm ve am içerip içermediğine göre kontrol edilecek."
   ]
  },
  {
   "cell_type": "code",
   "execution_count": 42,
   "metadata": {},
   "outputs": [],
   "source": [
    "def saat_cevir(saat):\n",
    "    if len(saat) > 5:\n",
    "        sd, ek=saat.split()\n",
    "        if ek == \"pm\":\n",
    "            s,d = sd.split(\":\")\n",
    "            s = str(int(s)+12)\n",
    "            return s+\":\"+d\n",
    "        elif ek == \"am\":\n",
    "            if sd == \"12:00\":\n",
    "                return \"0:00\"\n",
    "            return sd\n",
    "    s,d = saat.split(\":\")\n",
    "    if int(s) <= 12:\n",
    "        return saat + \" am\"\n",
    "    s =str(int(s)-12)\n",
    "    return s + \":\" + d + \" pm\""
   ]
  },
  {
   "cell_type": "code",
   "execution_count": 43,
   "metadata": {},
   "outputs": [
    {
     "data": {
      "text/plain": [
       "'0:00'"
      ]
     },
     "execution_count": 43,
     "metadata": {},
     "output_type": "execute_result"
    }
   ],
   "source": [
    "saat_cevir(\"12:00 am\")"
   ]
  },
  {
   "cell_type": "code",
   "execution_count": 44,
   "metadata": {},
   "outputs": [
    {
     "data": {
      "text/plain": [
       "'9:00 pm'"
      ]
     },
     "execution_count": 44,
     "metadata": {},
     "output_type": "execute_result"
    }
   ],
   "source": [
    "saat_cevir(\"21:00\")"
   ]
  },
  {
   "cell_type": "code",
   "execution_count": 45,
   "metadata": {},
   "outputs": [
    {
     "data": {
      "text/plain": [
       "'5:05 am'"
      ]
     },
     "execution_count": 45,
     "metadata": {},
     "output_type": "execute_result"
    }
   ],
   "source": [
    "saat_cevir(\"5:05\")"
   ]
  },
  {
   "cell_type": "code",
   "execution_count": 46,
   "metadata": {},
   "outputs": [
    {
     "data": {
      "text/plain": [
       "'18:20'"
      ]
     },
     "execution_count": 46,
     "metadata": {},
     "output_type": "execute_result"
    }
   ],
   "source": [
    "saat_cevir(\"6:20 pm\")"
   ]
  },
  {
   "cell_type": "code",
   "execution_count": null,
   "metadata": {},
   "outputs": [],
   "source": []
  }
 ],
 "metadata": {
  "kernelspec": {
   "display_name": "Python 3",
   "language": "python",
   "name": "python3"
  },
  "language_info": {
   "codemirror_mode": {
    "name": "ipython",
    "version": 3
   },
   "file_extension": ".py",
   "mimetype": "text/x-python",
   "name": "python",
   "nbconvert_exporter": "python",
   "pygments_lexer": "ipython3",
   "version": "3.7.4"
  }
 },
 "nbformat": 4,
 "nbformat_minor": 2
}
