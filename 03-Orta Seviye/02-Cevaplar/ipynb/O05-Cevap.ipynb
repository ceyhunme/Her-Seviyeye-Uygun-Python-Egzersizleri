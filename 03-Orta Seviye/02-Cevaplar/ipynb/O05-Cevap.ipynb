{
 "cells": [
  {
   "cell_type": "markdown",
   "metadata": {},
   "source": [
    "# Soru 5"
   ]
  },
  {
   "cell_type": "raw",
   "metadata": {},
   "source": [
    "Bir stringi alan ve yeni stringi birbirini izleyen aynı harfleri çıkaran yeni bir stringi üreten bir fonksiyon oluşturun.\n",
    "\n",
    "Örnekler\n",
    "\n",
    "kısalt(\"seeeelaaam\") ➞ \"selam\"\n",
    "\n",
    "kısalt(\"kkkkkeeeediii\") ➞ \"kedi\"\n",
    "\n",
    "kısalt(\"aaarrraba\") ➞ \"araba\"\n"
   ]
  },
  {
   "cell_type": "code",
   "execution_count": 18,
   "metadata": {},
   "outputs": [],
   "source": [
    "def kısalt(kelime):\n",
    "    yeni_kelime = \"\"\n",
    "    karakterler = list()\n",
    "    for i in kelime:\n",
    "        karakterler.append(i)\n",
    "    k=0\n",
    "    for karakter in karakterler:\n",
    "        if k == len(karakterler) -1 :\n",
    "            yeni_kelime += karakter\n",
    "            break\n",
    "        if karakter != karakterler[k+1]:\n",
    "            yeni_kelime += karakter\n",
    "        k+=1\n",
    "    return yeni_kelime\n",
    "        "
   ]
  },
  {
   "cell_type": "code",
   "execution_count": 19,
   "metadata": {},
   "outputs": [
    {
     "data": {
      "text/plain": [
       "'selam'"
      ]
     },
     "execution_count": 19,
     "metadata": {},
     "output_type": "execute_result"
    }
   ],
   "source": [
    "kısalt(\"seeeelaaam\")"
   ]
  },
  {
   "cell_type": "code",
   "execution_count": null,
   "metadata": {},
   "outputs": [],
   "source": []
  }
 ],
 "metadata": {
  "kernelspec": {
   "display_name": "Python 3",
   "language": "python",
   "name": "python3"
  },
  "language_info": {
   "codemirror_mode": {
    "name": "ipython",
    "version": 3
   },
   "file_extension": ".py",
   "mimetype": "text/x-python",
   "name": "python",
   "nbconvert_exporter": "python",
   "pygments_lexer": "ipython3",
   "version": "3.7.4"
  }
 },
 "nbformat": 4,
 "nbformat_minor": 2
}
