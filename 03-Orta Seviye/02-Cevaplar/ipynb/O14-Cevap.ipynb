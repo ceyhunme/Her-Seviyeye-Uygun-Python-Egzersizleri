{
 "cells": [
  {
   "cell_type": "markdown",
   "metadata": {},
   "source": [
    "# Soru 14"
   ]
  },
  {
   "cell_type": "raw",
   "metadata": {},
   "source": [
    "Camel Case (veya camelCase) kullanımı, ilk kelimenin küçük harfli ve diğer tüm kelimelerin ilk harflerinin ise büyük harfli olarak kullanıldığı durumdur. Sonuçta kelimelerin arasında boşluk olmadığına dikkat edin.\n",
    "\n",
    "String alan ve camelCase’e döndüren bir fonksiyon oluşturun.\n",
    "\n",
    "Örnekler\n",
    "camelCasing(\"Hello World\") ➞ \"helloWorld\"\n",
    "\n",
    "camelCasing(\"snake_case\") ➞ \"snakeCase\"\n",
    "\n",
    "camelCasing(\"low high_HIGH\") ➞ \"lowHighHigh\"\n",
    "\n",
    "Notlar:\n",
    "Tüm boşlukları ve alt çizgileri kaldırmanız gerekir.\n",
    "Girdi olarak sayı olmayacak.\n"
   ]
  },
  {
   "cell_type": "code",
   "execution_count": 1,
   "metadata": {},
   "outputs": [],
   "source": [
    "def camelCasing(yazi):\n",
    "    yazi = yazi.replace(\"_\",\" \")\n",
    "    kelimeler = yazi.split(\" \")\n",
    "    kelimeler[0] = kelimeler[0].lower()\n",
    "    for i in range(1,len(kelimeler)):\n",
    "        kelimeler[i] = kelimeler[i].title()\n",
    "    return \"\".join(kelimeler)"
   ]
  },
  {
   "cell_type": "code",
   "execution_count": 2,
   "metadata": {},
   "outputs": [
    {
     "data": {
      "text/plain": [
       "'helloWorld'"
      ]
     },
     "execution_count": 2,
     "metadata": {},
     "output_type": "execute_result"
    }
   ],
   "source": [
    "camelCasing(\"Hello World\")"
   ]
  },
  {
   "cell_type": "code",
   "execution_count": 3,
   "metadata": {},
   "outputs": [
    {
     "data": {
      "text/plain": [
       "'lowHighHigh'"
      ]
     },
     "execution_count": 3,
     "metadata": {},
     "output_type": "execute_result"
    }
   ],
   "source": [
    "camelCasing(\"low high_HIGH\")"
   ]
  },
  {
   "cell_type": "code",
   "execution_count": 4,
   "metadata": {},
   "outputs": [
    {
     "data": {
      "text/plain": [
       "'udemyDeneme'"
      ]
     },
     "execution_count": 4,
     "metadata": {},
     "output_type": "execute_result"
    }
   ],
   "source": [
    "camelCasing(\"udemy_Deneme\")"
   ]
  },
  {
   "cell_type": "code",
   "execution_count": null,
   "metadata": {},
   "outputs": [],
   "source": []
  }
 ],
 "metadata": {
  "kernelspec": {
   "display_name": "Python 3",
   "language": "python",
   "name": "python3"
  },
  "language_info": {
   "codemirror_mode": {
    "name": "ipython",
    "version": 3
   },
   "file_extension": ".py",
   "mimetype": "text/x-python",
   "name": "python",
   "nbconvert_exporter": "python",
   "pygments_lexer": "ipython3",
   "version": "3.7.4"
  }
 },
 "nbformat": 4,
 "nbformat_minor": 2
}
