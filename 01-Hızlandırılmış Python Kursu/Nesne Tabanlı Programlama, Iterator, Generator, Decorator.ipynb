{
 "cells": [
  {
   "cell_type": "markdown",
   "metadata": {},
   "source": [
    "# Nesne Tabanlı Programlama, Iterator, Generator, Decorator"
   ]
  },
  {
   "cell_type": "markdown",
   "metadata": {},
   "source": [
    "# Nesne Tabanlı Programlama"
   ]
  },
  {
   "cell_type": "raw",
   "metadata": {},
   "source": [
    "class personel():\n",
    "    ad =  \"Ceyhun\"\n",
    "    soyad = \"Özdemir\" \n",
    "    yaş = 23\n",
    "    maaş = 4000\n",
    "    \n",
    "personel1 =  personel() \n",
    "\n",
    "type(personel1)\n",
    "dir(personel1)\n",
    "personel1.ad\n",
    "\n",
    "personel2 =  personel()\n",
    "personel2.ad\n",
    "\n",
    "---\n",
    "\n",
    "class personel():\n",
    "    \n",
    "    def __init__(self, Ad = \"Girilmedi\", soyad = \"Bilgi Yok\", yaş = 23 , maaş = 4000): \n",
    "        self.ad =  ad \n",
    "        self.soyad = soyad \n",
    "        self.yaş = yaş \n",
    "        self.maaş = maaş\n",
    "        \n",
    "personel1 =  personel(\"Ali\",\"Yılmaz\")\n",
    "personel1.ad\n",
    "\n",
    "---\n",
    "        \n",
    "class personel():\n",
    "    \n",
    "    def __init__(self, Ad = \"Girilmedi\", soyad = \"Bilgi Yok\", yaş = 23 , maaş = 4000): \n",
    "        self.ad =  ad \n",
    "        self.soyad = soyad \n",
    "        self.yaş = yaş \n",
    "        self.maaş = maaş\n",
    "        \n",
    "    def __len__(self):\n",
    "        print(\"\"\"        \n",
    "        Ad :{}      \n",
    "        Soyad :{}\n",
    "        Yaş:{}\n",
    "        Maaş :{}\n",
    "        \"\"\".format(self.ad,self.soyad,self.yaş,self.maaş))\n",
    "        \n",
    "    def zam(self,miktar):\n",
    "        print(\"Zam ekleniyor.\")\n",
    "        self.maaş += miktar\n",
    "        \n",
    "---Kalıtım\n",
    "        \n",
    "class yönetici(personel): \n",
    "    pass \n",
    "\n",
    "müdür = yönetici()\n",
    "\n",
    "dir(yönetici)\n",
    "type(yönetici)\n",
    "\n",
    "--- Overriding\n",
    "\n",
    "class yönetici(personel):\n",
    "    \n",
    "    def __init__(self, ad = \"Girilmedi\", soyad = \"Bilgi Yok\", yaş = 23 , maaş = 4000, pozisyon = \"Belli Değil\"): \n",
    "        self.ad =  ad \n",
    "        self.soyad = soyad \n",
    "        self.yaş = yaş \n",
    "        self.maaş = maaş\n",
    "        self.pozisyon= pozisyon\n",
    "\n",
    "---super()      \n",
    "\n",
    "class yönetici(personel):\n",
    "    \n",
    "    def __init__(self,pozisyon = \"Yok\"):\n",
    "        super().__init__() \n",
    "        \n",
    "        self.pozisyon= pozisyon\n",
    "\n"
   ]
  },
  {
   "cell_type": "code",
   "execution_count": 87,
   "metadata": {},
   "outputs": [
    {
     "data": {
      "text/plain": [
       "'Ceyhun'"
      ]
     },
     "execution_count": 87,
     "metadata": {},
     "output_type": "execute_result"
    }
   ],
   "source": [
    "class personel():\n",
    "    ad =  \"Ceyhun\"\n",
    "    soyad = \"Özdemir\" \n",
    "    yaş = 23\n",
    "    maaş = 4000\n",
    "\n",
    "a = list()\n",
    "type(a)\n",
    "\n",
    "personel1 =  personel() \n",
    "type(personel1)\n",
    "dir(personel1)\n",
    "\n",
    "personel2 = personel()\n",
    "personel2.ad\n",
    "personel1.ad"
   ]
  },
  {
   "cell_type": "code",
   "execution_count": 96,
   "metadata": {},
   "outputs": [
    {
     "data": {
      "text/plain": [
       "4000"
      ]
     },
     "execution_count": 96,
     "metadata": {},
     "output_type": "execute_result"
    }
   ],
   "source": [
    "class personel():\n",
    "    \n",
    "    def __init__(self, ad = \"Girilmedi\", soyad = \"Bilgi Yok\", yaş = 23, maaş = 4000): \n",
    "        self.ad =  ad \n",
    "        self.soyad = soyad \n",
    "        self.yaş = yaş \n",
    "        self.maaş = maaş\n",
    "        \n",
    "personel1 = personel(ad=\"Ali\",soyad=\"Yılmaz\")\n",
    "personel2 = personel(ad=\"Mehmet\",soyad=\"Kaya\",yaş=32)\n",
    "personel1.maaş"
   ]
  },
  {
   "cell_type": "code",
   "execution_count": 108,
   "metadata": {},
   "outputs": [
    {
     "name": "stdout",
     "output_type": "stream",
     "text": [
      "        \n",
      "        Ad :Fatih      \n",
      "        Soyad :Öztürk\n",
      "        Yaş:23\n",
      "        Maaş :4000\n",
      "        \n",
      "Zam ekleniyor.\n",
      "        \n",
      "        Ad :Fatih      \n",
      "        Soyad :Öztürk\n",
      "        Yaş:23\n",
      "        Maaş :5000\n",
      "        \n"
     ]
    }
   ],
   "source": [
    "class personel():\n",
    "    \n",
    "    def __init__(self, ad = \"Girilmedi\", soyad = \"Bilgi Yok\", yaş = 23 , maaş = 4000): \n",
    "        self.ad =  ad \n",
    "        self.soyad = soyad \n",
    "        self.yaş = yaş \n",
    "        self.maaş = maaş\n",
    "        \n",
    "    def bilgileri_göster(self):\n",
    "        print(\"\"\"        \n",
    "        Ad :{}      \n",
    "        Soyad :{}\n",
    "        Yaş:{}\n",
    "        Maaş :{}\n",
    "        \"\"\".format(self.ad,self.soyad,self.yaş,self.maaş))\n",
    "        \n",
    "    def zam(self,miktar):\n",
    "        print(\"Zam ekleniyor.\")\n",
    "        self.maaş += miktar\n",
    "\n",
    "personel1 = personel(\"Fatih\",\"Öztürk\")\n",
    "personel1.bilgileri_göster()\n",
    "personel1.zam(1000)\n",
    "personel1.bilgileri_göster()\n",
    "\n"
   ]
  },
  {
   "cell_type": "code",
   "execution_count": 111,
   "metadata": {},
   "outputs": [
    {
     "data": {
      "text/plain": [
       "__main__.yönetici"
      ]
     },
     "execution_count": 111,
     "metadata": {},
     "output_type": "execute_result"
    }
   ],
   "source": [
    "class yönetici(personel): \n",
    "    pass \n",
    "\n",
    "müdür = yönetici()\n",
    "dir(müdür)\n",
    "type(müdür)"
   ]
  },
  {
   "cell_type": "code",
   "execution_count": 119,
   "metadata": {},
   "outputs": [],
   "source": [
    "class yönetici(personel):\n",
    "    \n",
    "    def __init__(self, ad = \"Girilmedi\", soyad = \"Bilgi Yok\", yaş = 23 , maaş = 4000, pozisyon = \"Belli Değil\"): \n",
    "        self.ad =  ad \n",
    "        self.soyad = soyad \n",
    "        self.yaş = yaş \n",
    "        self.maaş = maaş\n",
    "        self.pozisyon= pozisyon\n",
    "        \n",
    "müdür = yönetici()\n"
   ]
  },
  {
   "cell_type": "code",
   "execution_count": 121,
   "metadata": {},
   "outputs": [
    {
     "data": {
      "text/plain": [
       "'Yok'"
      ]
     },
     "execution_count": 121,
     "metadata": {},
     "output_type": "execute_result"
    }
   ],
   "source": [
    "class yönetici(personel):\n",
    "    \n",
    "    def __init__(self,pozisyon = \"Yok\"):\n",
    "        super().__init__() \n",
    "        self.pozisyon= pozisyon\n",
    "    \n",
    "müdür = yönetici()\n",
    "müdür.pozisyon"
   ]
  },
  {
   "cell_type": "markdown",
   "metadata": {},
   "source": [
    "# Iterator"
   ]
  },
  {
   "cell_type": "raw",
   "metadata": {},
   "source": [
    "liste = [1,2,3,4,5]\n",
    "dir(liste)\n",
    "iterator = iter(liste)\n",
    "next(iterator)\n",
    "\n",
    "class personel():\n",
    "    def __init__(self,nitelik):\n",
    "        self.nitelik = nitelik \n",
    "        self.index = -1 \n",
    "        \n",
    "    def __iter__(self):\n",
    "        return self \n",
    "    def __next__(self): \n",
    "        self.index += 1\n",
    "        if (self.index < len(self.nitelik)):\n",
    "            return self.nitelik[self.index]\n",
    "        else:\n",
    "            self.index = -1\n",
    "            raise StopIteration\n",
    "\n",
    "ahmet = personel([\"C\",\"Java\",\"C++\",\"Python\"]) \n",
    "\n",
    "iterator =  iter(ahmet)\n",
    "next(ahmet)\n",
    "for i in ahmet:\n",
    "    print(i)\n",
    "    \n",
    "  "
   ]
  },
  {
   "cell_type": "code",
   "execution_count": 153,
   "metadata": {},
   "outputs": [
    {
     "name": "stdout",
     "output_type": "stream",
     "text": [
      "C\n",
      "Java\n",
      "C++\n",
      "Python\n"
     ]
    }
   ],
   "source": [
    "elma = [1,2,5,4]\n",
    "type(elma)\n",
    "dir(elma)\n",
    "itera = iter(elma)\n",
    "next(itera)\n",
    "next(itera)\n",
    "next(itera)\n",
    "next(itera)\n",
    "\n",
    "class personel():\n",
    "    def __init__(self,nitelik):\n",
    "        self.nitelik = nitelik \n",
    "        self.index = -1 \n",
    "        \n",
    "    def __iter__(self):\n",
    "        return self \n",
    "    def __next__(self): \n",
    "        self.index += 1\n",
    "        if (self.index < len(self.nitelik)):\n",
    "            return self.nitelik[self.index]\n",
    "        else:\n",
    "            self.index = -1\n",
    "            raise StopIteration\n",
    "\n",
    "ahmet = personel([\"C\",\"Java\",\"C++\",\"Python\"])\n",
    "iterator = iter(ahmet)\n",
    "for i in ahmet:\n",
    "    print(i)"
   ]
  },
  {
   "cell_type": "markdown",
   "metadata": {},
   "source": [
    "# Generator"
   ]
  },
  {
   "cell_type": "raw",
   "metadata": {},
   "source": [
    "def öncekiyle_carp():\n",
    "    liste = []  \n",
    "    for i in range(1,6):\n",
    "        liste.append(i*(i-1))\n",
    "    return liste\n",
    "\n",
    "print(öncekiyle_carp())\n",
    "\n",
    "--\n",
    "\n",
    "def öncekiyle_carp():\n",
    "    for i in range(1,6):\n",
    "        yield i * (i-1)\n",
    "generator =  öncekiyle_carp()\n",
    "print(generator) \n",
    "iterator = iter(generator)\n",
    "next(iterator) \n",
    "next(iterator)"
   ]
  },
  {
   "cell_type": "code",
   "execution_count": 160,
   "metadata": {},
   "outputs": [
    {
     "name": "stdout",
     "output_type": "stream",
     "text": [
      "[0, 2, 6, 12, 20]\n",
      "<generator object öncekiyle_carp at 0x111a81750>\n"
     ]
    },
    {
     "data": {
      "text/plain": [
       "12"
      ]
     },
     "execution_count": 160,
     "metadata": {},
     "output_type": "execute_result"
    }
   ],
   "source": [
    "def öncekiyle_carp():\n",
    "    liste = []  \n",
    "    for i in range(1,6):\n",
    "        liste.append(i*(i-1))\n",
    "    return liste\n",
    "\n",
    "print(öncekiyle_carp())\n",
    "\n",
    "def öncekiyle_carp():\n",
    "    for i in range(1,6):\n",
    "        yield i * (i-1)\n",
    "        \n",
    "generator =  öncekiyle_carp()\n",
    "print(generator) \n",
    "iterator = iter(generator)\n",
    "next(iterator)\n",
    "next(iterator)\n",
    "next(iterator)\n",
    "next(iterator)\n"
   ]
  },
  {
   "cell_type": "markdown",
   "metadata": {},
   "source": [
    "# Decorator"
   ]
  },
  {
   "cell_type": "raw",
   "metadata": {},
   "source": [
    "def ornek_decorator(fonk):\n",
    "    def wrapper():\n",
    "        print(\"Öncesi\")\n",
    "        fonk()\n",
    "        print(\"Sonrası\")\n",
    "    return wrapper\n",
    "\n",
    "@ornek_decorator\n",
    "def selam():\n",
    "    print(\"Merhaba!\")"
   ]
  },
  {
   "cell_type": "code",
   "execution_count": 161,
   "metadata": {},
   "outputs": [
    {
     "name": "stdout",
     "output_type": "stream",
     "text": [
      "Merhaba!\n"
     ]
    }
   ],
   "source": [
    "def selam():\n",
    "    print(\"Merhaba!\")\n",
    "selam()"
   ]
  },
  {
   "cell_type": "code",
   "execution_count": 162,
   "metadata": {},
   "outputs": [],
   "source": [
    "def ornek_decorator(fonk):\n",
    "    def wrapper():\n",
    "        print(\"Öncesi\")\n",
    "        fonk()\n",
    "        print(\"Sonrası\")\n",
    "    return wrapper\n",
    "\n",
    "@ornek_decorator\n",
    "def selam():\n",
    "    print(\"Merhaba!\")\n"
   ]
  },
  {
   "cell_type": "code",
   "execution_count": 163,
   "metadata": {},
   "outputs": [
    {
     "name": "stdout",
     "output_type": "stream",
     "text": [
      "Öncesi\n",
      "Merhaba!\n",
      "Sonrası\n"
     ]
    }
   ],
   "source": [
    "selam()"
   ]
  },
  {
   "cell_type": "code",
   "execution_count": null,
   "metadata": {},
   "outputs": [],
   "source": []
  }
 ],
 "metadata": {
  "kernelspec": {
   "display_name": "Python 3",
   "language": "python",
   "name": "python3"
  },
  "language_info": {
   "codemirror_mode": {
    "name": "ipython",
    "version": 3
   },
   "file_extension": ".py",
   "mimetype": "text/x-python",
   "name": "python",
   "nbconvert_exporter": "python",
   "pygments_lexer": "ipython3",
   "version": "3.7.4"
  }
 },
 "nbformat": 4,
 "nbformat_minor": 2
}
