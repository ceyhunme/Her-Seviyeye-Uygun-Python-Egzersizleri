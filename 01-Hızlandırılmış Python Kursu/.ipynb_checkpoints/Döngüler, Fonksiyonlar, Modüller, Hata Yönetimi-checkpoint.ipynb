{
 "cells": [
  {
   "cell_type": "markdown",
   "metadata": {},
   "source": [
    "# Döngüler, Fonksiyonlar, Modüller, Hata Yönetimi"
   ]
  },
  {
   "cell_type": "markdown",
   "metadata": {},
   "source": [
    "# Döngüler"
   ]
  },
  {
   "cell_type": "raw",
   "metadata": {},
   "source": [
    "a = [1,2,3,4]\n",
    "\n",
    "for i in a:\n",
    "    print(i)\n",
    "b = \"python\"\n",
    "for harf in b:\n",
    "    print(b)\n",
    "   \n",
    "i = 0\n",
    "while i < 10:\n",
    "    i +=1\n",
    "    if i == 3:\n",
    "        continue\n",
    "    elif i == 7:\n",
    "        break\n",
    "    else: \n",
    "        print(i)"
   ]
  },
  {
   "cell_type": "code",
   "execution_count": 37,
   "metadata": {},
   "outputs": [
    {
     "name": "stdout",
     "output_type": "stream",
     "text": [
      "1\n",
      "2\n",
      "3\n",
      "4\n",
      "python\n",
      "python\n",
      "python\n",
      "python\n",
      "python\n",
      "python\n"
     ]
    }
   ],
   "source": [
    "a = [1,2,3,4]\n",
    "for i in a:\n",
    "    print(i)\n",
    "    \n",
    "b = \"python\"\n",
    "for j in b:\n",
    "    print(b)"
   ]
  },
  {
   "cell_type": "code",
   "execution_count": 41,
   "metadata": {},
   "outputs": [
    {
     "name": "stdout",
     "output_type": "stream",
     "text": [
      "1\n",
      "2\n",
      "4\n",
      "5\n",
      "6\n"
     ]
    }
   ],
   "source": [
    "i = 0\n",
    "while i < 10:\n",
    "    i +=1\n",
    "    if i == 3:\n",
    "        continue\n",
    "    elif i == 7:\n",
    "        break\n",
    "    else: \n",
    "        print(i)"
   ]
  },
  {
   "cell_type": "markdown",
   "metadata": {},
   "source": [
    "# Fonksiyonlar"
   ]
  },
  {
   "cell_type": "raw",
   "metadata": {},
   "source": [
    "def toplama1(a,b,c):\n",
    "    d = a + b + c\n",
    "    print(d)\n",
    "    \n",
    "def toplama2(a,b,c):\n",
    "    d = a + b + c\n",
    "    \n",
    "def toplama3(a,b,c):\n",
    "    d = a + b + c\n",
    "    return d\n",
    "\n",
    "def toplama4(*prm):\n",
    "    toplam = 0\n",
    "    for i in prm:\n",
    "        toplam +=i\n",
    "    return toplam\n",
    "\n",
    "def selamla(isim=\"yok\"):\n",
    "    print(\"merhaba\", isim)\n",
    "    \n",
    "toplama5 = lambda a,b,c:a+b+c"
   ]
  },
  {
   "cell_type": "code",
   "execution_count": 60,
   "metadata": {},
   "outputs": [
    {
     "data": {
      "text/plain": [
       "6"
      ]
     },
     "execution_count": 60,
     "metadata": {},
     "output_type": "execute_result"
    }
   ],
   "source": [
    "toplama5 = lambda a,b,c:a+b+c\n",
    "toplama5(2,3,1)\n"
   ]
  },
  {
   "cell_type": "markdown",
   "metadata": {},
   "source": [
    "# Modüller"
   ]
  },
  {
   "cell_type": "raw",
   "metadata": {},
   "source": [
    "import math\n",
    "dir(math)\n",
    "help(math)\n",
    "math.factorial(5)\n",
    "import math as matematik\n",
    "matematik.ceil(5.4)\n",
    "from math import *\n",
    "from math import factorial\n",
    "from math import factorial as faktöriyel\n",
    "\n",
    "python351/lib\n",
    "aynı klasörde olmalı"
   ]
  },
  {
   "cell_type": "code",
   "execution_count": 89,
   "metadata": {
    "scrolled": false
   },
   "outputs": [
    {
     "data": {
      "text/plain": [
       "6"
      ]
     },
     "execution_count": 89,
     "metadata": {},
     "output_type": "execute_result"
    }
   ],
   "source": [
    "from math import factorial as faktöriyel\n",
    "\n",
    "faktöriyel(3)"
   ]
  },
  {
   "cell_type": "markdown",
   "metadata": {},
   "source": [
    "# Hata Yönetimi"
   ]
  },
  {
   "cell_type": "raw",
   "metadata": {},
   "source": [
    "try: \n",
    "    a = int(input(\"İlk sayıyı giriniz \"))\n",
    "    b = int(input(\"İkinci sayıyı giriniz \"))\n",
    "    print (a/b)\n",
    "except ValueError:\n",
    "    print(\"Sayı giriniz\")\n",
    "except ZeroDivisionError:\n",
    "    print(\"0'a bölemiyorum\")\n",
    "finally:\n",
    "    print(\"her zaman çalışırım\")"
   ]
  },
  {
   "cell_type": "code",
   "execution_count": 92,
   "metadata": {},
   "outputs": [
    {
     "name": "stdout",
     "output_type": "stream",
     "text": [
      "İlk sayıyı giriniz 3\n",
      "İkinci sayıyı giriniz 0\n",
      "0'a bölemiyorum\n",
      "her zaman çalışırım\n"
     ]
    }
   ],
   "source": [
    "try: \n",
    "    a = int(input(\"İlk sayıyı giriniz \"))\n",
    "    b = int(input(\"İkinci sayıyı giriniz \"))\n",
    "    print (a/b)\n",
    "except ValueError:\n",
    "    print(\"Sayı giriniz\")\n",
    "except ZeroDivisionError:\n",
    "    print(\"0'a bölemiyorum\")\n",
    "finally:\n",
    "    print(\"her zaman çalışırım\")"
   ]
  },
  {
   "cell_type": "code",
   "execution_count": 96,
   "metadata": {},
   "outputs": [
    {
     "name": "stdout",
     "output_type": "stream",
     "text": [
      "İlk sayıyı giriniz a\n"
     ]
    },
    {
     "ename": "ValueError",
     "evalue": "invalid literal for int() with base 10: 'a'",
     "output_type": "error",
     "traceback": [
      "\u001b[0;31m---------------------------------------------------------------------------\u001b[0m",
      "\u001b[0;31mValueError\u001b[0m                                Traceback (most recent call last)",
      "\u001b[0;32m<ipython-input-96-c056e0d61dec>\u001b[0m in \u001b[0;36m<module>\u001b[0;34m\u001b[0m\n\u001b[0;32m----> 1\u001b[0;31m \u001b[0ma\u001b[0m \u001b[0;34m=\u001b[0m \u001b[0mint\u001b[0m\u001b[0;34m(\u001b[0m\u001b[0minput\u001b[0m\u001b[0;34m(\u001b[0m\u001b[0;34m\"İlk sayıyı giriniz \"\u001b[0m\u001b[0;34m)\u001b[0m\u001b[0;34m)\u001b[0m\u001b[0;34m\u001b[0m\u001b[0;34m\u001b[0m\u001b[0m\n\u001b[0m\u001b[1;32m      2\u001b[0m \u001b[0mb\u001b[0m \u001b[0;34m=\u001b[0m \u001b[0mint\u001b[0m\u001b[0;34m(\u001b[0m\u001b[0minput\u001b[0m\u001b[0;34m(\u001b[0m\u001b[0;34m\"İkinci sayıyı giriniz \"\u001b[0m\u001b[0;34m)\u001b[0m\u001b[0;34m)\u001b[0m\u001b[0;34m\u001b[0m\u001b[0;34m\u001b[0m\u001b[0m\n\u001b[1;32m      3\u001b[0m \u001b[0mprint\u001b[0m \u001b[0;34m(\u001b[0m\u001b[0ma\u001b[0m\u001b[0;34m/\u001b[0m\u001b[0mb\u001b[0m\u001b[0;34m)\u001b[0m\u001b[0;34m\u001b[0m\u001b[0;34m\u001b[0m\u001b[0m\n",
      "\u001b[0;31mValueError\u001b[0m: invalid literal for int() with base 10: 'a'"
     ]
    }
   ],
   "source": [
    "a = int(input(\"İlk sayıyı giriniz \"))\n",
    "b = int(input(\"İkinci sayıyı giriniz \"))\n",
    "print (a/b)"
   ]
  },
  {
   "cell_type": "code",
   "execution_count": null,
   "metadata": {},
   "outputs": [],
   "source": []
  }
 ],
 "metadata": {
  "kernelspec": {
   "display_name": "Python 3",
   "language": "python",
   "name": "python3"
  },
  "language_info": {
   "codemirror_mode": {
    "name": "ipython",
    "version": 3
   },
   "file_extension": ".py",
   "mimetype": "text/x-python",
   "name": "python",
   "nbconvert_exporter": "python",
   "pygments_lexer": "ipython3",
   "version": "3.7.4"
  }
 },
 "nbformat": 4,
 "nbformat_minor": 2
}
