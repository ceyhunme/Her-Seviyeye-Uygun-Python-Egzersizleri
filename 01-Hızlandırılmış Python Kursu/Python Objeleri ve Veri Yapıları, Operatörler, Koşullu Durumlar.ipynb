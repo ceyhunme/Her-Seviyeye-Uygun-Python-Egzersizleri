{
 "cells": [
  {
   "cell_type": "markdown",
   "metadata": {},
   "source": [
    "# Python Objeleri ve Veri Yapıları, Operatörler, Koşullu Durumlar"
   ]
  },
  {
   "cell_type": "markdown",
   "metadata": {},
   "source": [
    "# Veri Tipleri"
   ]
  },
  {
   "cell_type": "raw",
   "metadata": {},
   "source": [
    "String --> a = \" \" , ' ' , \"\"\" \"\"\"\n",
    "Sayı   --> a = 3\n",
    "Liste  --> a = [2,3.1,\"a\", [\"2\",6]]\n",
    "Demet  --> a = (1,4,6,\"a\")\n",
    "Küme   --> a = {3,42,\"Z\",\"Python\"}\n",
    "Sözlük --> a = {\"Ram\" : 3, \"Ülke\": \"Türkiye\", \"Şehir Plakası\" : 34} \n",
    "Boolean--> a = True, False "
   ]
  },
  {
   "cell_type": "code",
   "execution_count": null,
   "metadata": {},
   "outputs": [],
   "source": []
  },
  {
   "cell_type": "markdown",
   "metadata": {},
   "source": [
    "# Operatörler"
   ]
  },
  {
   "cell_type": "raw",
   "metadata": {},
   "source": [
    "+ - * / ** // %\n",
    "< <= > >= == !=\n",
    "and, or, not"
   ]
  },
  {
   "cell_type": "code",
   "execution_count": null,
   "metadata": {},
   "outputs": [],
   "source": []
  },
  {
   "cell_type": "markdown",
   "metadata": {},
   "source": [
    "# Koşullu Durumlar"
   ]
  },
  {
   "cell_type": "raw",
   "metadata": {},
   "source": [
    "if koşul:\n",
    "    ####\n",
    "elif koşul1:\n",
    "    ####\n",
    "else:\n",
    "    ####"
   ]
  },
  {
   "cell_type": "code",
   "execution_count": 62,
   "metadata": {},
   "outputs": [
    {
     "name": "stdout",
     "output_type": "stream",
     "text": [
      "3.koşul\n"
     ]
    }
   ],
   "source": [
    "if not 2 >= 1:\n",
    "    print(\"1. koşul\")\n",
    "elif 4 % 2 != 0:\n",
    "    print(\"2. koşul\")\n",
    "else: \n",
    "    print(\"3.koşul\")"
   ]
  },
  {
   "cell_type": "markdown",
   "metadata": {},
   "source": [
    "# Diğer"
   ]
  },
  {
   "cell_type": "raw",
   "metadata": {},
   "source": [
    "print()\n",
    "input()\n",
    "a,b = b,a\n",
    "#\n",
    "int() float() str() list() tuple() set() dict() bool()\n",
    "type() dir() len()\n",
    "[2:6:2]\n",
    "[::-1]\n",
    "\\n \\t\n"
   ]
  },
  {
   "cell_type": "code",
   "execution_count": 65,
   "metadata": {},
   "outputs": [
    {
     "name": "stdout",
     "output_type": "stream",
     "text": [
      "Sayı giriniz2\n",
      "girilen sayı 2\n"
     ]
    }
   ],
   "source": [
    "a = input(\"Sayı giriniz\")\n",
    "print(\"girilen sayı\", a)"
   ]
  },
  {
   "cell_type": "code",
   "execution_count": 85,
   "metadata": {},
   "outputs": [
    {
     "name": "stdout",
     "output_type": "stream",
     "text": [
      "[3, 4, 5, 6, 7, 8, 9]\n"
     ]
    }
   ],
   "source": [
    "a = 2\n",
    "b = 3 \n",
    "a,b = b,a\n",
    "#print(a)\n",
    "#print(b)\n",
    "# print(a*b)\n",
    "a = [2,3,4,5,6,6,7,8,5,4,2,2]\n",
    "a = \"python \\t ceyhun \"\n",
    "a = list( range(3,10) )\n",
    "print(a)"
   ]
  },
  {
   "cell_type": "code",
   "execution_count": null,
   "metadata": {},
   "outputs": [],
   "source": []
  }
 ],
 "metadata": {
  "kernelspec": {
   "display_name": "Python 3",
   "language": "python",
   "name": "python3"
  },
  "language_info": {
   "codemirror_mode": {
    "name": "ipython",
    "version": 3
   },
   "file_extension": ".py",
   "mimetype": "text/x-python",
   "name": "python",
   "nbconvert_exporter": "python",
   "pygments_lexer": "ipython3",
   "version": "3.7.4"
  }
 },
 "nbformat": 4,
 "nbformat_minor": 2
}
