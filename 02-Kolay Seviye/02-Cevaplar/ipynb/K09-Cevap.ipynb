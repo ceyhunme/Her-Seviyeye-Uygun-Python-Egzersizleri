{
 "cells": [
  {
   "cell_type": "markdown",
   "metadata": {},
   "source": [
    "# Soru 9"
   ]
  },
  {
   "cell_type": "raw",
   "metadata": {},
   "source": [
    "Bir stringi alan ve içindeki harf ve sayıların sayısını hesaplayan bir fonksiyon yazın. Sonuçları sözlüğe döndürün.\n",
    "\n",
    "Örnekler\n",
    "\n",
    "say(\"Hello World\") ➞ { \"Harfler\":  10, \"Sayılar\": 0 }\n",
    "\n",
    "say(\"H3ll0 Wor1d\") ➞ { \"Harfler\":  7, \"Sayılar\": 3 }\n",
    "\n",
    "say(\"149990\") ➞ { \"Harfler\": 0, \"Sayılar\": 6 }"
   ]
  },
  {
   "cell_type": "code",
   "execution_count": 3,
   "metadata": {},
   "outputs": [],
   "source": [
    "def say(yazi):\n",
    "    ara  = yazi.lower()\n",
    "    harfler = set(\"abcçdefgğhıijklmnoöprsştuüvyz\")\n",
    "    rakam = set(\"0123456789\")\n",
    "    sayılanHarf = 0\n",
    "    sayılanRakam = 0\n",
    "    for karakter in ara:\n",
    "        if karakter in harfler:\n",
    "            sayılanHarf += 1\n",
    "        elif karakter in rakam:\n",
    "            sayılanRakam +=1\n",
    "    return {\"Harfler\":sayılanHarf,\"Sayılar\":sayılanRakam}"
   ]
  },
  {
   "cell_type": "code",
   "execution_count": 4,
   "metadata": {},
   "outputs": [
    {
     "data": {
      "text/plain": [
       "{'Harfler': 6, 'Sayılar': 0}"
      ]
     },
     "execution_count": 4,
     "metadata": {},
     "output_type": "execute_result"
    }
   ],
   "source": [
    "say(\"ceyhun\")"
   ]
  },
  {
   "cell_type": "code",
   "execution_count": 5,
   "metadata": {},
   "outputs": [
    {
     "data": {
      "text/plain": [
       "{'Harfler': 6, 'Sayılar': 2}"
      ]
     },
     "execution_count": 5,
     "metadata": {},
     "output_type": "execute_result"
    }
   ],
   "source": [
    "say(\"ceyhun23\")"
   ]
  },
  {
   "cell_type": "code",
   "execution_count": 14,
   "metadata": {},
   "outputs": [],
   "source": [
    "def say2(yazi):\n",
    "    dict = {\"Harfler\":0,\"Sayılar\":0}\n",
    "    for karakter in yazi:\n",
    "        if karakter.isalpha():\n",
    "            dict[\"Harfler\"] += 1\n",
    "        if karakter.isdigit():\n",
    "            dict[\"Sayılar\"] += 1\n",
    "    return dict"
   ]
  },
  {
   "cell_type": "code",
   "execution_count": 15,
   "metadata": {},
   "outputs": [
    {
     "data": {
      "text/plain": [
       "{'Harfler': 6, 'Sayılar': 0}"
      ]
     },
     "execution_count": 15,
     "metadata": {},
     "output_type": "execute_result"
    }
   ],
   "source": [
    "say2(\"ceyhun\")"
   ]
  },
  {
   "cell_type": "code",
   "execution_count": null,
   "metadata": {},
   "outputs": [],
   "source": []
  }
 ],
 "metadata": {
  "kernelspec": {
   "display_name": "Python 3",
   "language": "python",
   "name": "python3"
  },
  "language_info": {
   "codemirror_mode": {
    "name": "ipython",
    "version": 3
   },
   "file_extension": ".py",
   "mimetype": "text/x-python",
   "name": "python",
   "nbconvert_exporter": "python",
   "pygments_lexer": "ipython3",
   "version": "3.7.4"
  }
 },
 "nbformat": 4,
 "nbformat_minor": 2
}
