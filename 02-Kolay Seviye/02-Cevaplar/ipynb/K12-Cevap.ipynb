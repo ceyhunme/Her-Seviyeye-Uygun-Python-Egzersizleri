{
 "cells": [
  {
   "cell_type": "markdown",
   "metadata": {},
   "source": [
    "# Soru 12"
   ]
  },
  {
   "cell_type": "raw",
   "metadata": {},
   "source": [
    "Parametre olarak bir veya daha fazla kelimeyi alan ve beş veya daha fazla harfe sahip kelimeleri ters döndürecek şekilde döndüren bir fonksiyon yazın. String sadece harfler ve boşluklardan oluşacak. Boşluk sadece birden fazla kelime olduğunda dahil edilecek.\n",
    "\n",
    "Örnekler\n",
    "\n",
    "ters(\"Ters\") ➞ \"Ters\"\n",
    "\n",
    "ters(\"Bu normal bir cümle.\") ➞ \"Bu lamron bir .elmüc\"\n",
    "\n",
    "ters(\"Köpek büyük.\") ➞ \"kepöK .küyüb\""
   ]
  },
  {
   "cell_type": "code",
   "execution_count": 4,
   "metadata": {},
   "outputs": [],
   "source": [
    "def ters(yazi):\n",
    "    kelimeler = yazi.split()\n",
    "    cevap = \"\"\n",
    "    for kelime in kelimeler:\n",
    "        if len(kelime) < 5:\n",
    "            cevap += kelime + \" \"\n",
    "        else:\n",
    "            cevap += kelime[::-1] + \" \"\n",
    "    return cevap.strip()"
   ]
  },
  {
   "cell_type": "code",
   "execution_count": 5,
   "metadata": {},
   "outputs": [
    {
     "data": {
      "text/plain": [
       "'Bu lamron bir .elmüc'"
      ]
     },
     "execution_count": 5,
     "metadata": {},
     "output_type": "execute_result"
    }
   ],
   "source": [
    "ters(\"Bu normal bir cümle.\")"
   ]
  },
  {
   "cell_type": "code",
   "execution_count": null,
   "metadata": {},
   "outputs": [],
   "source": []
  }
 ],
 "metadata": {
  "kernelspec": {
   "display_name": "Python 3",
   "language": "python",
   "name": "python3"
  },
  "language_info": {
   "codemirror_mode": {
    "name": "ipython",
    "version": 3
   },
   "file_extension": ".py",
   "mimetype": "text/x-python",
   "name": "python",
   "nbconvert_exporter": "python",
   "pygments_lexer": "ipython3",
   "version": "3.7.4"
  }
 },
 "nbformat": 4,
 "nbformat_minor": 2
}
