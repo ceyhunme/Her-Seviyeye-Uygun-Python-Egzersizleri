{
 "cells": [
  {
   "cell_type": "markdown",
   "metadata": {},
   "source": [
    "# Soru 11"
   ]
  },
  {
   "cell_type": "raw",
   "metadata": {},
   "source": [
    "Boşluklara göre tam sayıları ayıran ve en büyük ve en küçük tam sayıları (string olarak) döndüren bir fonksiyon yazın.\n",
    "\n",
    "Örnekler\n",
    "\n",
    "buyuk_kucuk(\"1 2 3 4 5\") ➞ \"5 1\"\n",
    "\n",
    "buyuk_kucuk(\"1 2 -3 4 5\") ➞ \"5 -3\"\n",
    "\n",
    "buyuk_kucuk(\"1 9 3 4 -5\") ➞ \"9 -5\"\n",
    "\n",
    "buyuk_kucuk(\"13\") ➞ \"13 13\""
   ]
  },
  {
   "cell_type": "code",
   "execution_count": 36,
   "metadata": {},
   "outputs": [],
   "source": [
    "a = \"3,4 5 9 1\""
   ]
  },
  {
   "cell_type": "code",
   "execution_count": 37,
   "metadata": {},
   "outputs": [
    {
     "data": {
      "text/plain": [
       "['3', '4 5 9 1']"
      ]
     },
     "execution_count": 37,
     "metadata": {},
     "output_type": "execute_result"
    }
   ],
   "source": [
    "a.split(\",\")"
   ]
  },
  {
   "cell_type": "code",
   "execution_count": 39,
   "metadata": {},
   "outputs": [],
   "source": [
    "def buyuk_kucuk(deger):\n",
    "    yeni = deger.split()\n",
    "    yeni = [int(i) for i in yeni]\n",
    "    buyuk = max(yeni)\n",
    "    kucuk = min(yeni)\n",
    "    return str(buyuk)+ \" \" + str(kucuk)"
   ]
  },
  {
   "cell_type": "code",
   "execution_count": 40,
   "metadata": {},
   "outputs": [
    {
     "data": {
      "text/plain": [
       "'5 -3'"
      ]
     },
     "execution_count": 40,
     "metadata": {},
     "output_type": "execute_result"
    }
   ],
   "source": [
    "buyuk_kucuk(\"4 5 0 1 -3\")"
   ]
  },
  {
   "cell_type": "code",
   "execution_count": null,
   "metadata": {},
   "outputs": [],
   "source": []
  }
 ],
 "metadata": {
  "kernelspec": {
   "display_name": "Python 3",
   "language": "python",
   "name": "python3"
  },
  "language_info": {
   "codemirror_mode": {
    "name": "ipython",
    "version": 3
   },
   "file_extension": ".py",
   "mimetype": "text/x-python",
   "name": "python",
   "nbconvert_exporter": "python",
   "pygments_lexer": "ipython3",
   "version": "3.7.4"
  }
 },
 "nbformat": 4,
 "nbformat_minor": 2
}
