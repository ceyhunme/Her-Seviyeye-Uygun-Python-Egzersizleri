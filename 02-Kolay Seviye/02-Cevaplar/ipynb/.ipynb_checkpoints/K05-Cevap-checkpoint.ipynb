{
 "cells": [
  {
   "cell_type": "markdown",
   "metadata": {},
   "source": [
    "# Soru 5"
   ]
  },
  {
   "cell_type": "raw",
   "metadata": {},
   "source": [
    "Vural ve Fatih yakın arkadaşlar. Listede yan yana duruyorlarsa fonksiyon True döndürmeli. Aralarında isim varsa False döndürmeli.\n",
    "\n",
    "Örnekler\n",
    "arkadas([\"Fatih\", \"Vural\", \"Emre\"]) ➞ True\n",
    "\n",
    "arkadas([\"Fatih\", \"Furkan\", \"Vural\"]) ➞ False\n",
    "\n",
    "arkadas([\"Ahmet\", \"Vural\", \"Fatih\", \"Mehmet\"]) ➞ True\n",
    "\n",
    "Notlar:\n",
    "İlk önce kimin geldiğinden bağımsız olarak Fatih ve Vural yan yanayda sonuç True olmalı.\n",
    "Listede sadece bir Vural ve bir Fatih var."
   ]
  },
  {
   "cell_type": "code",
   "execution_count": 1,
   "metadata": {},
   "outputs": [],
   "source": [
    "a = [\"ahmet\",\"mehmet\",\"ceyhun\"]"
   ]
  },
  {
   "cell_type": "code",
   "execution_count": 2,
   "metadata": {},
   "outputs": [
    {
     "data": {
      "text/plain": [
       "1"
      ]
     },
     "execution_count": 2,
     "metadata": {},
     "output_type": "execute_result"
    }
   ],
   "source": [
    "a.index(\"mehmet\")"
   ]
  },
  {
   "cell_type": "code",
   "execution_count": 3,
   "metadata": {},
   "outputs": [],
   "source": [
    "def arkadas(liste):\n",
    "    if liste.index(\"Vural\") == liste.index(\"Fatih\")+1:\n",
    "        return True\n",
    "    if liste.index(\"Vural\") == liste.index(\"Fatih\")-1:\n",
    "        return True\n",
    "    return False"
   ]
  },
  {
   "cell_type": "code",
   "execution_count": 4,
   "metadata": {},
   "outputs": [
    {
     "data": {
      "text/plain": [
       "True"
      ]
     },
     "execution_count": 4,
     "metadata": {},
     "output_type": "execute_result"
    }
   ],
   "source": [
    "arkadas([\"Ali\",\"Mehmet\",\"Fatih\",\"Vural\"])"
   ]
  },
  {
   "cell_type": "code",
   "execution_count": 5,
   "metadata": {},
   "outputs": [
    {
     "data": {
      "text/plain": [
       "False"
      ]
     },
     "execution_count": 5,
     "metadata": {},
     "output_type": "execute_result"
    }
   ],
   "source": [
    "arkadas([\"Ali\",\"Mehmet\",\"Fatih\",\"Ceyhun\",\"Vural\"])"
   ]
  },
  {
   "cell_type": "code",
   "execution_count": null,
   "metadata": {},
   "outputs": [],
   "source": []
  }
 ],
 "metadata": {
  "kernelspec": {
   "display_name": "Python 3",
   "language": "python",
   "name": "python3"
  },
  "language_info": {
   "codemirror_mode": {
    "name": "ipython",
    "version": 3
   },
   "file_extension": ".py",
   "mimetype": "text/x-python",
   "name": "python",
   "nbconvert_exporter": "python",
   "pygments_lexer": "ipython3",
   "version": "3.7.4"
  }
 },
 "nbformat": 4,
 "nbformat_minor": 2
}
