{
 "cells": [
  {
   "cell_type": "markdown",
   "metadata": {},
   "source": [
    "# Soru 7"
   ]
  },
  {
   "cell_type": "raw",
   "metadata": {},
   "source": [
    "Tarihi alan ve doğru yüzyıla döndüren bir fonksiyon oluşturun.\n",
    "\n",
    "Örnekler\n",
    "\n",
    "yuzyil(1756) ➞ \"18. yüzyıl\"\n",
    "\n",
    "yuzyil(1555) ➞ \"16. yüzyıl\"\n",
    "\n",
    "yuzyil(1000) ➞ \"10. yüzyıl\"\n",
    "\n",
    "yuzyil(1001) ➞ \"11. yüzyıl\"\n",
    "\n",
    "yuzyil(2005) ➞ \"21. yüzyıl\"\n",
    "\n",
    "Notlar:\n",
    "\n",
    "1000 ve 2010 arasındaki tüm tarihler.\n",
    "11. yüzyıl 1001 ila 1100 arasında.\n",
    "18. yüzyıl 1701 ila 1800 arasında."
   ]
  },
  {
   "cell_type": "code",
   "execution_count": 9,
   "metadata": {},
   "outputs": [],
   "source": [
    "def yuzyil(yil):\n",
    "    n = yil//100\n",
    "    if (yil%100>0):\n",
    "        n+=1\n",
    "    return \"{s}. yüzyıl\".format(s=n)"
   ]
  },
  {
   "cell_type": "code",
   "execution_count": 10,
   "metadata": {},
   "outputs": [
    {
     "data": {
      "text/plain": [
       "'21. yüzyıl'"
      ]
     },
     "execution_count": 10,
     "metadata": {},
     "output_type": "execute_result"
    }
   ],
   "source": [
    "yuzyil(2020)"
   ]
  },
  {
   "cell_type": "code",
   "execution_count": 11,
   "metadata": {},
   "outputs": [
    {
     "data": {
      "text/plain": [
       "'20. yüzyıl'"
      ]
     },
     "execution_count": 11,
     "metadata": {},
     "output_type": "execute_result"
    }
   ],
   "source": [
    "yuzyil(2000)"
   ]
  },
  {
   "cell_type": "code",
   "execution_count": null,
   "metadata": {},
   "outputs": [],
   "source": []
  }
 ],
 "metadata": {
  "kernelspec": {
   "display_name": "Python 3",
   "language": "python",
   "name": "python3"
  },
  "language_info": {
   "codemirror_mode": {
    "name": "ipython",
    "version": 3
   },
   "file_extension": ".py",
   "mimetype": "text/x-python",
   "name": "python",
   "nbconvert_exporter": "python",
   "pygments_lexer": "ipython3",
   "version": "3.7.4"
  }
 },
 "nbformat": 4,
 "nbformat_minor": 2
}
