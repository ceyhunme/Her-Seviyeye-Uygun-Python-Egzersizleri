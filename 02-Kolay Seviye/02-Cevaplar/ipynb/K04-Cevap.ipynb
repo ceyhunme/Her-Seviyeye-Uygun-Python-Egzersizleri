{
 "cells": [
  {
   "cell_type": "markdown",
   "metadata": {},
   "source": [
    "# Soru 4"
   ]
  },
  {
   "cell_type": "raw",
   "metadata": {},
   "source": [
    "Bir çiftçi sizden tüm hayvanlarının bacak sayısını söylemeniz konusunda yardım istiyor. Çiftçide üç tür hayvan var:\n",
    "\n",
    "tavuk, inek, koyun *Sırasıyla\n",
    "\n",
    "Çiftçi hayvanlarını saydı ve size tüm türlerin alt toplamını verdi. Tüm hayvanların toplam bacak sayısını döndüren bir fonksiyonu uygulamanız gerekiyor.\n",
    "\n",
    "Örnekler\n",
    "\n",
    "hayvanlar(2, 3, 5) ➞ 36\n",
    "\n",
    "hayvanlar(1, 2, 3) ➞ 22\n",
    "\n",
    "hayvanlar(5, 2, 8) ➞ 50"
   ]
  },
  {
   "cell_type": "code",
   "execution_count": 1,
   "metadata": {},
   "outputs": [],
   "source": [
    "def hayvanlarBacakSayisi (tavuk,inek,koyun):\n",
    "    tavukBacak = 2*tavuk\n",
    "    inekBacak = 4*inek\n",
    "    koyunBacak = 4*koyun\n",
    "    cevap=tavukBacak+inekBacak+koyunBacak\n",
    "    return cevap"
   ]
  },
  {
   "cell_type": "code",
   "execution_count": 2,
   "metadata": {},
   "outputs": [
    {
     "data": {
      "text/plain": [
       "36"
      ]
     },
     "execution_count": 2,
     "metadata": {},
     "output_type": "execute_result"
    }
   ],
   "source": [
    "hayvanlarBacakSayisi(2,3,5)"
   ]
  },
  {
   "cell_type": "code",
   "execution_count": 3,
   "metadata": {},
   "outputs": [],
   "source": [
    "def hayvanlar2(t,i,k):\n",
    "    return t*2+(i+k)*4"
   ]
  },
  {
   "cell_type": "code",
   "execution_count": 4,
   "metadata": {},
   "outputs": [
    {
     "data": {
      "text/plain": [
       "36"
      ]
     },
     "execution_count": 4,
     "metadata": {},
     "output_type": "execute_result"
    }
   ],
   "source": [
    "hayvanlar2(2,3,5)"
   ]
  },
  {
   "cell_type": "code",
   "execution_count": null,
   "metadata": {},
   "outputs": [],
   "source": []
  }
 ],
 "metadata": {
  "kernelspec": {
   "display_name": "Python 3",
   "language": "python",
   "name": "python3"
  },
  "language_info": {
   "codemirror_mode": {
    "name": "ipython",
    "version": 3
   },
   "file_extension": ".py",
   "mimetype": "text/x-python",
   "name": "python",
   "nbconvert_exporter": "python",
   "pygments_lexer": "ipython3",
   "version": "3.7.4"
  }
 },
 "nbformat": 4,
 "nbformat_minor": 2
}
