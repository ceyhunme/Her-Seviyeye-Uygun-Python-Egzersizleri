{
 "cells": [
  {
   "cell_type": "markdown",
   "metadata": {},
   "source": [
    "# Soru 15"
   ]
  },
  {
   "cell_type": "raw",
   "metadata": {},
   "source": [
    "Oy sayısı dizisini sayılar listesine dönüştüren bir fonksiyon yazın. k bini temsil eder.\n",
    "\n",
    "Örnekler\n",
    "\n",
    "transform_upvotes(\"6.8k 13.5k\") ➞ [6800, 13500]\n",
    "\n",
    "transform_upvotes(\"5.5k 8.9k 32\") ➞ [5500, 8900, 32]\n",
    "\n",
    "transform_upvotes(\"20.3k 3.8k 7.7k 992\") ➞ [20300, 3800, 7700, 992]\n",
    "\n",
    "Notlar:\n",
    "\n",
    "Oyları liste olarak döndürün."
   ]
  },
  {
   "cell_type": "code",
   "execution_count": null,
   "metadata": {},
   "outputs": [],
   "source": []
  }
 ],
 "metadata": {
  "kernelspec": {
   "display_name": "Python 3",
   "language": "python",
   "name": "python3"
  },
  "language_info": {
   "codemirror_mode": {
    "name": "ipython",
    "version": 3
   },
   "file_extension": ".py",
   "mimetype": "text/x-python",
   "name": "python",
   "nbconvert_exporter": "python",
   "pygments_lexer": "ipython3",
   "version": "3.7.4"
  }
 },
 "nbformat": 4,
 "nbformat_minor": 2
}
