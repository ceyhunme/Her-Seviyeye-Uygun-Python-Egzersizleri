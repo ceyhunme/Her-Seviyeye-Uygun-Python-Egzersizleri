{
 "cells": [
  {
   "cell_type": "markdown",
   "metadata": {},
   "source": [
    "# Soru 1"
   ]
  },
  {
   "cell_type": "markdown",
   "metadata": {},
   "source": [
    "Taban sayısını ve üstel sayıyı alan ve hesaplamayı döndüren bir fonksiyon yazın.\n",
    "\n",
    "Örnekler\n",
    "\n",
    "calculate_exponent(5, 5) ➞ 3125\n",
    "\n",
    "calculate_exponent(10, 10) ➞ 10000000000\n",
    "\n",
    "calculate_exponent(3, 3) ➞ 27\n",
    "\n",
    "Notlar:\n",
    "Tüm test girdileri pozitif tam sayılar olacak.\n",
    "Sonuca dönmeyi (return) unutmayın.\n"
   ]
  },
  {
   "cell_type": "code",
   "execution_count": null,
   "metadata": {},
   "outputs": [],
   "source": []
  }
 ],
 "metadata": {
  "kernelspec": {
   "display_name": "Python 3",
   "language": "python",
   "name": "python3"
  },
  "language_info": {
   "codemirror_mode": {
    "name": "ipython",
    "version": 3
   },
   "file_extension": ".py",
   "mimetype": "text/x-python",
   "name": "python",
   "nbconvert_exporter": "python",
   "pygments_lexer": "ipython3",
   "version": "3.7.4"
  }
 },
 "nbformat": 4,
 "nbformat_minor": 2
}
