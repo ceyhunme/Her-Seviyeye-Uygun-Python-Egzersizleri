{
 "cells": [
  {
   "cell_type": "markdown",
   "metadata": {},
   "source": [
    "# Soru 20"
   ]
  },
  {
   "cell_type": "raw",
   "metadata": {},
   "source": [
    "Çok fazla alt listesi olan bir listede orijinal değere dönen bir fonksiyon yazın.\n",
    "\n",
    "Örnekler\n",
    "deNest([[[[[[[[[[[[3]]]]]]]]]]]]) ➞ 3\n",
    "\n",
    "deNest([[[[[[[True]]]]]]]) ➞ True\n",
    "\n",
    "deNest([[[[[[[[[[[[[[[[['edabit']]]]]]]]]]]]]]]]]) ➞ 'edabit'\n",
    "\n",
    "Notlar:\n",
    "Sadece bir elemanı almanız gerekiyor.\n",
    "“3” veya “False” gibi testler olmayacak (diziler diğer veri türleriyle çakışmıyor)."
   ]
  },
  {
   "cell_type": "code",
   "execution_count": null,
   "metadata": {},
   "outputs": [],
   "source": []
  }
 ],
 "metadata": {
  "kernelspec": {
   "display_name": "Python 3",
   "language": "python",
   "name": "python3"
  },
  "language_info": {
   "codemirror_mode": {
    "name": "ipython",
    "version": 3
   },
   "file_extension": ".py",
   "mimetype": "text/x-python",
   "name": "python",
   "nbconvert_exporter": "python",
   "pygments_lexer": "ipython3",
   "version": "3.7.4"
  }
 },
 "nbformat": 4,
 "nbformat_minor": 2
}
