{
 "cells": [
  {
   "cell_type": "markdown",
   "metadata": {},
   "source": [
    "# Soru 14"
   ]
  },
  {
   "cell_type": "raw",
   "metadata": {},
   "source": [
    "a sayısını alan ve x üstü alındığında b sayısına eşit olan kayıp x üstel sayısını bulan bir fonksiyon yazın.\n",
    "\n",
    "Örnekler\n",
    "us_bul(4, 1024) ➞ 5\n",
    "\n",
    "us_bul(2, 16) ➞ 4\n",
    "\n",
    "us_bul(9, 3486784401) ➞ 10\n",
    "\n"
   ]
  },
  {
   "cell_type": "code",
   "execution_count": null,
   "metadata": {},
   "outputs": [],
   "source": []
  }
 ],
 "metadata": {
  "kernelspec": {
   "display_name": "Python 3",
   "language": "python",
   "name": "python3"
  },
  "language_info": {
   "codemirror_mode": {
    "name": "ipython",
    "version": 3
   },
   "file_extension": ".py",
   "mimetype": "text/x-python",
   "name": "python",
   "nbconvert_exporter": "python",
   "pygments_lexer": "ipython3",
   "version": "3.7.4"
  }
 },
 "nbformat": 4,
 "nbformat_minor": 2
}
