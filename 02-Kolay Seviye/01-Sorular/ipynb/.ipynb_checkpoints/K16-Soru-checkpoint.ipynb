{
 "cells": [
  {
   "cell_type": "markdown",
   "metadata": {},
   "source": [
    "# Soru 16"
   ]
  },
  {
   "cell_type": "raw",
   "metadata": {},
   "source": [
    "Fibonnacci sayıları şu şekilde oluşturulur:\n",
    "\n",
    "F(0) = 0\n",
    "F(1) = 1\n",
    "...\n",
    "F(n) = F(n-2) + F(n-1)\n",
    "n. Fibonnaci sayısını hesaplayan bir fonksiyon yazın.\n",
    "\n",
    "Örnekler\n",
    "fib(0) ➞ 0\n",
    "\n",
    "fib(1) ➞ 1\n",
    "\n",
    "fib(2) ➞ 1\n",
    "\n",
    "fib(8) ➞ 21"
   ]
  },
  {
   "cell_type": "code",
   "execution_count": null,
   "metadata": {},
   "outputs": [],
   "source": []
  }
 ],
 "metadata": {
  "kernelspec": {
   "display_name": "Python 3",
   "language": "python",
   "name": "python3"
  },
  "language_info": {
   "codemirror_mode": {
    "name": "ipython",
    "version": 3
   },
   "file_extension": ".py",
   "mimetype": "text/x-python",
   "name": "python",
   "nbconvert_exporter": "python",
   "pygments_lexer": "ipython3",
   "version": "3.7.4"
  }
 },
 "nbformat": 4,
 "nbformat_minor": 2
}
