{
 "cells": [
  {
   "cell_type": "markdown",
   "metadata": {},
   "source": [
    "# Soru 5"
   ]
  },
  {
   "cell_type": "raw",
   "metadata": {},
   "source": [
    "Vural ve Fatih yakın arkadaşlar. Listede yan yana duruyorlarsa fonksiyon True döndürmeli. Aralarında isim varsa False döndürmeli.\n",
    "\n",
    "Örnekler\n",
    "arkadas([\"Fatih\", \"Vural\", \"Emre\"]) ➞ True\n",
    "\n",
    "arkadas([\"Fatih\", \"Furkan\", \"Vural\"]) ➞ False\n",
    "\n",
    "arkadas([\"Ahmet\", \"Vural\", \"Fatih\", \"Mehmet\"]) ➞ True\n",
    "\n",
    "Notlar:\n",
    "İlk önce kimin geldiğinden bağımsız olarak Fatih ve Vural yan yanayda sonuç True olmalı.\n",
    "Listede sadece bir Vural ve bir Fatih var."
   ]
  },
  {
   "cell_type": "code",
   "execution_count": null,
   "metadata": {},
   "outputs": [],
   "source": []
  }
 ],
 "metadata": {
  "kernelspec": {
   "display_name": "Python 3",
   "language": "python",
   "name": "python3"
  },
  "language_info": {
   "codemirror_mode": {
    "name": "ipython",
    "version": 3
   },
   "file_extension": ".py",
   "mimetype": "text/x-python",
   "name": "python",
   "nbconvert_exporter": "python",
   "pygments_lexer": "ipython3",
   "version": "3.7.4"
  }
 },
 "nbformat": 4,
 "nbformat_minor": 2
}
