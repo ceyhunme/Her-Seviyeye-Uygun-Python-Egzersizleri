{
 "cells": [
  {
   "cell_type": "markdown",
   "metadata": {},
   "source": [
    "# Soru 19"
   ]
  },
  {
   "cell_type": "raw",
   "metadata": {},
   "source": [
    "Bir ifadeyi alan ve her kelimeyi aşağıdaki kurallara göre dönüştüren bir fonksiyon oluşturun:\n",
    "\n",
    "İlk ve son karakterleri aynı tutun.\n",
    "Ortadaki karakterleri - çizgi ile değiştirin.\n",
    "Örnekler\n",
    "partially_hide(\"skies were pretty\") ➞ \"s---s w--e p----y\"\n",
    "\n",
    "partially_hide(\"red is not my color\") ➞ \"r-d is n-t my c---r\"\n",
    "\n",
    "partially_hide(\"She rolled her eyes\") ➞ \"S-e r----d h-r e--s\"\n",
    "\n",
    "partially_hide(\"Harry went to fight the basilisk\") ➞ \"H---y w--t to f---t t-e b------k\"\n",
    "\n",
    "Notlar:\n",
    "\n",
    "İki ya da daha az harfe sahip kelimeler saklanmayacak.\n"
   ]
  },
  {
   "cell_type": "code",
   "execution_count": null,
   "metadata": {},
   "outputs": [],
   "source": []
  }
 ],
 "metadata": {
  "kernelspec": {
   "display_name": "Python 3",
   "language": "python",
   "name": "python3"
  },
  "language_info": {
   "codemirror_mode": {
    "name": "ipython",
    "version": 3
   },
   "file_extension": ".py",
   "mimetype": "text/x-python",
   "name": "python",
   "nbconvert_exporter": "python",
   "pygments_lexer": "ipython3",
   "version": "3.7.4"
  }
 },
 "nbformat": 4,
 "nbformat_minor": 2
}
