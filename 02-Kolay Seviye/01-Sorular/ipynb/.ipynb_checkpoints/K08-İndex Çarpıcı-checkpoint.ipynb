{
 "cells": [
  {
   "cell_type": "markdown",
   "metadata": {},
   "source": [
    "# Soru 8"
   ]
  },
  {
   "cell_type": "raw",
   "metadata": {},
   "source": [
    "Her elemanın kendi endeksi ile çarpıldığı (sıfır tabanı) listede tüm elemanların toplamını döndürün. Boş listeler için 0 döndürün.\n",
    "\n",
    "Örnekler\n",
    "\n",
    "index_multiplier([1, 2, 3, 4, 5]) ➞ 40\n",
    "# (1*0 + 2*1 + 3*2 + 4*3 + 5*4)\n",
    "\n",
    "index_multiplier([-3, 0, 8, -6]) ➞ -2\n",
    "# (-3*0 + 0*1 + 8*2 + -6*3)"
   ]
  },
  {
   "cell_type": "code",
   "execution_count": null,
   "metadata": {},
   "outputs": [],
   "source": []
  }
 ],
 "metadata": {
  "kernelspec": {
   "display_name": "Python 3",
   "language": "python",
   "name": "python3"
  },
  "language_info": {
   "codemirror_mode": {
    "name": "ipython",
    "version": 3
   },
   "file_extension": ".py",
   "mimetype": "text/x-python",
   "name": "python",
   "nbconvert_exporter": "python",
   "pygments_lexer": "ipython3",
   "version": "3.7.4"
  }
 },
 "nbformat": 4,
 "nbformat_minor": 2
}
