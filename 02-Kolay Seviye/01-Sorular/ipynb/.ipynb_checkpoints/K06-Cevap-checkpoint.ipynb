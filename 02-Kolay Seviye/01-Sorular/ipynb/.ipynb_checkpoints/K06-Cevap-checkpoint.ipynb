{
 "cells": [
  {
   "cell_type": "markdown",
   "metadata": {},
   "source": [
    "# Soru 6"
   ]
  },
  {
   "cell_type": "raw",
   "metadata": {},
   "source": [
    "Bir string alan ve tüm sesli harflerin çıkarıldığı yeni bir string döndüren bir fonksiyon oluşturun.\n",
    "\n",
    "Örnekler\n",
    "\n",
    "sesli_kaldir(\"Hayatımda hiç Diyet Kola içen ince bir insan görmedim.\")\n",
    "➞ \" Hytmd hç Dyt Kl çn nc br nsn grmdm.”\n",
    "\n",
    "sesli_kaldir(\"Duvar inşa edeceğiz!\")\n",
    "➞ \"Dvr nş dcğz!\"\n"
   ]
  },
  {
   "cell_type": "code",
   "execution_count": null,
   "metadata": {},
   "outputs": [],
   "source": []
  }
 ],
 "metadata": {
  "kernelspec": {
   "display_name": "Python 3",
   "language": "python",
   "name": "python3"
  },
  "language_info": {
   "codemirror_mode": {
    "name": "ipython",
    "version": 3
   },
   "file_extension": ".py",
   "mimetype": "text/x-python",
   "name": "python",
   "nbconvert_exporter": "python",
   "pygments_lexer": "ipython3",
   "version": "3.7.4"
  }
 },
 "nbformat": 4,
 "nbformat_minor": 2
}
