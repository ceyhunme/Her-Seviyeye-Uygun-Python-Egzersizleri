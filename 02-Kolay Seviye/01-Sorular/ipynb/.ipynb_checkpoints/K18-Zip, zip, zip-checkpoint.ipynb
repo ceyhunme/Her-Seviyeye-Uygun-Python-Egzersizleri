{
 "cells": [
  {
   "cell_type": "markdown",
   "metadata": {},
   "source": [
    "# Soru 18"
   ]
  },
  {
   "cell_type": "raw",
   "metadata": {},
   "source": [
    "Bir dizide ikinci kere “zip” geçen pozisyonu veya en az iki kere geçmiyorsa -1 döndüren bir fonksiyon yazın. Kodunuz bir dizide “zip” kelimesinin kullanılabileceği tüm durumları kapsayacak kadar genel olmalıdır.\n",
    "\n",
    "Örnekler\n",
    "\n",
    "find_zip(\"all zip files are zipped\") ➞ 18\n",
    "find_zip(\"all zip files are compressed\") ➞ -1\n",
    "\n",
    "Notlar:\n",
    "\n",
    "Büyük harfli “Zip” ile küçük harfli “zip” aynı şey değildir.\n"
   ]
  },
  {
   "cell_type": "code",
   "execution_count": null,
   "metadata": {},
   "outputs": [],
   "source": []
  }
 ],
 "metadata": {
  "kernelspec": {
   "display_name": "Python 3",
   "language": "python",
   "name": "python3"
  },
  "language_info": {
   "codemirror_mode": {
    "name": "ipython",
    "version": 3
   },
   "file_extension": ".py",
   "mimetype": "text/x-python",
   "name": "python",
   "nbconvert_exporter": "python",
   "pygments_lexer": "ipython3",
   "version": "3.7.4"
  }
 },
 "nbformat": 4,
 "nbformat_minor": 2
}
