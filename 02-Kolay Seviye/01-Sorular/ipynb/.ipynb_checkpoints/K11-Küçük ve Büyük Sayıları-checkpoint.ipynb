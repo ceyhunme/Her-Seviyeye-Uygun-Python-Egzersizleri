{
 "cells": [
  {
   "cell_type": "markdown",
   "metadata": {},
   "source": [
    "# Soru 11"
   ]
  },
  {
   "cell_type": "raw",
   "metadata": {},
   "source": [
    "Tam sayıları ayıran boşlukları kabul eden ve en büyük ve en küçük tam sayıları (dizi olarak) döndüren bir fonksiyon yazın.\n",
    "\n",
    "Örnekler\n",
    "\n",
    "high_low(\"1 2 3 4 5\") ➞ \"5 1\"\n",
    "\n",
    "high_low(\"1 2 -3 4 5\") ➞ \"5 -3\"\n",
    "\n",
    "high_low(\"1 9 3 4 -5\") ➞ \"9 -5\"\n",
    "\n",
    "high_low(\"13\") ➞ \"13 13\""
   ]
  },
  {
   "cell_type": "code",
   "execution_count": null,
   "metadata": {},
   "outputs": [],
   "source": []
  }
 ],
 "metadata": {
  "kernelspec": {
   "display_name": "Python 3",
   "language": "python",
   "name": "python3"
  },
  "language_info": {
   "codemirror_mode": {
    "name": "ipython",
    "version": 3
   },
   "file_extension": ".py",
   "mimetype": "text/x-python",
   "name": "python",
   "nbconvert_exporter": "python",
   "pygments_lexer": "ipython3",
   "version": "3.7.4"
  }
 },
 "nbformat": 4,
 "nbformat_minor": 2
}
