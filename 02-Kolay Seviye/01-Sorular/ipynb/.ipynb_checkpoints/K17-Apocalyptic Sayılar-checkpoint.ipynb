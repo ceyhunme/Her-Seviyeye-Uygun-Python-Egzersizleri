{
 "cells": [
  {
   "cell_type": "markdown",
   "metadata": {},
   "source": [
    "# Soru 17"
   ]
  },
  {
   "cell_type": "raw",
   "metadata": {},
   "source": [
    "Bu mücadelede bir sayının kıyamet sayısı olup olmadığını belirleyeceksiniz. 0’dan büyük bir n pozitif tam sayısı 2’nin üstü olarak alındığında bir veya daha fazla 666 içeriyorsa kıyamet sayısı olarak adlandırılır.\n",
    "\n",
    "n tam sayısı için aşağıdaki sonucu döndüren bir fonksiyon yazın:\n",
    "\n",
    "n kıyamet sayısı değilse “Güvenli”.\n",
    "Eğer 2^n tek bir 666 içeriyorsa “Tek”.\n",
    "Eğer 2^n iki tane 666 içeriyorsa “Çift”.\n",
    "Eğer 2^n üç tane 666 içeriyorsa “Üç”.\n",
    "Örnekler\n",
    "is_apocalyptic(66) ➞ \"Güvenli\"\n",
    "# 2^66 = 73786976294838206464\n",
    "\n",
    "is_apocalyptic(157) ➞ \"Tek\"\n",
    "# 2^157 =\n",
    "# 182687704|666|362864775460604089535377456991567872\n",
    "\n",
    "is_apocalyptic(220) ➞ \"Çift\"\n",
    "# 2^220 =\n",
    "# 168499|666|66969149871|666|8844293872691710232152640 ...\n",
    "\n",
    "is_apocalyptic(931) ➞ \"Üçlü\"\n",
    "# 2^931 =\n",
    "# 181520618710|666|8777829|666|135436890332191479738353753001777065257954029122510259245050254290156440857653562895251700406555730694879815558725330603736697259064676478076718090|666| ...\n",
    "\n",
    "Notlar:\n",
    "n sayısı 1 ila 100 arasında pozitif tam sayı olacak.\n",
    "Görülmelerin benzersiz olması gerekir; eşleşen rakamları tekrar kullanamazsınız (bkz. örnek 3; beş tane yan yana 6 olmasına rağmen bir tane olası eşleşme var).\n"
   ]
  },
  {
   "cell_type": "code",
   "execution_count": null,
   "metadata": {},
   "outputs": [],
   "source": []
  }
 ],
 "metadata": {
  "kernelspec": {
   "display_name": "Python 3",
   "language": "python",
   "name": "python3"
  },
  "language_info": {
   "codemirror_mode": {
    "name": "ipython",
    "version": 3
   },
   "file_extension": ".py",
   "mimetype": "text/x-python",
   "name": "python",
   "nbconvert_exporter": "python",
   "pygments_lexer": "ipython3",
   "version": "3.7.4"
  }
 },
 "nbformat": 4,
 "nbformat_minor": 2
}
