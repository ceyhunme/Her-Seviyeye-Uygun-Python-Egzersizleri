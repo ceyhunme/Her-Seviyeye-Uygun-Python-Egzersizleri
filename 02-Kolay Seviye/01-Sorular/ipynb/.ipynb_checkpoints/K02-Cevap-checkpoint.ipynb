{
 "cells": [
  {
   "cell_type": "markdown",
   "metadata": {},
   "source": [
    "# Soru 2"
   ]
  },
  {
   "cell_type": "raw",
   "metadata": {},
   "source": [
    "Girdi dizisi sadece büyük harf veya sadece küçük harf içeriyorsa True döndüren bir fonksiyon yazın.\n",
    "\n",
    "Örnekler\n",
    "\n",
    "ayni_mi(\"selam\") ➞ True\n",
    "\n",
    "ayni_mi(\"SELAM\") ➞ True\n",
    "\n",
    "ayni_mi(\"Selam\") ➞ False\n",
    "\n",
    "ayni_mi(\"seLam\") ➞ False"
   ]
  },
  {
   "cell_type": "code",
   "execution_count": null,
   "metadata": {},
   "outputs": [],
   "source": []
  }
 ],
 "metadata": {
  "kernelspec": {
   "display_name": "Python 3",
   "language": "python",
   "name": "python3"
  },
  "language_info": {
   "codemirror_mode": {
    "name": "ipython",
    "version": 3
   },
   "file_extension": ".py",
   "mimetype": "text/x-python",
   "name": "python",
   "nbconvert_exporter": "python",
   "pygments_lexer": "ipython3",
   "version": "3.7.4"
  }
 },
 "nbformat": 4,
 "nbformat_minor": 2
}
