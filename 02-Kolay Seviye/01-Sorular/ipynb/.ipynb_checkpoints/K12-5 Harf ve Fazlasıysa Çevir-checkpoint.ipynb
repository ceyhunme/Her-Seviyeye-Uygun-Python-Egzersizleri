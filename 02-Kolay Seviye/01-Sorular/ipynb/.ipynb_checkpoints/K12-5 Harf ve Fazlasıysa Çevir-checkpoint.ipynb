{
 "cells": [
  {
   "cell_type": "markdown",
   "metadata": {},
   "source": [
    "# Soru 12"
   ]
  },
  {
   "cell_type": "raw",
   "metadata": {},
   "source": [
    "Argüman olarak bir veya daha fazla kelimeyi alan ve aynı diziye beş veya daha fazla harfe sahip kelimeleri ters döndürecek şekilde döndüren bir fonksiyon yazın. Dizi sadece harfler ve boşluklardan oluşacak. Boşluk sadece birden fazla kelime olduğunda dahil edilecek.\n",
    "\n",
    "Örnekler\n",
    "\n",
    "reverse(\"Ters\") ➞ \"Ters\"\n",
    "\n",
    "reverse(\"Bu normal bir cümle.\") ➞ \"Bu lamron bir .elmüc\"\n",
    "\n",
    "reverse(\"Köpek büyük.\") ➞ \"kepöK .küyüb.\""
   ]
  },
  {
   "cell_type": "code",
   "execution_count": null,
   "metadata": {},
   "outputs": [],
   "source": []
  }
 ],
 "metadata": {
  "kernelspec": {
   "display_name": "Python 3",
   "language": "python",
   "name": "python3"
  },
  "language_info": {
   "codemirror_mode": {
    "name": "ipython",
    "version": 3
   },
   "file_extension": ".py",
   "mimetype": "text/x-python",
   "name": "python",
   "nbconvert_exporter": "python",
   "pygments_lexer": "ipython3",
   "version": "3.7.4"
  }
 },
 "nbformat": 4,
 "nbformat_minor": 2
}
