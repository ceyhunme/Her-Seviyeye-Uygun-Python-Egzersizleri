{
 "cells": [
  {
   "cell_type": "markdown",
   "metadata": {},
   "source": [
    "# Soru 13"
   ]
  },
  {
   "cell_type": "raw",
   "metadata": {},
   "source": [
    "Stringi alan ve orta karakteri döndüren bir fonksiyon oluşturun. Eğer kelimenin uzunluğu tek ise orta karakteri dönün. Eğer kelimenin uzunluğu çift ise orta iki karaktere dönün.\n",
    "\n",
    "Örnekler\n",
    "\n",
    "ortanca(\"test\") ➞ \"es\"\n",
    "\n",
    "ortanca(\"testing\") ➞ \"t\"\n",
    "\n",
    "ortanca(\"orta\") ➞ \"rt\"\n",
    "\n",
    "ortanca(\"A\") ➞ \"A\"\n",
    "\n"
   ]
  },
  {
   "cell_type": "code",
   "execution_count": null,
   "metadata": {},
   "outputs": [],
   "source": []
  }
 ],
 "metadata": {
  "kernelspec": {
   "display_name": "Python 3",
   "language": "python",
   "name": "python3"
  },
  "language_info": {
   "codemirror_mode": {
    "name": "ipython",
    "version": 3
   },
   "file_extension": ".py",
   "mimetype": "text/x-python",
   "name": "python",
   "nbconvert_exporter": "python",
   "pygments_lexer": "ipython3",
   "version": "3.7.4"
  }
 },
 "nbformat": 4,
 "nbformat_minor": 2
}
