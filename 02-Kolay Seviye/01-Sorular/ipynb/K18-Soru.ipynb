{
 "cells": [
  {
   "cell_type": "markdown",
   "metadata": {},
   "source": [
    "# Soru 18"
   ]
  },
  {
   "cell_type": "raw",
   "metadata": {},
   "source": [
    "Bir stringde ikinci kere “zip” geçen indeksi veya en az iki kere geçmiyorsa -1 döndüren bir fonksiyon yazın. \n",
    "\n",
    "Örnekler\n",
    "\n",
    "zip(\"selam zip arıyorum zip \") ➞ 19\n",
    "zip(\"merhaba zip arıyorum\") ➞ -1\n",
    "\n",
    "Notlar:\n",
    "\n",
    "Büyük harfli “Zip” ile küçük harfli “zip” aynı şey değildir.\n",
    "\n"
   ]
  },
  {
   "cell_type": "code",
   "execution_count": null,
   "metadata": {},
   "outputs": [],
   "source": []
  }
 ],
 "metadata": {
  "kernelspec": {
   "display_name": "Python 3",
   "language": "python",
   "name": "python3"
  },
  "language_info": {
   "codemirror_mode": {
    "name": "ipython",
    "version": 3
   },
   "file_extension": ".py",
   "mimetype": "text/x-python",
   "name": "python",
   "nbconvert_exporter": "python",
   "pygments_lexer": "ipython3",
   "version": "3.7.4"
  }
 },
 "nbformat": 4,
 "nbformat_minor": 2
}
