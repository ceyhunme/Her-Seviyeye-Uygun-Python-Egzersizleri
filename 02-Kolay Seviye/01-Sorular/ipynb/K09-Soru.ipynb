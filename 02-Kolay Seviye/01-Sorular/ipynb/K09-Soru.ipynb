{
 "cells": [
  {
   "cell_type": "markdown",
   "metadata": {},
   "source": [
    "# Soru 9"
   ]
  },
  {
   "cell_type": "raw",
   "metadata": {},
   "source": [
    "Bir stringi alan ve içindeki harf ve sayıların sayısını hesaplayan bir fonksiyon yazın. Sonuçları sözlüğe döndürün.\n",
    "\n",
    "Örnekler\n",
    "\n",
    "say(\"Hello World\") ➞ { \"Harfler\":  10, \"Sayılar\": 0 }\n",
    "\n",
    "say(\"H3ll0 Wor1d\") ➞ { \"Harfler\":  7, \"Sayılar\": 3 }\n",
    "\n",
    "say(\"149990\") ➞ { \"Harfler\": 0, \"Sayılar\": 6 }"
   ]
  },
  {
   "cell_type": "code",
   "execution_count": null,
   "metadata": {},
   "outputs": [],
   "source": []
  }
 ],
 "metadata": {
  "kernelspec": {
   "display_name": "Python 3",
   "language": "python",
   "name": "python3"
  },
  "language_info": {
   "codemirror_mode": {
    "name": "ipython",
    "version": 3
   },
   "file_extension": ".py",
   "mimetype": "text/x-python",
   "name": "python",
   "nbconvert_exporter": "python",
   "pygments_lexer": "ipython3",
   "version": "3.7.4"
  }
 },
 "nbformat": 4,
 "nbformat_minor": 2
}
