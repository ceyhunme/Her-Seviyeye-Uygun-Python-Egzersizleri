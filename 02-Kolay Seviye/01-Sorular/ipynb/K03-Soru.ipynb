{
 "cells": [
  {
   "cell_type": "markdown",
   "metadata": {},
   "source": [
    "# Soru 3"
   ]
  },
  {
   "cell_type": "raw",
   "metadata": {},
   "source": [
    "Bir sayıyı alan ve tüm çarpanlarını listeleyen bir fonksiyon yazın.\n",
    "\n",
    "Örnekler\n",
    "\n",
    "carpanlar(12) ➞ [1, 2, 3, 4, 6, 12]\n",
    "\n",
    "carpanlar(4) ➞ [1, 2, 4]\n",
    "\n",
    "carpanlar(17) ➞ [1, 17]\n",
    "\n",
    "Notlar:\n",
    "\n",
    "Çarpan, bir sayıyı kalan bırakmadan tam olarak bölen ayıdır. İkinci örnek 12/2=6 ve kalan 0 olduğu için 12’nin çarpanıdır."
   ]
  },
  {
   "cell_type": "code",
   "execution_count": null,
   "metadata": {},
   "outputs": [],
   "source": []
  }
 ],
 "metadata": {
  "kernelspec": {
   "display_name": "Python 3",
   "language": "python",
   "name": "python3"
  },
  "language_info": {
   "codemirror_mode": {
    "name": "ipython",
    "version": 3
   },
   "file_extension": ".py",
   "mimetype": "text/x-python",
   "name": "python",
   "nbconvert_exporter": "python",
   "pygments_lexer": "ipython3",
   "version": "3.7.4"
  }
 },
 "nbformat": 4,
 "nbformat_minor": 2
}
