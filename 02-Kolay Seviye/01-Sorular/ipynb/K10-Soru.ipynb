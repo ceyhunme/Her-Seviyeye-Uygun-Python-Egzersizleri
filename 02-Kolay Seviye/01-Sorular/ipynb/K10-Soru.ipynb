{
 "cells": [
  {
   "cell_type": "markdown",
   "metadata": {},
   "source": [
    "# Soru 10"
   ]
  },
  {
   "cell_type": "raw",
   "metadata": {},
   "source": [
    "Ay ve günleri (tam sayı) olarak alan ve aydaki gün sayısını döndüren bir fonksiyon oluşturun.\n",
    "\n",
    "Örnekler\n",
    "\n",
    "gun(2, 2018) ➞ 28\n",
    "\n",
    "gun(4, 654) ➞ 30\n",
    "\n",
    "gun(2, 200) ➞ 28\n",
    "\n",
    "gun(2, 1000) ➞ 28\n",
    "\n",
    "*Artık yılın ne olduğunu bilmeniz gerekmektedir."
   ]
  },
  {
   "cell_type": "code",
   "execution_count": null,
   "metadata": {},
   "outputs": [],
   "source": []
  }
 ],
 "metadata": {
  "kernelspec": {
   "display_name": "Python 3",
   "language": "python",
   "name": "python3"
  },
  "language_info": {
   "codemirror_mode": {
    "name": "ipython",
    "version": 3
   },
   "file_extension": ".py",
   "mimetype": "text/x-python",
   "name": "python",
   "nbconvert_exporter": "python",
   "pygments_lexer": "ipython3",
   "version": "3.7.4"
  }
 },
 "nbformat": 4,
 "nbformat_minor": 2
}
