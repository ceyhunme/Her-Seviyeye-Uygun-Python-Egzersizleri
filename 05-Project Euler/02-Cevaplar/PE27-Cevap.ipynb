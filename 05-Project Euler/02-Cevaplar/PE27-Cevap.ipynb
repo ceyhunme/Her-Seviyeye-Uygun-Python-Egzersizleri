{
 "cells": [
  {
   "cell_type": "markdown",
   "metadata": {},
   "source": [
    "# Soru 27"
   ]
  },
  {
   "cell_type": "raw",
   "metadata": {},
   "source": [
    "Euler inanılmaz bir karesel formül keşfetti:\n",
    "\n",
    "n^2+n+41\n",
    "Bu formül 0≤n≤39 arasında birbirini izleyen tam sayılar için 40 asal sayı üretmektedir.. Ancak n=40,40^2+40+41=40(40+1)+41 41’e bölünebilir ve n=41,41^2+41+41 de 41’e bölünebilir.\n",
    "\n",
    "0≤n≤79 arasında birbirini izleyen değerler için 80 asal sayının üretildiği n^2-79n+1601 formulü keşfedildi. -79 ve 1601 katsayılarının çarpımı -126479 sayısıdır.\n",
    "\n",
    "Aşağıdaki karesel formu ele alın\n",
    "\n",
    "|a|<1000 ve |b|≤1000 için n^2+an+b\n",
    "\n",
    "|n|, n’in mod/mutlak değeridir.\n",
    "ör. |11|=11 ve |−4|=4\n",
    "n=0 ile başlayarak birbirini izleyen n değerleri için en fazla sayıda asal sayıyı üreten karesel ifade için a ve b katsayılarının çarpımını bulunuz.\n"
   ]
  },
  {
   "cell_type": "code",
   "execution_count": 10,
   "metadata": {},
   "outputs": [],
   "source": [
    "import sympy\n",
    "\n",
    "liste = list()\n",
    "\n",
    "for a in range(-1000,1000):\n",
    "    for b in range(-1000,1001):\n",
    "        sayac = 0\n",
    "        n = 0\n",
    "        while sympy.isprime(n**2+a*n+b):\n",
    "            sayac += 1\n",
    "            n += 1          \n",
    "        liste.append((sayac,a*b))\n",
    "        "
   ]
  },
  {
   "cell_type": "code",
   "execution_count": 11,
   "metadata": {},
   "outputs": [
    {
     "data": {
      "text/plain": [
       "(71, -59231)"
      ]
     },
     "execution_count": 11,
     "metadata": {},
     "output_type": "execute_result"
    }
   ],
   "source": [
    "max(liste)"
   ]
  },
  {
   "cell_type": "code",
   "execution_count": null,
   "metadata": {},
   "outputs": [],
   "source": []
  }
 ],
 "metadata": {
  "kernelspec": {
   "display_name": "Python 3",
   "language": "python",
   "name": "python3"
  },
  "language_info": {
   "codemirror_mode": {
    "name": "ipython",
    "version": 3
   },
   "file_extension": ".py",
   "mimetype": "text/x-python",
   "name": "python",
   "nbconvert_exporter": "python",
   "pygments_lexer": "ipython3",
   "version": "3.7.4"
  }
 },
 "nbformat": 4,
 "nbformat_minor": 2
}
