{
 "cells": [
  {
   "cell_type": "markdown",
   "metadata": {},
   "source": [
    "# Soru 33"
   ]
  },
  {
   "cell_type": "markdown",
   "metadata": {},
   "source": [
    "49/98 ilginç bir kesirdir; deneyimsiz bir matematikçi olarak hatalı bir şekilde aynı rakamları yok ederek 49/98=4/8 doğru cevabını bulursunuz.\n",
    "\n",
    "30/50 = 3/5 gibi kesirleri önemsiz örnekler olarak ele alacağız.\n",
    "\n",
    "Bu tür kesirler için önemsiz olmayan, değer olarak birden az ve bölen ve bölünende iki basamak içeren sadece 4 tane örnek vardır.\n",
    "\n",
    "Eğer bu dört kesrin en küçük ortak paydası verilirse payda değerini bulunuz."
   ]
  },
  {
   "cell_type": "code",
   "execution_count": 13,
   "metadata": {},
   "outputs": [
    {
     "name": "stdout",
     "output_type": "stream",
     "text": [
      "['16/64', '19/95', '26/65', '49/98']\n",
      "100.0\n"
     ]
    }
   ],
   "source": [
    "import math \n",
    "\n",
    "cevap = list()\n",
    "carpimPay = 1\n",
    "carpimPayda = 1\n",
    "pay = i\n",
    "payda = j\n",
    "\n",
    "for i in range(10,100):\n",
    "    for j in range(i+1,100):\n",
    "        if i % 10 == 0 or j % 10 == 0:\n",
    "            continue\n",
    "            \n",
    "        stringi = str(i)\n",
    "        stringj = str(j)\n",
    "        \n",
    "        if stringi[1] == stringj[0]:\n",
    "            if int(stringi[0]) / int(stringj[1]) == i / j:\n",
    "                cevap.append(str(i)+\"/\"+str(j))\n",
    "                carpimPay *= i\n",
    "                carpimPayda *= j\n",
    "                \n",
    "        if stringi[0] == stringj[1]:\n",
    "            if int(stringi[1]) / int(stringj[0]) == i / j:\n",
    "                cevap.append(str(i)+\"/\"+str(j))\n",
    "                carpimPay *= i\n",
    "                carpimPayda *= j\n",
    "                \n",
    "        if stringi[0] == stringj[0]:\n",
    "            if int(stringi[1]) / int(stringj[1]) == i / j:\n",
    "                cevap.append(str(i)+\"/\"+str(j))\n",
    "                carpimPay *= i\n",
    "                carpimPayda *= j\n",
    "                \n",
    "        if stringi[1] == stringj[1]:\n",
    "            if int(stringi[0]) / int(stringj[0]) == i / j:\n",
    "                cevap.append(str(i)+\"/\"+str(j))\n",
    "                carpimPay *= i\n",
    "                carpimPayda *= j\n",
    "\n",
    "print(cevap)\n",
    "print(carpimPayda / math.gcd(carpimPayda,carpimPay))"
   ]
  },
  {
   "cell_type": "code",
   "execution_count": null,
   "metadata": {},
   "outputs": [],
   "source": []
  }
 ],
 "metadata": {
  "kernelspec": {
   "display_name": "Python 3",
   "language": "python",
   "name": "python3"
  },
  "language_info": {
   "codemirror_mode": {
    "name": "ipython",
    "version": 3
   },
   "file_extension": ".py",
   "mimetype": "text/x-python",
   "name": "python",
   "nbconvert_exporter": "python",
   "pygments_lexer": "ipython3",
   "version": "3.7.4"
  }
 },
 "nbformat": 4,
 "nbformat_minor": 2
}
