{
 "cells": [
  {
   "cell_type": "markdown",
   "metadata": {},
   "source": [
    "# Soru 15"
   ]
  },
  {
   "cell_type": "markdown",
   "metadata": {},
   "source": [
    "2x2’lik aşağıdaki gibi bir ızgaranın sol üstünden başlayarak ve sadece sağa ve aşağı hareket ederek, tam 6 değişik güzergah ile sağ alt köşeye varılabilir.\n",
    "\n",
    "**Buradaki şekli site üzerinden göreceğiz.\n",
    "\n",
    "Bu kurallarda, 20x20’lik bir ızgarada kaç farklı güzergah vardır?"
   ]
  },
  {
   "cell_type": "code",
   "execution_count": null,
   "metadata": {},
   "outputs": [],
   "source": [
    "import math\n",
    "math.factorial(40) // (math.factorial(20) * math.factorial(20) )"
   ]
  }
 ],
 "metadata": {
  "kernelspec": {
   "display_name": "Python 3",
   "language": "python",
   "name": "python3"
  },
  "language_info": {
   "codemirror_mode": {
    "name": "ipython",
    "version": 3
   },
   "file_extension": ".py",
   "mimetype": "text/x-python",
   "name": "python",
   "nbconvert_exporter": "python",
   "pygments_lexer": "ipython3",
   "version": "3.7.4"
  }
 },
 "nbformat": 4,
 "nbformat_minor": 2
}
