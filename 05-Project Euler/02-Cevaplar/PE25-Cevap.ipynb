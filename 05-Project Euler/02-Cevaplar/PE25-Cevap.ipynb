{
 "cells": [
  {
   "cell_type": "markdown",
   "metadata": {},
   "source": [
    "# Soru 25"
   ]
  },
  {
   "cell_type": "raw",
   "metadata": {},
   "source": [
    "Fibonacci dizisi tekrarlı ilişkiler olarak tanımlanır:\n",
    "\n",
    "F1 = 1 ve F2 = 2 iken Fn = Fn-1 + Fn-2.\n",
    "Böylelikle ilk 12 terim şu şekilde olacak:\n",
    "\n",
    "F1 = 1\n",
    "F2 = 1\n",
    "F3 = 2\n",
    "F4 = 3\n",
    "F5 = 5\n",
    "F6 = 8\n",
    "F7 = 13\n",
    "F8 = 21\n",
    "F9 = 34\n",
    "F10 = 55\n",
    "F11 = 89\n",
    "F12 = 144\n",
    "12\\. terim, F12, üç basamak içeren ilk terimdir.\n",
    "\n",
    "1000 basamak içeren Fibonacci serisinin ilk teriminin indeksi nedir?\n"
   ]
  },
  {
   "cell_type": "code",
   "execution_count": 2,
   "metadata": {},
   "outputs": [
    {
     "name": "stdout",
     "output_type": "stream",
     "text": [
      "4782\n"
     ]
    }
   ],
   "source": [
    "x = 1\n",
    "y = 1\n",
    "adim = 2\n",
    "while True:\n",
    "    x, y = y, x+y\n",
    "    adim += 1\n",
    "    if len(str(y)) == 1000:\n",
    "        print(adim)\n",
    "        break"
   ]
  },
  {
   "cell_type": "code",
   "execution_count": null,
   "metadata": {},
   "outputs": [],
   "source": []
  }
 ],
 "metadata": {
  "kernelspec": {
   "display_name": "Python 3",
   "language": "python",
   "name": "python3"
  },
  "language_info": {
   "codemirror_mode": {
    "name": "ipython",
    "version": 3
   },
   "file_extension": ".py",
   "mimetype": "text/x-python",
   "name": "python",
   "nbconvert_exporter": "python",
   "pygments_lexer": "ipython3",
   "version": "3.7.4"
  }
 },
 "nbformat": 4,
 "nbformat_minor": 2
}
