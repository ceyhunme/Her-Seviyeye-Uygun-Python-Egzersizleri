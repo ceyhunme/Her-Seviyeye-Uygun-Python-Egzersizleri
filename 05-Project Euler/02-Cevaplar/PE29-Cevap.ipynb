{
 "cells": [
  {
   "cell_type": "markdown",
   "metadata": {},
   "source": [
    "# Soru 29"
   ]
  },
  {
   "cell_type": "raw",
   "metadata": {},
   "source": [
    "2 ≤ a ≤ 5 ve 2 ≤ b ≤ 5 için tüm ab tam sayı kombinasyonlarını düşünün:\n",
    "\n",
    "2^2=4, 2^3=8, 2^4=16, 2^5=32\n",
    "3^2=9, 3^3=27, 3^4=81, 3^5=243\n",
    "4^2=16, 4^3=64, 4^4=256, 4^5=1024\n",
    "5^2=25, 5^3=125, 5^4=625, 5^5=3125\n",
    "Tekrar eden sayılar çıkarılacak şekilde sayısal olarak sıralandıkları durumda 15 ayrık terimden oluşan aşağıdaki diziyi elde ederiz:\n",
    "\n",
    "4, 8, 9, 16, 25, 27, 32, 64, 81, 125, 243, 256, 625, 1024, 3125\n",
    "\n",
    "2 ≤ a ≤ 100 ve 2 ≤ b ≤ 100 için a^b şeklinde üretilen dizide kaç ayrık terim bulunur?\n"
   ]
  },
  {
   "cell_type": "code",
   "execution_count": 4,
   "metadata": {},
   "outputs": [],
   "source": [
    "kume = set()\n",
    "\n",
    "for a in range(2,101):\n",
    "    for b in range(2,101):\n",
    "        sayi = a ** b\n",
    "        kume.add(sayi)"
   ]
  },
  {
   "cell_type": "code",
   "execution_count": 6,
   "metadata": {},
   "outputs": [
    {
     "data": {
      "text/plain": [
       "9183"
      ]
     },
     "execution_count": 6,
     "metadata": {},
     "output_type": "execute_result"
    }
   ],
   "source": [
    "len(kume)"
   ]
  },
  {
   "cell_type": "code",
   "execution_count": null,
   "metadata": {},
   "outputs": [],
   "source": []
  }
 ],
 "metadata": {
  "kernelspec": {
   "display_name": "Python 3",
   "language": "python",
   "name": "python3"
  },
  "language_info": {
   "codemirror_mode": {
    "name": "ipython",
    "version": 3
   },
   "file_extension": ".py",
   "mimetype": "text/x-python",
   "name": "python",
   "nbconvert_exporter": "python",
   "pygments_lexer": "ipython3",
   "version": "3.7.4"
  }
 },
 "nbformat": 4,
 "nbformat_minor": 2
}
