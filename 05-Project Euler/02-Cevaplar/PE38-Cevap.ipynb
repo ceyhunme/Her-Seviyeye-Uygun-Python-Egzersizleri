{
 "cells": [
  {
   "cell_type": "markdown",
   "metadata": {},
   "source": [
    "# Soru 38"
   ]
  },
  {
   "cell_type": "raw",
   "metadata": {},
   "source": [
    "192 sayısını alın ve 1, 2 ve 3 ile çarpın.\n",
    "\n",
    "192 × 1 = 192\n",
    "192 × 2 = 384\n",
    "192 × 3 = 576\n",
    "Tüm çarpımları birleştirdiğimizde 1’den 9’a kadar pandijital 192384576 sayısını elde ederiz. Bu 192384576 sayısına 192 ve (1, 2, 3) birleştirilmiş çarpımı adını vereceğiz.\n",
    "\n",
    "Aynı durum 9 ile başlayıp 1, 2, 3, 4 ve 5 ile çarparak 9 ve (1, 2, 3, 4, 5) birleştirilmiş çarpımı olan 918273645 pandijital sayısıdır.\n",
    "\n",
    "n > 1 olacak şekilde (1, 2, ... , n) tam sayılarının birleştirilmiş çarpımı olarak yazılabilecek 1’den 9’a kadar pandijital olan en uzun 9 basamaklı sayı nedir?\n"
   ]
  },
  {
   "cell_type": "code",
   "execution_count": 14,
   "metadata": {},
   "outputs": [],
   "source": [
    "pandijital = list()\n",
    "\n",
    "for i in range(10000):\n",
    "    basamak = 1\n",
    "    birleşim = \"\"\n",
    "    while True:\n",
    "        sayı = i * basamak\n",
    "        birleşim += str(sayı)\n",
    "        if len(birleşim) > 9:\n",
    "            break\n",
    "        if len(birleşim) == 9:\n",
    "            if sorted(birleşim) == ['1', '2', '3', '4', '5', '6', '7', '8', '9']:\n",
    "                pandijital.append(int(birleşim))\n",
    "                break\n",
    "        basamak += 1"
   ]
  },
  {
   "cell_type": "code",
   "execution_count": 16,
   "metadata": {},
   "outputs": [
    {
     "data": {
      "text/plain": [
       "932718654"
      ]
     },
     "execution_count": 16,
     "metadata": {},
     "output_type": "execute_result"
    }
   ],
   "source": [
    "max(pandijital)"
   ]
  },
  {
   "cell_type": "code",
   "execution_count": null,
   "metadata": {},
   "outputs": [],
   "source": []
  },
  {
   "cell_type": "code",
   "execution_count": null,
   "metadata": {},
   "outputs": [],
   "source": []
  }
 ],
 "metadata": {
  "kernelspec": {
   "display_name": "Python 3",
   "language": "python",
   "name": "python3"
  },
  "language_info": {
   "codemirror_mode": {
    "name": "ipython",
    "version": 3
   },
   "file_extension": ".py",
   "mimetype": "text/x-python",
   "name": "python",
   "nbconvert_exporter": "python",
   "pygments_lexer": "ipython3",
   "version": "3.7.4"
  }
 },
 "nbformat": 4,
 "nbformat_minor": 2
}
