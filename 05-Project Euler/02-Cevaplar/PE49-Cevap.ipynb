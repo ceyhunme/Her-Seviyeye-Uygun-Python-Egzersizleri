{
 "cells": [
  {
   "cell_type": "markdown",
   "metadata": {},
   "source": [
    "# Soru 49"
   ]
  },
  {
   "cell_type": "markdown",
   "metadata": {},
   "source": [
    "Her terimin 3330 arttığı 1487, 4817, 8147 aritmetik dizisi iki yönden ilginçtir: (i) üç terim de asal sayıdır ve (ii) 4 basamaklı sayıların her biri birbirinin permütasyonudur.\n",
    "\n",
    "1-, 2- veya 3-basamaklı asal sayılar arasında bu aritmetik dizi bulunmasa da artan diziye sahip bir 4 basamaklı sayı daha bulunur.\n",
    "\n",
    "Bu dizinin üç terimini birleştirerek oluşturabileceğiniz 12 basamaklı sayı nedir?\n"
   ]
  },
  {
   "cell_type": "code",
   "execution_count": 16,
   "metadata": {},
   "outputs": [
    {
     "name": "stdout",
     "output_type": "stream",
     "text": [
      "2969 6299 9629\n"
     ]
    }
   ],
   "source": [
    "from sympy import primerange \n",
    "asallar = list(primerange(1488,10000))\n",
    "\n",
    "def aynıBasamak(x,y,z):\n",
    "    return sorted(str(x)) == sorted(str(y)) == sorted(str(z))\n",
    "\n",
    "for i in range(0,len(asallar)):\n",
    "    for j in range(i+1,len(asallar)):\n",
    "        asal1 = asallar[i]\n",
    "        asal2 = asallar[j]\n",
    "        asal3 = asal2 + (asal2-asal1)\n",
    "        if asal3 in asallar:\n",
    "            if aynıBasamak(asal1,asal2,asal3):\n",
    "                print(asal1,asal2,asal3)\n",
    "                break"
   ]
  },
  {
   "cell_type": "code",
   "execution_count": null,
   "metadata": {},
   "outputs": [],
   "source": [
    "296962999629"
   ]
  },
  {
   "cell_type": "code",
   "execution_count": null,
   "metadata": {},
   "outputs": [],
   "source": []
  }
 ],
 "metadata": {
  "kernelspec": {
   "display_name": "Python 3",
   "language": "python",
   "name": "python3"
  },
  "language_info": {
   "codemirror_mode": {
    "name": "ipython",
    "version": 3
   },
   "file_extension": ".py",
   "mimetype": "text/x-python",
   "name": "python",
   "nbconvert_exporter": "python",
   "pygments_lexer": "ipython3",
   "version": "3.7.4"
  }
 },
 "nbformat": 4,
 "nbformat_minor": 2
}
