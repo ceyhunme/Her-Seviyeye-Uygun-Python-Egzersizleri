{
 "cells": [
  {
   "cell_type": "markdown",
   "metadata": {},
   "source": [
    "# Soru 45"
   ]
  },
  {
   "cell_type": "raw",
   "metadata": {},
   "source": [
    "Üçgen, beşgen ve altıgen aşağıdaki formülden elde edilen sayılardır:\n",
    "\n",
    "Üçgen\t \tTn=n(n+1)/2\t \t1, 3, 6, 10, 15, ...\n",
    "Beşgen\t \tPn=n(3n−1)/2\t \t1, 5, 12, 22, 35, ...\n",
    "Altıgen\t \tHn=n(2n−1)\t \t1, 6, 15, 28, 45, ...\n",
    "T285 = P165 = H143 = 40755 olduğu doğrulanabilir.\n",
    "\n",
    "Beşgen ve altıgen olan bir sonraki üçgen sayıyı bulunuz."
   ]
  },
  {
   "cell_type": "code",
   "execution_count": 14,
   "metadata": {},
   "outputs": [],
   "source": [
    "def ucgenMi(x):\n",
    "    return ((-1+(1+8*x)**(1/2))/2).is_integer()\n",
    "\n",
    "def besgenMi(x):\n",
    "    return ((1+(1+24*x)**(1/2))/6).is_integer()\n",
    "\n",
    "def altıgenMi(x):\n",
    "    return ((1+(1+8*x)**(1/2))/4).is_integer()"
   ]
  },
  {
   "cell_type": "code",
   "execution_count": 19,
   "metadata": {},
   "outputs": [
    {
     "name": "stdout",
     "output_type": "stream",
     "text": [
      "1533776805\n"
     ]
    }
   ],
   "source": [
    "n=144\n",
    "while True:\n",
    "    altıgen = n * (2 *n -1)\n",
    "    if ucgenMi(altıgen) and besgenMi(altıgen):\n",
    "        print(altıgen)\n",
    "        break\n",
    "    n += 1"
   ]
  },
  {
   "cell_type": "code",
   "execution_count": null,
   "metadata": {},
   "outputs": [],
   "source": []
  }
 ],
 "metadata": {
  "kernelspec": {
   "display_name": "Python 3",
   "language": "python",
   "name": "python3"
  },
  "language_info": {
   "codemirror_mode": {
    "name": "ipython",
    "version": 3
   },
   "file_extension": ".py",
   "mimetype": "text/x-python",
   "name": "python",
   "nbconvert_exporter": "python",
   "pygments_lexer": "ipython3",
   "version": "3.7.4"
  }
 },
 "nbformat": 4,
 "nbformat_minor": 2
}
