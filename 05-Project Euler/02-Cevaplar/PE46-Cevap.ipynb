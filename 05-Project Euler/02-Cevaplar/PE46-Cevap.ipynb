{
 "cells": [
  {
   "cell_type": "markdown",
   "metadata": {},
   "source": [
    "# Soru 46"
   ]
  },
  {
   "cell_type": "raw",
   "metadata": {},
   "source": [
    "Tüm tek bileşik sayıların, asal sayı ve asal sayının karesinin toplamı olarak yazılabileceği Christian Godlbach tarafından öne sürülmüştür.\n",
    "\n",
    "9 = 7 + 2×1^2\n",
    "15 = 7 + 2×2^2\n",
    "21 = 3 + 2×3^2\n",
    "25 = 7 + 2×3^2\n",
    "27 = 19 + 2×2^2\n",
    "33 = 31 + 2×1^2\n",
    "\n",
    "Bu varsayımın yanlış olduğu ortaya çıkmıştır.\n",
    "\n",
    "Asal sayı ve asal sayının karesinin toplamı olarak yazılamayacak en küçük tek bileşik sayı nedir?"
   ]
  },
  {
   "cell_type": "code",
   "execution_count": 6,
   "metadata": {},
   "outputs": [
    {
     "name": "stdout",
     "output_type": "stream",
     "text": [
      "5777\n"
     ]
    }
   ],
   "source": [
    "from sympy import isprime as asalMı\n",
    "\n",
    "sayı = 2\n",
    "\n",
    "while True:\n",
    "    if asalMı(sayı) or sayı % 2==0:\n",
    "        sayı += 1\n",
    "        continue\n",
    "    olurMu = False\n",
    "    n = 1\n",
    "    while sayı - 2 * n * n > 0:\n",
    "        if asalMı(sayı - 2 * n * n):\n",
    "            olurMu = True\n",
    "            break\n",
    "        n +=1\n",
    "    if olurMu == False:\n",
    "        print(sayı)\n",
    "        break\n",
    "    sayı += 1\n",
    "    "
   ]
  },
  {
   "cell_type": "code",
   "execution_count": null,
   "metadata": {},
   "outputs": [],
   "source": []
  }
 ],
 "metadata": {
  "kernelspec": {
   "display_name": "Python 3",
   "language": "python",
   "name": "python3"
  },
  "language_info": {
   "codemirror_mode": {
    "name": "ipython",
    "version": 3
   },
   "file_extension": ".py",
   "mimetype": "text/x-python",
   "name": "python",
   "nbconvert_exporter": "python",
   "pygments_lexer": "ipython3",
   "version": "3.7.4"
  }
 },
 "nbformat": 4,
 "nbformat_minor": 2
}
