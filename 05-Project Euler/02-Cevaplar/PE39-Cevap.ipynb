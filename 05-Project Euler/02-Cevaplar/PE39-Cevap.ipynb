{
 "cells": [
  {
   "cell_type": "markdown",
   "metadata": {},
   "source": [
    "# Soru 39"
   ]
  },
  {
   "cell_type": "markdown",
   "metadata": {},
   "source": [
    "Eğer p kenar uzunlukları {a, b, c} olan dik açılı bir üçgenin çevre uzunluğuysa, p= 120 için tam olarak üç çözüm bulunur.\n",
    "\n",
    "{20,48,52}, {24,45,51}, {30,40,50}\n",
    "\n",
    "p ≤ 1000 değerleri için en fazla çözüm sayısı kaçtır?"
   ]
  },
  {
   "cell_type": "code",
   "execution_count": 48,
   "metadata": {},
   "outputs": [],
   "source": [
    "cevreler = dict()\n",
    "\n",
    "for a in range(1,1000):\n",
    "    for b in range(1,1000):\n",
    "        c = (a**2 + b**2) **(1/2)\n",
    "        cevre = a + b + c\n",
    "        if cevre <= 1000 and c % 1 == 0:\n",
    "            if cevre in cevreler:\n",
    "                cevreler[cevre] += 1\n",
    "            else:\n",
    "                cevreler[cevre] = 1\n",
    "        \n",
    "\n",
    "\n"
   ]
  },
  {
   "cell_type": "code",
   "execution_count": 52,
   "metadata": {},
   "outputs": [
    {
     "name": "stdout",
     "output_type": "stream",
     "text": [
      "840.0\n"
     ]
    }
   ],
   "source": [
    "for k,v in cevreler.items():\n",
    "    if v == max(cevreler.values()):\n",
    "        print(k)"
   ]
  },
  {
   "cell_type": "code",
   "execution_count": 53,
   "metadata": {},
   "outputs": [
    {
     "data": {
      "text/plain": [
       "16"
      ]
     },
     "execution_count": 53,
     "metadata": {},
     "output_type": "execute_result"
    }
   ],
   "source": [
    "max(cevreler.values())"
   ]
  },
  {
   "cell_type": "code",
   "execution_count": null,
   "metadata": {},
   "outputs": [],
   "source": []
  }
 ],
 "metadata": {
  "kernelspec": {
   "display_name": "Python 3",
   "language": "python",
   "name": "python3"
  },
  "language_info": {
   "codemirror_mode": {
    "name": "ipython",
    "version": 3
   },
   "file_extension": ".py",
   "mimetype": "text/x-python",
   "name": "python",
   "nbconvert_exporter": "python",
   "pygments_lexer": "ipython3",
   "version": "3.7.4"
  }
 },
 "nbformat": 4,
 "nbformat_minor": 2
}
