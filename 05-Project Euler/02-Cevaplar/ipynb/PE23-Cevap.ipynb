{
 "cells": [
  {
   "cell_type": "markdown",
   "metadata": {},
   "source": [
    "# Soru 23"
   ]
  },
  {
   "cell_type": "markdown",
   "metadata": {},
   "source": [
    "Zengin sayı, kendisi hariç pozitif tam bölenlerinin toplamının sayıya tam olarak eşit olduğu sayılardır. Örneğin 28 sayısının kendisi hariç pozitif tam bölenlerinin toplamı 1 + 2 + 4 + 7 +14 = 28 olur; bu da 28 sayısının mükemmel sayı olduğunu gösterir.\n",
    "\n",
    "Bir n sayısının kendisi hariç pozitif tam bölenlerinin toplamı n’den azsa eksik, n’den fazlaysa zengin olarak adlandırılır.\n",
    "\n",
    "En küçük zengin sayı 12 olduğu için, 1 + 2 + 3 + 4 + 6 = 16, iki zengin sayının toplamı olarak yazılabilecek en küçük sayı 24’tür. Matematiksel analizle 28123’den büyük tüm tam sayıların iki zengin sayının toplamı olarak yazılabileceği gösterilmiştir. Ancak iki zengin sayının toplamı olarak ifade edilemeyen en büyük sayının bu sınırdan küçük olduğu bilinse bile bu üst sınır ek analizlerle azaltılamaz.\n",
    "\n",
    "İki zengin sayının toplamı olarak yazılamayacak tüm pozitif tam sayıları bulunuz."
   ]
  },
  {
   "cell_type": "code",
   "execution_count": 56,
   "metadata": {},
   "outputs": [],
   "source": [
    "def bolenToplamı(x):\n",
    "    toplam = 0\n",
    "    for i in range(1,x):\n",
    "        if x % i == 0:\n",
    "            toplam += i\n",
    "    return toplam"
   ]
  },
  {
   "cell_type": "code",
   "execution_count": 60,
   "metadata": {},
   "outputs": [
    {
     "data": {
      "text/plain": [
       "16"
      ]
     },
     "execution_count": 60,
     "metadata": {},
     "output_type": "execute_result"
    }
   ],
   "source": [
    "bolenToplamı(12)"
   ]
  },
  {
   "cell_type": "code",
   "execution_count": 61,
   "metadata": {},
   "outputs": [],
   "source": [
    "def zenginKontrol(n):\n",
    "    if bolenToplamı(n) > n:\n",
    "        return True\n",
    "    else:\n",
    "        return False"
   ]
  },
  {
   "cell_type": "code",
   "execution_count": 64,
   "metadata": {},
   "outputs": [
    {
     "data": {
      "text/plain": [
       "True"
      ]
     },
     "execution_count": 64,
     "metadata": {},
     "output_type": "execute_result"
    }
   ],
   "source": [
    "zenginKontrol(12)"
   ]
  },
  {
   "cell_type": "code",
   "execution_count": 65,
   "metadata": {},
   "outputs": [],
   "source": [
    "zenginSayilar = list()\n",
    "zenginSayilarinToplami = list()"
   ]
  },
  {
   "cell_type": "code",
   "execution_count": 66,
   "metadata": {},
   "outputs": [],
   "source": [
    "for i in range(1,28124):\n",
    "    if zenginKontrol(i):\n",
    "        zenginSayilar.append(i)"
   ]
  },
  {
   "cell_type": "code",
   "execution_count": 68,
   "metadata": {},
   "outputs": [],
   "source": [
    "zenginSayilarinToplami = [0] * 28124"
   ]
  },
  {
   "cell_type": "code",
   "execution_count": 69,
   "metadata": {},
   "outputs": [],
   "source": [
    "for i in range(0,len(zenginSayilar)):\n",
    "    for j in range(i,len(zenginSayilar)):\n",
    "        if zenginSayilar[i] + zenginSayilar[j] <= 28123:\n",
    "            zenginSayilarinToplami[zenginSayilar[i] + zenginSayilar[j]] = zenginSayilar[i] + zenginSayilar[j]"
   ]
  },
  {
   "cell_type": "code",
   "execution_count": 72,
   "metadata": {},
   "outputs": [
    {
     "data": {
      "text/plain": [
       "24"
      ]
     },
     "execution_count": 72,
     "metadata": {},
     "output_type": "execute_result"
    }
   ],
   "source": [
    "zenginSayilarinToplami.index(24)"
   ]
  },
  {
   "cell_type": "code",
   "execution_count": 73,
   "metadata": {},
   "outputs": [
    {
     "name": "stdout",
     "output_type": "stream",
     "text": [
      "4179871\n"
     ]
    }
   ],
   "source": [
    "toplam = 0\n",
    "for i in range(0,len(zenginSayilarinToplami)):\n",
    "    if zenginSayilarinToplami[i] == 0:\n",
    "        toplam += i\n",
    "\n",
    "print(toplam)        "
   ]
  },
  {
   "cell_type": "code",
   "execution_count": null,
   "metadata": {},
   "outputs": [],
   "source": []
  }
 ],
 "metadata": {
  "kernelspec": {
   "display_name": "Python 3",
   "language": "python",
   "name": "python3"
  },
  "language_info": {
   "codemirror_mode": {
    "name": "ipython",
    "version": 3
   },
   "file_extension": ".py",
   "mimetype": "text/x-python",
   "name": "python",
   "nbconvert_exporter": "python",
   "pygments_lexer": "ipython3",
   "version": "3.7.4"
  }
 },
 "nbformat": 4,
 "nbformat_minor": 2
}
