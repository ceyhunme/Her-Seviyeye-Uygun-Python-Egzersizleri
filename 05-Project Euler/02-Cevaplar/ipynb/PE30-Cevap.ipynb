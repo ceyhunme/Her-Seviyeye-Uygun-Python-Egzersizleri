{
 "cells": [
  {
   "cell_type": "markdown",
   "metadata": {},
   "source": [
    "# Soru 30"
   ]
  },
  {
   "cell_type": "raw",
   "metadata": {},
   "source": [
    "Şaşırtıcı bir şekilde basamaklarının dördüncü üstlerinin toplamı olarak yazılabilen sadece üç sayı bulunmaktadır.\n",
    "\n",
    "1634 = 1^4 + 6^4 + 3^4 + 4^4\n",
    "8208 = 8^4 + 2^4 + 0^4 + 8^4\n",
    "9474 = 9^4 + 4^4 + 7^4 + 4^4\n",
    "1 = 1^4 toplam olmadığı için dahil edilmemiştir.\n",
    "\n",
    "Bu sayıların toplamı 1634 + 8208 + 9474 = 19316 şeklindedir.\n",
    "\n",
    "Basamaklarının beşinci üstlerinin toplamı olarak yazılabilen tüm sayıları bulunuz.\n"
   ]
  },
  {
   "cell_type": "code",
   "execution_count": 9,
   "metadata": {},
   "outputs": [],
   "source": [
    "liste = list()\n",
    "\n",
    "for i in range(2,1000000):\n",
    "    toplam = 0\n",
    "    for j in str(i):\n",
    "        toplam += int(j) ** 5\n",
    "    if toplam == i:\n",
    "        liste.append(i)"
   ]
  },
  {
   "cell_type": "code",
   "execution_count": 10,
   "metadata": {},
   "outputs": [
    {
     "name": "stdout",
     "output_type": "stream",
     "text": [
      "[4150, 4151, 54748, 92727, 93084, 194979]\n"
     ]
    }
   ],
   "source": [
    "print(liste)"
   ]
  },
  {
   "cell_type": "code",
   "execution_count": 11,
   "metadata": {},
   "outputs": [
    {
     "data": {
      "text/plain": [
       "443839"
      ]
     },
     "execution_count": 11,
     "metadata": {},
     "output_type": "execute_result"
    }
   ],
   "source": [
    "sum(liste)"
   ]
  },
  {
   "cell_type": "code",
   "execution_count": null,
   "metadata": {},
   "outputs": [],
   "source": []
  }
 ],
 "metadata": {
  "kernelspec": {
   "display_name": "Python 3",
   "language": "python",
   "name": "python3"
  },
  "language_info": {
   "codemirror_mode": {
    "name": "ipython",
    "version": 3
   },
   "file_extension": ".py",
   "mimetype": "text/x-python",
   "name": "python",
   "nbconvert_exporter": "python",
   "pygments_lexer": "ipython3",
   "version": "3.7.4"
  }
 },
 "nbformat": 4,
 "nbformat_minor": 2
}
