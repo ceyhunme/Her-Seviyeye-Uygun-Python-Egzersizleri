{
 "cells": [
  {
   "cell_type": "markdown",
   "metadata": {},
   "source": [
    "# Soru 41"
   ]
  },
  {
   "cell_type": "markdown",
   "metadata": {},
   "source": [
    "Tüm basamaklarında 1’den n’e kadar olan sayıları sadece bir kere kullanan n basamaklı sayılara pandijital sayılar adı verilir. Örneğin 2143 4 basamaklı pandijital ve asal bir sayıdır.\n",
    "\n",
    "En büyük n basamaklı pandijital asal sayı nedir?\n"
   ]
  },
  {
   "cell_type": "code",
   "execution_count": 14,
   "metadata": {},
   "outputs": [],
   "source": [
    "from sympy import isprime as asalMı\n",
    "from itertools import permutations as permütasyon\n",
    "\n",
    "rakamlar = \"1234567\"\n",
    "sayilar = list(permütasyon(rakamlar))\n",
    "pandijitalSayilar = [\"\".join(sayi) for sayi in sayilar]\n",
    "\n",
    "sonuc = list()\n",
    "\n",
    "for sayi in pandijitalSayilar:\n",
    "    if asalMı(int(sayi)):\n",
    "        sonuc.append(sayi)"
   ]
  },
  {
   "cell_type": "code",
   "execution_count": 16,
   "metadata": {},
   "outputs": [
    {
     "data": {
      "text/plain": [
       "'7652413'"
      ]
     },
     "execution_count": 16,
     "metadata": {},
     "output_type": "execute_result"
    }
   ],
   "source": [
    "max(sonuc)"
   ]
  },
  {
   "cell_type": "code",
   "execution_count": 17,
   "metadata": {},
   "outputs": [
    {
     "data": {
      "text/plain": [
       "True"
      ]
     },
     "execution_count": 17,
     "metadata": {},
     "output_type": "execute_result"
    }
   ],
   "source": [
    "asalMı(7652413)"
   ]
  },
  {
   "cell_type": "code",
   "execution_count": null,
   "metadata": {},
   "outputs": [],
   "source": []
  }
 ],
 "metadata": {
  "kernelspec": {
   "display_name": "Python 3",
   "language": "python",
   "name": "python3"
  },
  "language_info": {
   "codemirror_mode": {
    "name": "ipython",
    "version": 3
   },
   "file_extension": ".py",
   "mimetype": "text/x-python",
   "name": "python",
   "nbconvert_exporter": "python",
   "pygments_lexer": "ipython3",
   "version": "3.7.4"
  }
 },
 "nbformat": 4,
 "nbformat_minor": 2
}
