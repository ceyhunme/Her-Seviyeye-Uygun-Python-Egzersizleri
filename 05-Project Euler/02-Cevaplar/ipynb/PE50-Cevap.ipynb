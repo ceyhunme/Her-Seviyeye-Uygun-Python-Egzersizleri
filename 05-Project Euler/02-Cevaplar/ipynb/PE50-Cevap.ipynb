{
 "cells": [
  {
   "cell_type": "markdown",
   "metadata": {},
   "source": [
    "# Soru 50"
   ]
  },
  {
   "cell_type": "markdown",
   "metadata": {},
   "source": [
    "41 asal sayısı birbirini izleyen altı asal sayının toplamı olarak yazılabilir:\n",
    "\n",
    "41 = 2 + 3 + 5 + 7 + 11 + 13\n",
    "\n",
    "Bu sayı yüzden küçük en uzun birbirini izleyen asal sayıların toplamı olan asal sayıdır.\n",
    "\n",
    "Binden küçük, birbirini izleyen en uzun asal sayılar zincirinden oluşan asal sayı 21 terim içerir ve 953 sayısıdır.\n",
    "\n",
    "Birbirini izleyen asal sayının toplamı olarak yazılabilen bir milyondan küçük en uzun zincirli asal sayı hangisidir?\n"
   ]
  },
  {
   "cell_type": "code",
   "execution_count": 12,
   "metadata": {},
   "outputs": [
    {
     "name": "stdout",
     "output_type": "stream",
     "text": [
      "543\n",
      "997651\n"
     ]
    }
   ],
   "source": [
    "from sympy import isprime as asalMı\n",
    "i= 1\n",
    "asallar = list()\n",
    "while True:\n",
    "    if asalMı(i):\n",
    "        if sum(asallar) < 1000000:\n",
    "            asallar.append(i)\n",
    "        else:\n",
    "            break\n",
    "    i += 1\n",
    "\n",
    "maksimumArdaşıkSayı = 0\n",
    "toplam = 0\n",
    "\n",
    "for i in range(0,len(asallar)):\n",
    "    for j in range(i,len(asallar)):\n",
    "        if asalMı(sum(asallar[i:j])):\n",
    "            if j-i > maksimumArdaşıkSayı:\n",
    "                maksimumArdaşıkSayı = j - i\n",
    "                toplam = sum(asallar[i:j])\n",
    "                \n",
    "print(maksimumArdaşıkSayı)\n",
    "print(toplam)\n",
    "                "
   ]
  },
  {
   "cell_type": "code",
   "execution_count": null,
   "metadata": {},
   "outputs": [],
   "source": []
  },
  {
   "cell_type": "code",
   "execution_count": null,
   "metadata": {},
   "outputs": [],
   "source": []
  }
 ],
 "metadata": {
  "kernelspec": {
   "display_name": "Python 3",
   "language": "python",
   "name": "python3"
  },
  "language_info": {
   "codemirror_mode": {
    "name": "ipython",
    "version": 3
   },
   "file_extension": ".py",
   "mimetype": "text/x-python",
   "name": "python",
   "nbconvert_exporter": "python",
   "pygments_lexer": "ipython3",
   "version": "3.7.4"
  }
 },
 "nbformat": 4,
 "nbformat_minor": 2
}
