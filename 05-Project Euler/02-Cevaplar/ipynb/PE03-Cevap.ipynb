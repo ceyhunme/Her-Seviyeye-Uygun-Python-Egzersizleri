{
 "cells": [
  {
   "cell_type": "markdown",
   "metadata": {},
   "source": [
    "# Soru 3"
   ]
  },
  {
   "cell_type": "markdown",
   "metadata": {},
   "source": [
    "13195’in asal çarpanları 5, 7, 13 ve 29’dur.\n",
    "\n",
    "600851475143 sayısının en büyük asal çarpanı kaçtır?"
   ]
  },
  {
   "cell_type": "code",
   "execution_count": 73,
   "metadata": {},
   "outputs": [],
   "source": [
    "import math\n",
    "def asal_mı(x):\n",
    "    asalKontrol = True\n",
    "    for i in range(2,x):\n",
    "        if x % i == 0:\n",
    "            asalKontrol = False\n",
    "            break\n",
    "    return asalKontrol"
   ]
  },
  {
   "cell_type": "code",
   "execution_count": 83,
   "metadata": {},
   "outputs": [],
   "source": [
    "sayi = 600851475143\n",
    "enBuyukAsal = 1"
   ]
  },
  {
   "cell_type": "code",
   "execution_count": 84,
   "metadata": {},
   "outputs": [
    {
     "name": "stdout",
     "output_type": "stream",
     "text": [
      "6857\n"
     ]
    }
   ],
   "source": [
    "for k in range(2,int(math.sqrt(sayi)+1)):\n",
    "    if sayi % k == 0 and asal_mı(k):\n",
    "        enBuyukAsal = k\n",
    "print(enBuyukAsal)\n",
    "\n",
    "# Bir sayının karekökünden daha büyük bir asal çarpan yoktur!!!"
   ]
  },
  {
   "cell_type": "code",
   "execution_count": null,
   "metadata": {},
   "outputs": [],
   "source": []
  }
 ],
 "metadata": {
  "kernelspec": {
   "display_name": "Python 3",
   "language": "python",
   "name": "python3"
  },
  "language_info": {
   "codemirror_mode": {
    "name": "ipython",
    "version": 3
   },
   "file_extension": ".py",
   "mimetype": "text/x-python",
   "name": "python",
   "nbconvert_exporter": "python",
   "pygments_lexer": "ipython3",
   "version": "3.7.4"
  }
 },
 "nbformat": 4,
 "nbformat_minor": 2
}
