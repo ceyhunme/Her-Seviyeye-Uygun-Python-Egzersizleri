{
 "cells": [
  {
   "cell_type": "markdown",
   "metadata": {},
   "source": [
    "# Soru 47"
   ]
  },
  {
   "cell_type": "raw",
   "metadata": {},
   "source": [
    "İki farklı asal çarpan içeren birbirini izleyen ilk iki sayı şu şekildedir:\n",
    "\n",
    "14 = 2 × 7\n",
    "15 = 3 × 5\n",
    "\n",
    "Üç farklı asal çarpan içeren birbirini izleyen ilk üç sayı şu şekildedir:\n",
    "\n",
    "644 = 2^² × 7 × 23\n",
    "645 = 3 × 5 × 43\n",
    "646 = 2 × 17 × 19.\n",
    "\n",
    "Dört farklı asal çarpan içeren birbirini izleyen ilk dört sayıyı bulunuz. Bu sayıların ilki nedir?\n"
   ]
  },
  {
   "cell_type": "code",
   "execution_count": 20,
   "metadata": {},
   "outputs": [
    {
     "name": "stdout",
     "output_type": "stream",
     "text": [
      "134043\n"
     ]
    }
   ],
   "source": [
    "def asalCarpanSayısı(x):\n",
    "    i = 2\n",
    "    çarpanlar = set()\n",
    "    while i < x**0.5:\n",
    "        if x % i == 0:\n",
    "            çarpanlar.add(i)\n",
    "            x //= i\n",
    "            i -= 1\n",
    "        i += 1\n",
    "    return len(çarpanlar) + 1\n",
    "    \n",
    "    \n",
    "sayi = 2*3*5*7\n",
    "\n",
    "while True:\n",
    "    olurMu = True\n",
    "    for i in range(0,4):\n",
    "        if asalCarpanSayısı(sayi+i) != 4:\n",
    "            olurMu = False\n",
    "            break\n",
    "    if olurMu:\n",
    "        print(sayi)\n",
    "        break\n",
    "    sayi += 1\n",
    "    "
   ]
  },
  {
   "cell_type": "code",
   "execution_count": null,
   "metadata": {},
   "outputs": [],
   "source": []
  }
 ],
 "metadata": {
  "kernelspec": {
   "display_name": "Python 3",
   "language": "python",
   "name": "python3"
  },
  "language_info": {
   "codemirror_mode": {
    "name": "ipython",
    "version": 3
   },
   "file_extension": ".py",
   "mimetype": "text/x-python",
   "name": "python",
   "nbconvert_exporter": "python",
   "pygments_lexer": "ipython3",
   "version": "3.7.4"
  }
 },
 "nbformat": 4,
 "nbformat_minor": 2
}
