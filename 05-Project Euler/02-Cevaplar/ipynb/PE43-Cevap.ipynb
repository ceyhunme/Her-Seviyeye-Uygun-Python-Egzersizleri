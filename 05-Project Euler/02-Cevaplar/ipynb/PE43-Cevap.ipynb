{
 "cells": [
  {
   "cell_type": "markdown",
   "metadata": {},
   "source": [
    "# Soru 43"
   ]
  },
  {
   "cell_type": "raw",
   "metadata": {},
   "source": [
    "1406357289, 0’dan 9’a kadar olan rakamları belirli bir sırada içerdiği için 0’dan 9’a kadar pandijital bir sayıdır; ancak aynı zamanda ilginç olan alt dizi bölünebilirliği özelliğine de sahiptir.\n",
    "\n",
    "d1 1. basamak ve d2 de 2. basamak olsun. Bu şekilde aşağıdaki durumu elde edebiliriz:\n",
    "\n",
    "d2d3d4=406 2’ye bölünebilir\n",
    "d3d4d5=063 3’e bölünebilir\n",
    "d4d5d6=635 5’e bölünebilir\n",
    "d5d6d7=357 7’ye bölünebilir\n",
    "d6d7d8=572 11’e bölünebilir\n",
    "d7d8d9=728 13’e bölünebilir\n",
    "d8d9d10=289 17’ye bölünebilir\n",
    "Bu özelliğe sahip tüm 0’dan 9’a pandijital olan sayıların toplamını bulunuz."
   ]
  },
  {
   "cell_type": "code",
   "execution_count": 51,
   "metadata": {},
   "outputs": [
    {
     "name": "stdout",
     "output_type": "stream",
     "text": [
      "16695334890\n"
     ]
    }
   ],
   "source": [
    "from itertools import permutations as permütasyon\n",
    "\n",
    "rakamlar = \"0123456789\"\n",
    "\n",
    "sayılar = permütasyon(rakamlar)\n",
    "pandijitalSayılar = [\"\".join(sayı) for sayı in sayılar if not sayı[0] == \"0\" ]\n",
    "asallar = [2,3,5,7,11,13,17]\n",
    "\n",
    "toplam = 0\n",
    "\n",
    "for sayı in pandijitalSayılar:\n",
    "    kontrol = True\n",
    "    for i in range(0,len(asallar)):\n",
    "        if int(sayı[i+1:i+4]) % asallar[i] != 0:\n",
    "            kontrol = False\n",
    "            break\n",
    "    if kontrol:\n",
    "        toplam += int(sayı)\n",
    "    \n",
    "print(toplam)"
   ]
  },
  {
   "cell_type": "code",
   "execution_count": null,
   "metadata": {},
   "outputs": [],
   "source": []
  }
 ],
 "metadata": {
  "kernelspec": {
   "display_name": "Python 3",
   "language": "python",
   "name": "python3"
  },
  "language_info": {
   "codemirror_mode": {
    "name": "ipython",
    "version": 3
   },
   "file_extension": ".py",
   "mimetype": "text/x-python",
   "name": "python",
   "nbconvert_exporter": "python",
   "pygments_lexer": "ipython3",
   "version": "3.7.4"
  }
 },
 "nbformat": 4,
 "nbformat_minor": 2
}
