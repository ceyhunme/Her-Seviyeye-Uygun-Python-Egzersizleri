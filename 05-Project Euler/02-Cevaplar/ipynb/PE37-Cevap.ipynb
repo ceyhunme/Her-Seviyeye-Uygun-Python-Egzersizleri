{
 "cells": [
  {
   "cell_type": "markdown",
   "metadata": {},
   "source": [
    "# Soru 37"
   ]
  },
  {
   "cell_type": "markdown",
   "metadata": {},
   "source": [
    "3797 sayısı ilginç bir özelliğe sahiptir. Asal sayı olmasının yanı sıra soldan sağa doğru basamaklarının sürekli olarak silinmesiyle de her aşama asal sayı olmaya devam eder: 3797, 797, 97 ve 7. Benzer şekilde sağdan sola da silme yapabiliriz: 3797, 379, 37 ve 3.\n",
    "\n",
    "Hem soldan sağa hem de sağdan sola kesilebilir on bir asal sayının toplamını bulunuz.\n",
    "\n",
    "NOT: 2, 3, 5 ve 7 kesilebilir asal sayı olarak kabul edilmez.\n"
   ]
  },
  {
   "cell_type": "code",
   "execution_count": 17,
   "metadata": {},
   "outputs": [],
   "source": [
    "from sympy import isprime as asalMı\n",
    "\n",
    "def soldanKontrol(n):\n",
    "    sayi = str(n)\n",
    "    for i in range(0,len(sayi)):\n",
    "        sayi2 = int(sayi[i::])\n",
    "        if asalMı(sayi2) == False:\n",
    "            return False\n",
    "    return True\n",
    "\n",
    "def sagdanKontrol(n):\n",
    "    sayi = str(n)\n",
    "    for i in range(0,len(sayi)):\n",
    "        sayi2 = int(sayi[:i+1:])\n",
    "        if asalMı(sayi2) == False:\n",
    "            return False\n",
    "    return True\n",
    "\n",
    "sayac = 0\n",
    "gercekSayi = 10\n",
    "liste = list()\n",
    "\n",
    "while True:\n",
    "    if asalMı(gercekSayi) and soldanKontrol(gercekSayi) and sagdanKontrol(gercekSayi):\n",
    "        liste.append(gercekSayi)\n",
    "    if len(liste) == 11:\n",
    "        break\n",
    "    gercekSayi +=1\n",
    "\n",
    "\n"
   ]
  },
  {
   "cell_type": "code",
   "execution_count": 18,
   "metadata": {},
   "outputs": [
    {
     "data": {
      "text/plain": [
       "[23, 37, 53, 73, 313, 317, 373, 797, 3137, 3797, 739397]"
      ]
     },
     "execution_count": 18,
     "metadata": {},
     "output_type": "execute_result"
    }
   ],
   "source": [
    "liste"
   ]
  },
  {
   "cell_type": "code",
   "execution_count": 19,
   "metadata": {},
   "outputs": [
    {
     "data": {
      "text/plain": [
       "748317"
      ]
     },
     "execution_count": 19,
     "metadata": {},
     "output_type": "execute_result"
    }
   ],
   "source": [
    "sum(liste)"
   ]
  },
  {
   "cell_type": "code",
   "execution_count": null,
   "metadata": {},
   "outputs": [],
   "source": []
  }
 ],
 "metadata": {
  "kernelspec": {
   "display_name": "Python 3",
   "language": "python",
   "name": "python3"
  },
  "language_info": {
   "codemirror_mode": {
    "name": "ipython",
    "version": 3
   },
   "file_extension": ".py",
   "mimetype": "text/x-python",
   "name": "python",
   "nbconvert_exporter": "python",
   "pygments_lexer": "ipython3",
   "version": "3.7.4"
  }
 },
 "nbformat": 4,
 "nbformat_minor": 2
}
