{
 "cells": [
  {
   "cell_type": "markdown",
   "metadata": {},
   "source": [
    "# Soru 24"
   ]
  },
  {
   "cell_type": "markdown",
   "metadata": {},
   "source": [
    "Permütasyon, nesnelerin düzenli olarak sıralanmasıdır. Örneğin 3124 1, 2, 3 ve 4 rakamlarının olası permütasyonlarından biridir. Eğer tüm permütasyon sayısal veya alfabetik olarak sıralanırsa buna sözlüksel sıralama adı verilir. 0, 1 ve 2 rakamlarının sözlüksel permütasyonları şu şekildedir:\n",
    "\n",
    "012   021   102   120   201   210\n",
    "\n",
    "0, 1, 2, 3, 4, 5, 6, 7, 8 ve 9 rakamlarının bir milyonuncu sözlüksel permütasyonu nedir?"
   ]
  },
  {
   "cell_type": "code",
   "execution_count": 13,
   "metadata": {},
   "outputs": [
    {
     "name": "stdout",
     "output_type": "stream",
     "text": [
      "('2', '7', '8', '3', '9', '1', '5', '4', '6', '0')\n"
     ]
    }
   ],
   "source": [
    "from itertools import permutations\n",
    "\n",
    "rakamlar = \"0123456789\"\n",
    "\n",
    "sayilar = list(permutations(rakamlar))\n",
    "\n",
    "sonuc = sayilar[999999]\n",
    "\n",
    "print(sonuc)"
   ]
  },
  {
   "cell_type": "code",
   "execution_count": null,
   "metadata": {},
   "outputs": [],
   "source": [
    "2783915460"
   ]
  }
 ],
 "metadata": {
  "kernelspec": {
   "display_name": "Python 3",
   "language": "python",
   "name": "python3"
  },
  "language_info": {
   "codemirror_mode": {
    "name": "ipython",
    "version": 3
   },
   "file_extension": ".py",
   "mimetype": "text/x-python",
   "name": "python",
   "nbconvert_exporter": "python",
   "pygments_lexer": "ipython3",
   "version": "3.7.4"
  }
 },
 "nbformat": 4,
 "nbformat_minor": 2
}
