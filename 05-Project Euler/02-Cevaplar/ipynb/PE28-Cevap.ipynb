{
 "cells": [
  {
   "cell_type": "markdown",
   "metadata": {},
   "source": [
    "# Soru 28"
   ]
  },
  {
   "cell_type": "raw",
   "metadata": {},
   "source": [
    "1 rakamıyla başlayarak ve saat yönünde sağa doğru ilerleyerek 5’e 5 spiral aşağıdaki şekilde oluşturulmuştur:\n",
    "\n",
    "21 22 23 24 25\n",
    "20  7  8  9 10\n",
    "19  6  1  2 11\n",
    "18  5  4  3 12\n",
    "17 16 15 14 13\n",
    "\n",
    "Köşegenlerindeki sayıların toplamı 101’dir.\n",
    "\n",
    "Aynı şekilde oluşturulan 1001’e 1001 spiralin köşegenlerindeki sayıların toplamı nedir?\n",
    "\n",
    "*Bu soruyu siteden açınız\n"
   ]
  },
  {
   "cell_type": "code",
   "execution_count": 16,
   "metadata": {},
   "outputs": [],
   "source": [
    "köşe = 0\n",
    "boşluk = 1\n",
    "dörtKöşe = 4 \n",
    "\n",
    "toplam = 0"
   ]
  },
  {
   "cell_type": "code",
   "execution_count": 17,
   "metadata": {},
   "outputs": [],
   "source": [
    "for n in range(1,1001**2+1):\n",
    "    if köşe == 0:\n",
    "        toplam += n\n",
    "        köşe = boşluk\n",
    "        dörtKöşe -=1\n",
    "    elif köşe != 0:\n",
    "        köşe -= 1\n",
    "    if dörtKöşe == 0:\n",
    "        boşluk += 2\n",
    "        dörtKöşe = 4"
   ]
  },
  {
   "cell_type": "code",
   "execution_count": 18,
   "metadata": {},
   "outputs": [
    {
     "name": "stdout",
     "output_type": "stream",
     "text": [
      "669171001\n"
     ]
    }
   ],
   "source": [
    "print(toplam)"
   ]
  },
  {
   "cell_type": "code",
   "execution_count": null,
   "metadata": {},
   "outputs": [],
   "source": []
  }
 ],
 "metadata": {
  "kernelspec": {
   "display_name": "Python 3",
   "language": "python",
   "name": "python3"
  },
  "language_info": {
   "codemirror_mode": {
    "name": "ipython",
    "version": 3
   },
   "file_extension": ".py",
   "mimetype": "text/x-python",
   "name": "python",
   "nbconvert_exporter": "python",
   "pygments_lexer": "ipython3",
   "version": "3.7.4"
  }
 },
 "nbformat": 4,
 "nbformat_minor": 2
}
