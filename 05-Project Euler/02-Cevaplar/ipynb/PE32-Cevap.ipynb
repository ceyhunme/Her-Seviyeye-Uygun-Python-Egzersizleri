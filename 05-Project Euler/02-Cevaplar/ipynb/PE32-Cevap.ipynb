{
 "cells": [
  {
   "cell_type": "markdown",
   "metadata": {},
   "source": [
    "# Soru 32"
   ]
  },
  {
   "cell_type": "markdown",
   "metadata": {},
   "source": [
    "Tüm basamaklarında 1’den n’e kadar olan sayıları sadece bir kere kullanan n basamaklı sayılara pandijital sayılar adı verilir; örneğin 1’den 5’e kadar olan 5 basamaklı 15234 sayısı pandijitaldir.\n",
    "\n",
    "7254 farklı bir sayıdır; bu sayının 39 x 186 = 7254 çarpılanı, çarpanı ve çarpımı 1’den 9’a kadar pandijitaldir.\n",
    "\n",
    "1’den 9’a kadar çarpılan/çarpan/çarpımı olarak pandijital olan tüm sayıların toplamını bulunuz.\n",
    "\n",
    "İPUCU: Bazı çarpımlar birden fazla şekilde elde edilebileceği için toplama sadece bir tanesini eklediğinizden emin olun.\n"
   ]
  },
  {
   "cell_type": "code",
   "execution_count": 33,
   "metadata": {},
   "outputs": [
    {
     "name": "stdout",
     "output_type": "stream",
     "text": [
      "45228\n"
     ]
    }
   ],
   "source": [
    "toplam = 0\n",
    "\n",
    "for n in range(1,10000):\n",
    "    for i in range(1,n):\n",
    "        if n % i == 0:\n",
    "            birleş = str(n) + str(i) + str(n//i)\n",
    "            if \"\".join(sorted(birleş)) == \"123456789\":\n",
    "                toplam += n\n",
    "                break\n",
    "                \n",
    "print(toplam)"
   ]
  },
  {
   "cell_type": "code",
   "execution_count": null,
   "metadata": {},
   "outputs": [],
   "source": []
  },
  {
   "cell_type": "code",
   "execution_count": null,
   "metadata": {},
   "outputs": [],
   "source": []
  }
 ],
 "metadata": {
  "kernelspec": {
   "display_name": "Python 3",
   "language": "python",
   "name": "python3"
  },
  "language_info": {
   "codemirror_mode": {
    "name": "ipython",
    "version": 3
   },
   "file_extension": ".py",
   "mimetype": "text/x-python",
   "name": "python",
   "nbconvert_exporter": "python",
   "pygments_lexer": "ipython3",
   "version": "3.7.4"
  }
 },
 "nbformat": 4,
 "nbformat_minor": 2
}
