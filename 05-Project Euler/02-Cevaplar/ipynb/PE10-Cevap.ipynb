{
 "cells": [
  {
   "cell_type": "markdown",
   "metadata": {},
   "source": [
    "# Soru 10"
   ]
  },
  {
   "cell_type": "markdown",
   "metadata": {},
   "source": [
    "10’dan küçük asal sayıların toplamı 2 + 3 + 5 + 7 = 17’dir.\n",
    "\n",
    "2 milyondan küçük bütün asal sayıların toplamını bulunuz."
   ]
  },
  {
   "cell_type": "code",
   "execution_count": 10,
   "metadata": {},
   "outputs": [],
   "source": [
    "import math\n",
    "def asalKontrol(x):\n",
    "    asalMı = True\n",
    "    if x == 2:\n",
    "        return True\n",
    "    else:\n",
    "        for i in range(2,int(math.sqrt(x)+1)):\n",
    "            if x % i == 0:\n",
    "                asalMı = False\n",
    "                break\n",
    "        return asalMı"
   ]
  },
  {
   "cell_type": "code",
   "execution_count": 11,
   "metadata": {},
   "outputs": [
    {
     "name": "stdout",
     "output_type": "stream",
     "text": [
      "142913828922\n"
     ]
    }
   ],
   "source": [
    "toplam = 0\n",
    "i = 2\n",
    "while i < 2000000:\n",
    "    if asalKontrol(i):\n",
    "        toplam += i\n",
    "    i += 1\n",
    "print(toplam)"
   ]
  },
  {
   "cell_type": "code",
   "execution_count": null,
   "metadata": {},
   "outputs": [],
   "source": []
  }
 ],
 "metadata": {
  "kernelspec": {
   "display_name": "Python 3",
   "language": "python",
   "name": "python3"
  },
  "language_info": {
   "codemirror_mode": {
    "name": "ipython",
    "version": 3
   },
   "file_extension": ".py",
   "mimetype": "text/x-python",
   "name": "python",
   "nbconvert_exporter": "python",
   "pygments_lexer": "ipython3",
   "version": "3.7.4"
  }
 },
 "nbformat": 4,
 "nbformat_minor": 2
}
