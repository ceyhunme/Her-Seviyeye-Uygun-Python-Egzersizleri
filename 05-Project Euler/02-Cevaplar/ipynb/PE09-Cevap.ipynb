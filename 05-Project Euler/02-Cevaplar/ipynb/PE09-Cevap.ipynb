{
 "cells": [
  {
   "cell_type": "markdown",
   "metadata": {},
   "source": [
    "# Soru 9"
   ]
  },
  {
   "cell_type": "markdown",
   "metadata": {},
   "source": [
    "Pisagor teoremindeki üç doğal sayı a, b ve c’dir; \n",
    "\n",
    "a < b < c ve a^2 + b^2 = c^2\n",
    "\n",
    "Örneğin, 3^2 + 4^2 = 9 + 16 = 25 = 5^2\n",
    "\n",
    "a + b + c’nin 1000 değerine sahip olduğu tek bir Pisagor üçlüsü vardır.\n",
    "\n",
    "Bu üçlüyü bulup, a x b x c değerini hesaplayın."
   ]
  },
  {
   "cell_type": "code",
   "execution_count": 7,
   "metadata": {},
   "outputs": [
    {
     "name": "stdout",
     "output_type": "stream",
     "text": [
      "31875000\n",
      "200 375 425\n",
      "31875000\n",
      "375 200 425\n"
     ]
    }
   ],
   "source": [
    "for a in range(1,1000):\n",
    "    for b in range(1,1000-a):\n",
    "        c = 1000 - a - b\n",
    "        if c**2 == a**2 + b**2:\n",
    "            print(a*b*c)\n",
    "            print(a,b,c)\n",
    "            break"
   ]
  },
  {
   "cell_type": "code",
   "execution_count": null,
   "metadata": {},
   "outputs": [],
   "source": []
  }
 ],
 "metadata": {
  "kernelspec": {
   "display_name": "Python 3",
   "language": "python",
   "name": "python3"
  },
  "language_info": {
   "codemirror_mode": {
    "name": "ipython",
    "version": 3
   },
   "file_extension": ".py",
   "mimetype": "text/x-python",
   "name": "python",
   "nbconvert_exporter": "python",
   "pygments_lexer": "ipython3",
   "version": "3.7.4"
  }
 },
 "nbformat": 4,
 "nbformat_minor": 2
}
