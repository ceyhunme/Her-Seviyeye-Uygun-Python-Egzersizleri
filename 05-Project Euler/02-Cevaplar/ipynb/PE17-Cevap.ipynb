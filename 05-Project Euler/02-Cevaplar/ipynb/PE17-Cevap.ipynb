{
 "cells": [
  {
   "cell_type": "markdown",
   "metadata": {},
   "source": [
    "# Soru 17"
   ]
  },
  {
   "cell_type": "markdown",
   "metadata": {},
   "source": [
    "Eğer 1’den 5’e kadar sayılar ingilizce isimleriyle yazılırsa: one, two, three, four, five şeklinde yazıların. Bunlarda toplamda 3 + 3 + 5 + 4 + 4 = 19 harf vardır.\n",
    "\n",
    "Eğer 1’den 1000’e kadar bütün sayılar isimleriyle yazılsaydı, kaç harf kullanılırdı?\n",
    "\n",
    "NOT: Boşlukları ve tireleri saymayınız. Örneğin, 342 (three hundred and forty-two) 23 harf ve 115 (one hundred and fifteen) 20 harf içerir. Britanya İngilizcesinde sayıları yazarkenki “and” kullanımı da kurallar dahilindedir."
   ]
  },
  {
   "cell_type": "code",
   "execution_count": 36,
   "metadata": {},
   "outputs": [],
   "source": [
    "birler = [\"zero\", \"one\", \"two\", \"three\", \"four\", \"five\", \"six\", \"seven\", \"eight\", \"nine\",\n",
    "        \"ten\", \"eleven\", \"twelve\", \"thirteen\", \"fourteen\", \"fifteen\", \"sixteen\", \"seventeen\", \"eighteen\", \"nineteen\"]\n",
    "\n",
    "onlar = [\"\", \"\", \"twenty\", \"thirty\", \"forty\", \"fifty\", \"sixty\", \"seventy\", \"eighty\", \"ninety\"]"
   ]
  },
  {
   "cell_type": "code",
   "execution_count": 49,
   "metadata": {},
   "outputs": [],
   "source": [
    "def ingilizce(n):\n",
    "    if 0 <= n < 20:\n",
    "        return birler[n]\n",
    "    elif 20 <= n < 100:\n",
    "        return onlar[n//10] + (birler[n%10] if (n%10!=0 ) else \"\")\n",
    "    elif 100 <= n < 1000:\n",
    "        return birler[n//100] + \"hundred\" + ((\"and\" + ingilizce(n%100)) if (n % 100 != 0) else \"\")\n",
    "    elif 1000 == n:\n",
    "        return \"onethousand\"\n",
    "    "
   ]
  },
  {
   "cell_type": "code",
   "execution_count": 50,
   "metadata": {},
   "outputs": [
    {
     "name": "stdout",
     "output_type": "stream",
     "text": [
      "21124\n"
     ]
    }
   ],
   "source": [
    "toplam = 0\n",
    "for i in range(1,1001):\n",
    "    toplam += len(ingilizce(i))\n",
    "print(toplam)"
   ]
  },
  {
   "cell_type": "code",
   "execution_count": null,
   "metadata": {},
   "outputs": [],
   "source": []
  }
 ],
 "metadata": {
  "kernelspec": {
   "display_name": "Python 3",
   "language": "python",
   "name": "python3"
  },
  "language_info": {
   "codemirror_mode": {
    "name": "ipython",
    "version": 3
   },
   "file_extension": ".py",
   "mimetype": "text/x-python",
   "name": "python",
   "nbconvert_exporter": "python",
   "pygments_lexer": "ipython3",
   "version": "3.7.4"
  }
 },
 "nbformat": 4,
 "nbformat_minor": 2
}
