{
 "cells": [
  {
   "cell_type": "markdown",
   "metadata": {},
   "source": [
    "# Soru 44"
   ]
  },
  {
   "cell_type": "markdown",
   "metadata": {},
   "source": [
    "Pentagon sayılar Pn=n(3n-1)/2 formülüne göre oluşturulur. İlk on pentagon sayı şu şekildedir:\n",
    "\n",
    "1, 5, 12, 22, 35, 51, 70, 92, 117, 145, ...\n",
    "\n",
    "P4 + P7 = 22 + 70 = 92 = P8 olduğu görülebilir. Ancak 70 - 22 = 48 farkları pentagon değildir.\n",
    "\n",
    "Farkları ve toplamları pentagon olan ve D = |Pk − Pj| en küçük değeri sahip Pj ve Pk pentagon sayısı çiftini bulunuz; D değeri nedir?\n"
   ]
  },
  {
   "cell_type": "code",
   "execution_count": 75,
   "metadata": {},
   "outputs": [],
   "source": [
    "pentagonSayılar = list()\n",
    "liste = list()\n",
    "for n in range(1,10000):\n",
    "    pentagonSayılar.append((n*(3*n-1))//2)\n",
    "\n",
    "def kontrol(x):\n",
    "    return ((1+(1+24*x)**(1/2))/6).is_integer()"
   ]
  },
  {
   "cell_type": "code",
   "execution_count": 78,
   "metadata": {},
   "outputs": [
    {
     "name": "stdout",
     "output_type": "stream",
     "text": [
      "[5482660]\n"
     ]
    }
   ],
   "source": [
    "for i in range(0,5000):\n",
    "    for j in range(i+1,4999):\n",
    "        if kontrol(pentagonSayılar[i]+pentagonSayılar[j]) and kontrol(pentagonSayılar[j]-pentagonSayılar[i]):\n",
    "            liste.append(pentagonSayılar[j]-pentagonSayılar[i])\n",
    "            break\n",
    "            \n",
    "print(liste)"
   ]
  },
  {
   "cell_type": "code",
   "execution_count": null,
   "metadata": {},
   "outputs": [],
   "source": []
  },
  {
   "cell_type": "code",
   "execution_count": null,
   "metadata": {},
   "outputs": [],
   "source": []
  }
 ],
 "metadata": {
  "kernelspec": {
   "display_name": "Python 3",
   "language": "python",
   "name": "python3"
  },
  "language_info": {
   "codemirror_mode": {
    "name": "ipython",
    "version": 3
   },
   "file_extension": ".py",
   "mimetype": "text/x-python",
   "name": "python",
   "nbconvert_exporter": "python",
   "pygments_lexer": "ipython3",
   "version": "3.7.4"
  }
 },
 "nbformat": 4,
 "nbformat_minor": 2
}
