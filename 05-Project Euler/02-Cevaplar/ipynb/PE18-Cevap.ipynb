{
 "cells": [
  {
   "cell_type": "markdown",
   "metadata": {},
   "source": [
    "# Soru 18"
   ]
  },
  {
   "cell_type": "markdown",
   "metadata": {},
   "source": [
    "Aşağıdaki üçgenin en üstünden başlayıp, altındaki satırlardaki bağlantılı sayılarla ilerleyerek, üstten aşağı elde edilebilecek en büyük toplam 23’tür.\n",
    "\n",
    "*Şekli site üzerinden görmek gerekiyor.\n",
    "\n",
    "Şöyle: 3 + 7 + 4 + 9 = 23.\n",
    "\n",
    "Aşağıdaki üçgendeki üstten aşağıya elde edilebilecek maksimum toplamı bulunuz:\n",
    "\n",
    "*Şekli site üzerinden görmek gerekiyor.\n",
    "\n",
    "NOT: Sadece 16384 farklı yol olduğunda, bütün ihtimalleri deneyerek bu problemi çözmek mümkündür. Ancak 67. soru, aynı sorunun 100 satırlık bir üçgenli halidir; dolayısıyla brute force yöntemiyle çözülemez ve zekice bir yöntem kullanmayı gerektirir.)"
   ]
  },
  {
   "cell_type": "code",
   "execution_count": 39,
   "metadata": {},
   "outputs": [
    {
     "name": "stdout",
     "output_type": "stream",
     "text": [
      "[1074]\n"
     ]
    }
   ],
   "source": [
    "sayi = \"\"\"75\n",
    "95 64\n",
    "17 47 82\n",
    "18 35 87 10\n",
    "20 04 82 47 65\n",
    "19 01 23 75 03 34\n",
    "88 02 77 73 07 63 67\n",
    "99 65 04 28 06 16 70 92\n",
    "41 41 26 56 83 40 80 70 33\n",
    "41 48 72 33 47 32 37 16 94 29\n",
    "53 71 44 65 25 43 91 52 97 51 14\n",
    "70 11 33 28 77 73 17 78 39 68 17 57\n",
    "91 71 52 38 17 14 91 43 58 50 27 29 48\n",
    "63 66 04 68 89 53 67 30 73 16 69 87 40 31\n",
    "04 62 98 27 23 09 70 98 73 93 38 53 60 04 23\"\"\"\n",
    "\n",
    "satirlar = sayi.split(\"\\n\")\n",
    "dizi =list()\n",
    "for satir in satirlar:\n",
    "    sayi = satir.split(\" \")\n",
    "    dizi.append(sayi)\n",
    "    \n",
    "for i in range(0,len(dizi)):\n",
    "    for j in range(0,i+1):\n",
    "        dizi[i][j] = int(dizi[i][j])\n",
    "        \n",
    "for i in range(len(dizi)-1,-1,-1):\n",
    "    for j in range(0,i):\n",
    "        dizi[i-1][j] += max(dizi[i][j],dizi[i][j+1])\n",
    "        \n",
    "print(dizi[0])"
   ]
  },
  {
   "cell_type": "code",
   "execution_count": null,
   "metadata": {},
   "outputs": [],
   "source": []
  }
 ],
 "metadata": {
  "kernelspec": {
   "display_name": "Python 3",
   "language": "python",
   "name": "python3"
  },
  "language_info": {
   "codemirror_mode": {
    "name": "ipython",
    "version": 3
   },
   "file_extension": ".py",
   "mimetype": "text/x-python",
   "name": "python",
   "nbconvert_exporter": "python",
   "pygments_lexer": "ipython3",
   "version": "3.7.4"
  }
 },
 "nbformat": 4,
 "nbformat_minor": 2
}
