{
 "cells": [
  {
   "cell_type": "markdown",
   "metadata": {},
   "source": [
    "# Soru 14"
   ]
  },
  {
   "cell_type": "markdown",
   "metadata": {},
   "source": [
    "Aşağıdaki tekrarlama dizisi pozitif tam sayılar için tanımlanmıştır:\n",
    "\n",
    "n → n/2 (n çift)\n",
    "n → 3n + 1 (n tek)\n",
    "Yukarıdaki kuralı uygulayarak ve 13’ten başlayarak aşağıdaki diziyi üretiriz:\n",
    "\n",
    "13 → 40 → 20 → 10 → 5 → 16 → 8 → 4 → 2 → 1\n",
    "\n",
    "13’ten başlayıp 1’de sonlanan bu dizinin 10 adet terim içerdiği görülebilir. Henüz kanıtlanmış olmasa da(Collatz Problemi), bütün başlangıç sayılarının 1’de sonuçlanacağı sanılmaktadır.\n",
    "\n",
    "Bir milyonun altındaki hangi başlangıç sayısı, en uzun zinciri üretir?\n",
    "\n",
    "NOT: Zincir bir kere başladıktan sonra terimlerin 1 milyonun üzerine çıkabilmesi mümkündür."
   ]
  },
  {
   "cell_type": "code",
   "execution_count": 72,
   "metadata": {},
   "outputs": [],
   "source": [
    "gecmisSayilar = dict()\n",
    "\n",
    "def collatz(sayi,gecmisSayilar):\n",
    "    verilen = sayi\n",
    "    kacAdim = 1\n",
    "    while sayi != 1:\n",
    "        if sayi in gecmisSayilar:\n",
    "            kacAdim += gecmisSayilar[sayi] - 1\n",
    "            break\n",
    "        if sayi % 2 == 0:\n",
    "            sayi //= 2\n",
    "            kacAdim += 1\n",
    "        else:\n",
    "            sayi = sayi * 3 + 1\n",
    "            kacAdim += 1 \n",
    "    gecmisSayilar[verilen] = kacAdim\n",
    "    return kacAdim"
   ]
  },
  {
   "cell_type": "code",
   "execution_count": 80,
   "metadata": {},
   "outputs": [],
   "source": [
    "maksimumAdimSayaci = list()\n",
    "for i in range(1,1000001):\n",
    "    maksimumAdimSayaci.append(collatz(i,gecmisSayilar))\n"
   ]
  },
  {
   "cell_type": "code",
   "execution_count": 87,
   "metadata": {},
   "outputs": [
    {
     "name": "stdout",
     "output_type": "stream",
     "text": [
      "837799\n"
     ]
    }
   ],
   "source": [
    "for sayi, adim in gecmisSayilar.items():\n",
    "    if adim == 525:\n",
    "        print(sayi)"
   ]
  },
  {
   "cell_type": "code",
   "execution_count": null,
   "metadata": {},
   "outputs": [],
   "source": []
  }
 ],
 "metadata": {
  "kernelspec": {
   "display_name": "Python 3",
   "language": "python",
   "name": "python3"
  },
  "language_info": {
   "codemirror_mode": {
    "name": "ipython",
    "version": 3
   },
   "file_extension": ".py",
   "mimetype": "text/x-python",
   "name": "python",
   "nbconvert_exporter": "python",
   "pygments_lexer": "ipython3",
   "version": "3.7.4"
  }
 },
 "nbformat": 4,
 "nbformat_minor": 2
}
