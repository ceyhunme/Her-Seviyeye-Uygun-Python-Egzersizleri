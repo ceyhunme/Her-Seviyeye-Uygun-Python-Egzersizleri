{
 "cells": [
  {
   "cell_type": "markdown",
   "metadata": {},
   "source": [
    "# Soru 6"
   ]
  },
  {
   "cell_type": "markdown",
   "metadata": {},
   "source": [
    "İlk 10 doğal sayının karelerinin toplamı,\n",
    "\n",
    "1^2 + 2^2 + … + 10^2 = 385\n",
    "\n",
    "İlk 10 doğal sayının toplamlarının karesi,\n",
    "\n",
    "(1 + 2 + … + 10)^2 = 55^2 = 3025\n",
    "\n",
    "İlk 10 doğal sayı için toplamların karesi ile karelerin toplamı arasındaki fark; 3025 – 385 = 2640’tır.\n",
    "\n",
    "İlk 100 doğal sayının toplamlarının karesi ile karelerinin toplamı arasındaki farkı bulunuz."
   ]
  },
  {
   "cell_type": "code",
   "execution_count": null,
   "metadata": {},
   "outputs": [],
   "source": []
  }
 ],
 "metadata": {
  "kernelspec": {
   "display_name": "Python 3",
   "language": "python",
   "name": "python3"
  },
  "language_info": {
   "codemirror_mode": {
    "name": "ipython",
    "version": 3
   },
   "file_extension": ".py",
   "mimetype": "text/x-python",
   "name": "python",
   "nbconvert_exporter": "python",
   "pygments_lexer": "ipython3",
   "version": "3.7.4"
  }
 },
 "nbformat": 4,
 "nbformat_minor": 2
}
