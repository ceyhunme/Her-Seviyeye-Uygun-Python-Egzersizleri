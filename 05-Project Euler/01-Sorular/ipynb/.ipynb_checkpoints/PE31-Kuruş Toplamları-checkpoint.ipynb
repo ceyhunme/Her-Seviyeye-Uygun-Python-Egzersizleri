{
 "cells": [
  {
   "cell_type": "markdown",
   "metadata": {},
   "source": [
    "# Soru 31"
   ]
  },
  {
   "cell_type": "raw",
   "metadata": {},
   "source": [
    "İngiltere’de pound (£) ve pence (p) para birimleri kullanılır. Dolaşımda olan sekiz bozuk para bulunmaktadır.\n",
    "\n",
    "1p, 2p, 5p, 10p, 20p, 50p, £1 (100p) ve £2 (200p).\n",
    "£2 aşağıdaki şekilde oluşturulabilir:\n",
    "\n",
    "1×£1 + 1×50p + 2×20p + 1×5p + 1×2p + 3×1p\n",
    "İstenilen sayıda bozuk para kullanılarak kaç farklı şekilde £2 elde edilebilir?"
   ]
  },
  {
   "cell_type": "code",
   "execution_count": null,
   "metadata": {},
   "outputs": [],
   "source": []
  }
 ],
 "metadata": {
  "kernelspec": {
   "display_name": "Python 3",
   "language": "python",
   "name": "python3"
  },
  "language_info": {
   "codemirror_mode": {
    "name": "ipython",
    "version": 3
   },
   "file_extension": ".py",
   "mimetype": "text/x-python",
   "name": "python",
   "nbconvert_exporter": "python",
   "pygments_lexer": "ipython3",
   "version": "3.7.4"
  }
 },
 "nbformat": 4,
 "nbformat_minor": 2
}
