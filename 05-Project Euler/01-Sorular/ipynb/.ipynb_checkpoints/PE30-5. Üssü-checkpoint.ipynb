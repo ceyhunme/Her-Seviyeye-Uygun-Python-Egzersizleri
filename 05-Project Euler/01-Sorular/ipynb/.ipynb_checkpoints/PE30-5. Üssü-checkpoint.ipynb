{
 "cells": [
  {
   "cell_type": "markdown",
   "metadata": {},
   "source": [
    "# Soru 30"
   ]
  },
  {
   "cell_type": "raw",
   "metadata": {},
   "source": [
    "Şaşırtıcı bir şekilde basamaklarının dördüncü üstlerinin toplamı olarak yazılabilen sadece üç sayı bulunmaktadır.\n",
    "\n",
    "1634 = 1^4 + 6^4 + 3^4 + 4^4\n",
    "8208 = 8^4 + 2^4 + 0^4 + 8^4\n",
    "9474 = 9^4 + 4^4 + 7^4 + 4^4\n",
    "1 = 1^4 toplam olmadığı için dahil edilmemiştir.\n",
    "\n",
    "Bu sayıların toplamı 1634 + 8208 + 9474 = 19316 şeklindedir.\n",
    "\n",
    "Basamaklarının beşinci üstlerinin toplamı olarak yazılabilen tüm sayıları bulunuz.\n"
   ]
  },
  {
   "cell_type": "code",
   "execution_count": null,
   "metadata": {},
   "outputs": [],
   "source": []
  }
 ],
 "metadata": {
  "kernelspec": {
   "display_name": "Python 3",
   "language": "python",
   "name": "python3"
  },
  "language_info": {
   "codemirror_mode": {
    "name": "ipython",
    "version": 3
   },
   "file_extension": ".py",
   "mimetype": "text/x-python",
   "name": "python",
   "nbconvert_exporter": "python",
   "pygments_lexer": "ipython3",
   "version": "3.7.4"
  }
 },
 "nbformat": 4,
 "nbformat_minor": 2
}
