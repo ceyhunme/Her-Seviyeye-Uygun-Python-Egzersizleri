{
 "cells": [
  {
   "cell_type": "markdown",
   "metadata": {},
   "source": [
    "# Soru 43"
   ]
  },
  {
   "cell_type": "raw",
   "metadata": {},
   "source": [
    "1406357289, 0’dan 9’a kadar olan rakamları belirli bir sırada içerdiği için 0’dan 9’a kadar pandijital bir sayıdır; ancak aynı zamanda ilginç olan alt dizi bölünebilirliği özelliğine de sahiptir.\n",
    "\n",
    "d1 1. basamak ve d2 de 2. basamak olsun. Bu şekilde aşağıdaki durumu elde edebiliriz:\n",
    "\n",
    "d2d3d4=406 2’ye bölünebilir\n",
    "d3d4d5=063 3’e bölünebilir\n",
    "d4d5d6=635 5’e bölünebilir\n",
    "d5d6d7=357 7’ye bölünebilir\n",
    "d6d7d8=572 11’e bölünebilir\n",
    "d7d8d9=728 13’e bölünebilir\n",
    "d8d9d10=289 17’ye bölünebilir\n",
    "Bu özelliğe sahip tüm 0’dan 9’a pandijital olan sayıların toplamını bulunuz."
   ]
  },
  {
   "cell_type": "code",
   "execution_count": null,
   "metadata": {},
   "outputs": [],
   "source": []
  }
 ],
 "metadata": {
  "kernelspec": {
   "display_name": "Python 3",
   "language": "python",
   "name": "python3"
  },
  "language_info": {
   "codemirror_mode": {
    "name": "ipython",
    "version": 3
   },
   "file_extension": ".py",
   "mimetype": "text/x-python",
   "name": "python",
   "nbconvert_exporter": "python",
   "pygments_lexer": "ipython3",
   "version": "3.7.4"
  }
 },
 "nbformat": 4,
 "nbformat_minor": 2
}
