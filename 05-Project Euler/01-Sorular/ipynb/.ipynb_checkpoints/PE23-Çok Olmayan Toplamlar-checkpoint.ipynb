{
 "cells": [
  {
   "cell_type": "markdown",
   "metadata": {},
   "source": [
    "# Soru 23"
   ]
  },
  {
   "cell_type": "markdown",
   "metadata": {},
   "source": [
    "Zengin sayı, kendisi hariç pozitif tam bölenlerinin toplamının sayıya tam olarak eşit olduğu sayılardır. Örneğin 28 sayısının kendisi hariç pozitif tam bölenlerinin toplamı 1 + 2 + 4 + 7 +14 = 28 olur; bu da 28 sayısının mükemmel sayı olduğunu gösterir.\n",
    "\n",
    "Bir n sayısının kendisi hariç pozitif tam bölenlerinin toplamı n’den azsa eksik, n’den fazlaysa zengin olarak adlandırılır.\n",
    "\n",
    "En küçük zengin sayı 12 olduğu için, 1 + 2 + 3 + 4 + 6 = 16, iki zengin sayının toplamı olarak yazılabilecek en küçük sayı 24’tür. Matematiksel analizle 28123’den büyük tüm tam sayıların iki zengin sayının toplamı olarak yazılabileceği gösterilmiştir. Ancak iki zengin sayının toplamı olarak ifade edilemeyen en büyük sayının bu sınırdan küçük olduğu bilinse bile bu üst sınır ek analizlerle azaltılamaz.\n",
    "\n",
    "İki zengin sayının toplamı olarak yazılamayacak tüm pozitif tam sayıları bulunuz."
   ]
  },
  {
   "cell_type": "code",
   "execution_count": null,
   "metadata": {},
   "outputs": [],
   "source": []
  }
 ],
 "metadata": {
  "kernelspec": {
   "display_name": "Python 3",
   "language": "python",
   "name": "python3"
  },
  "language_info": {
   "codemirror_mode": {
    "name": "ipython",
    "version": 3
   },
   "file_extension": ".py",
   "mimetype": "text/x-python",
   "name": "python",
   "nbconvert_exporter": "python",
   "pygments_lexer": "ipython3",
   "version": "3.7.4"
  }
 },
 "nbformat": 4,
 "nbformat_minor": 2
}
