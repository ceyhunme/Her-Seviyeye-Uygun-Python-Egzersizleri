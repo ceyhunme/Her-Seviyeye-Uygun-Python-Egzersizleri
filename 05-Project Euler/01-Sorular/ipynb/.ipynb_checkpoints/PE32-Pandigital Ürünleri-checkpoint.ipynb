{
 "cells": [
  {
   "cell_type": "markdown",
   "metadata": {},
   "source": [
    "# Soru 32"
   ]
  },
  {
   "cell_type": "markdown",
   "metadata": {},
   "source": [
    "Tüm basamaklarında 1’den n’e kadar olan sayıları sadece bir kere kullanan n basamaklı sayılara pandijital sayılar adı verilir; örneğin 1’den 5’e kadar olan 5 basamaklı 15234 sayısı pandijitaldir.\n",
    "\n",
    "7254 farklı bir sayıdır; bu sayının 39 x 186 = 7254 çarpılanı, çarpanı ve çarpımı 1’den 9’a kadar pandijitaldir.\n",
    "\n",
    "1’den 9’a kadar çarpılan/çarpan/çarpımı olarak pandijital olan tüm sayıların toplamını bulunuz.\n",
    "\n",
    "İPUCU: Bazı çarpımlar birden fazla şekilde elde edilebileceği için toplama sadece bir tanesini eklediğinizden emin olun.\n"
   ]
  },
  {
   "cell_type": "code",
   "execution_count": null,
   "metadata": {},
   "outputs": [],
   "source": []
  }
 ],
 "metadata": {
  "kernelspec": {
   "display_name": "Python 3",
   "language": "python",
   "name": "python3"
  },
  "language_info": {
   "codemirror_mode": {
    "name": "ipython",
    "version": 3
   },
   "file_extension": ".py",
   "mimetype": "text/x-python",
   "name": "python",
   "nbconvert_exporter": "python",
   "pygments_lexer": "ipython3",
   "version": "3.7.4"
  }
 },
 "nbformat": 4,
 "nbformat_minor": 2
}
