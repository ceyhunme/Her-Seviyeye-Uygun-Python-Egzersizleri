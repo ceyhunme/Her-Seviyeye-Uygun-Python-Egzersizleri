{
 "cells": [
  {
   "cell_type": "markdown",
   "metadata": {},
   "source": [
    "# Soru 50"
   ]
  },
  {
   "cell_type": "markdown",
   "metadata": {},
   "source": [
    "41 asal sayısı birbirini izleyen altı asal sayının toplamı olarak yazılabilir:\n",
    "\n",
    "41 = 2 + 3 + 5 + 7 + 11 + 13\n",
    "\n",
    "Bu sayı yüzden küçük en uzun birbirini izleyen asal sayıların toplamı olan asal sayıdır.\n",
    "\n",
    "Binden küçük, birbirini izleyen en uzun asal sayılar zincirinden oluşan asal sayı 21 terim içerir ve 953 sayısıdır.\n",
    "\n",
    "Birbirini izleyen altı asal sayının toplamı olarak yazılabilen bir milyondan küçük asal sayı hangisidir?\n"
   ]
  },
  {
   "cell_type": "code",
   "execution_count": null,
   "metadata": {},
   "outputs": [],
   "source": []
  }
 ],
 "metadata": {
  "kernelspec": {
   "display_name": "Python 3",
   "language": "python",
   "name": "python3"
  },
  "language_info": {
   "codemirror_mode": {
    "name": "ipython",
    "version": 3
   },
   "file_extension": ".py",
   "mimetype": "text/x-python",
   "name": "python",
   "nbconvert_exporter": "python",
   "pygments_lexer": "ipython3",
   "version": "3.7.4"
  }
 },
 "nbformat": 4,
 "nbformat_minor": 2
}
