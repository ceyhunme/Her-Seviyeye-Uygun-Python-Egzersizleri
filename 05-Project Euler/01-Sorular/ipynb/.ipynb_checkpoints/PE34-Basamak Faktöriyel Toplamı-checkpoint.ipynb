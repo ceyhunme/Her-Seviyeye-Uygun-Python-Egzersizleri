{
 "cells": [
  {
   "cell_type": "markdown",
   "metadata": {},
   "source": [
    "# Soru 34"
   ]
  },
  {
   "cell_type": "markdown",
   "metadata": {},
   "source": [
    "145 ilginç bir sayıdır; 1! + 4! + 5! = 1 + 24 + 120 = 145.\n",
    "\n",
    "Basamakların faktöriyellerinin toplamına eşit olan tüm sayıları bulunuz.\n",
    "\n",
    "Not: 1! = 1 ve 2! = 2 toplam olmadığı için dahil edilmemiştir.\n"
   ]
  },
  {
   "cell_type": "code",
   "execution_count": null,
   "metadata": {},
   "outputs": [],
   "source": []
  }
 ],
 "metadata": {
  "kernelspec": {
   "display_name": "Python 3",
   "language": "python",
   "name": "python3"
  },
  "language_info": {
   "codemirror_mode": {
    "name": "ipython",
    "version": 3
   },
   "file_extension": ".py",
   "mimetype": "text/x-python",
   "name": "python",
   "nbconvert_exporter": "python",
   "pygments_lexer": "ipython3",
   "version": "3.7.4"
  }
 },
 "nbformat": 4,
 "nbformat_minor": 2
}
