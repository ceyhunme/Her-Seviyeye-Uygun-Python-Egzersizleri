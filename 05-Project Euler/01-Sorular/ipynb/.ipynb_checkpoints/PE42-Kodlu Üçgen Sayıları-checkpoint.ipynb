{
 "cells": [
  {
   "cell_type": "markdown",
   "metadata": {},
   "source": [
    "# Soru 42"
   ]
  },
  {
   "cell_type": "markdown",
   "metadata": {},
   "source": [
    "Üçgen sayılar dizinin n. terimi tn = ½n(n+1) olarak verilmiştir; bu nedenle ilk on üçgen sayı şu şekildedir:\n",
    "\n",
    "1, 3, 6, 10, 15, 21, 28, 36, 45, 55, ...\n",
    "\n",
    "Bir kelimedeki her harfi alfabetik konumuna karşılık gelen sayıya dönüştürüp bu değerlere ekleyerek kelime değeri oluştururuz. Örneğin SKY için kelime değeri 19 + 11 + 25 = 55 = t10 şeklindedir. Eğer kelime değeri üçgen sayıysa bu kelimeye üçgen kelime adı verilir.\n",
    "\n",
    "İngilizce dilindeki en yaygın iki bin kelimeyi içeren 16K metin dosyası olan words.txt (kaynaklar bölümünde) dosyasında kaç üçgen kelime vardır?"
   ]
  },
  {
   "cell_type": "code",
   "execution_count": null,
   "metadata": {},
   "outputs": [],
   "source": []
  }
 ],
 "metadata": {
  "kernelspec": {
   "display_name": "Python 3",
   "language": "python",
   "name": "python3"
  },
  "language_info": {
   "codemirror_mode": {
    "name": "ipython",
    "version": 3
   },
   "file_extension": ".py",
   "mimetype": "text/x-python",
   "name": "python",
   "nbconvert_exporter": "python",
   "pygments_lexer": "ipython3",
   "version": "3.7.4"
  }
 },
 "nbformat": 4,
 "nbformat_minor": 2
}
