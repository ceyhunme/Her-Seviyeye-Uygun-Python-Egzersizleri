{
 "cells": [
  {
   "cell_type": "markdown",
   "metadata": {},
   "source": [
    "# Soru 46"
   ]
  },
  {
   "cell_type": "raw",
   "metadata": {},
   "source": [
    "Tüm tek bileşik sayıların, asal sayı ve asal sayının karesinin toplamı olarak yazılabileceği Christian Godlbach tarafından öne sürülmüştür.\n",
    "\n",
    "9 = 7 + 2×1^2\n",
    "15 = 7 + 2×2^2\n",
    "21 = 3 + 2×3^2\n",
    "25 = 7 + 2×3^2\n",
    "27 = 19 + 2×2^2\n",
    "33 = 31 + 2×1^2\n",
    "\n",
    "Bu varsayımın yanlış olduğu ortaya çıkmıştır.\n",
    "\n",
    "Asal sayı ve asal sayının karesinin toplamı olarak yazılamayacak en küçük tek bileşik sayı nedir?"
   ]
  },
  {
   "cell_type": "code",
   "execution_count": null,
   "metadata": {},
   "outputs": [],
   "source": []
  }
 ],
 "metadata": {
  "kernelspec": {
   "display_name": "Python 3",
   "language": "python",
   "name": "python3"
  },
  "language_info": {
   "codemirror_mode": {
    "name": "ipython",
    "version": 3
   },
   "file_extension": ".py",
   "mimetype": "text/x-python",
   "name": "python",
   "nbconvert_exporter": "python",
   "pygments_lexer": "ipython3",
   "version": "3.7.4"
  }
 },
 "nbformat": 4,
 "nbformat_minor": 2
}
