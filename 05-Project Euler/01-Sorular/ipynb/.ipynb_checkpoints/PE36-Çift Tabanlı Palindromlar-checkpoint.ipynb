{
 "cells": [
  {
   "cell_type": "markdown",
   "metadata": {},
   "source": [
    "# Soru 36"
   ]
  },
  {
   "cell_type": "markdown",
   "metadata": {},
   "source": [
    "585 = (1001001001)2 (ikili) iki tabanda da palindromiktir. \n",
    "\n",
    "Bir milyondan küçük ve 10 tabanında ve 2 tabanında palindromik olarak tüm sayıların toplamını bulunuz.\n",
    "\n",
    "(İki tabanda da palindromik sayıların başlarında sıfır bulundurmadığını unutmayınız.)\n"
   ]
  },
  {
   "cell_type": "code",
   "execution_count": null,
   "metadata": {},
   "outputs": [],
   "source": []
  }
 ],
 "metadata": {
  "kernelspec": {
   "display_name": "Python 3",
   "language": "python",
   "name": "python3"
  },
  "language_info": {
   "codemirror_mode": {
    "name": "ipython",
    "version": 3
   },
   "file_extension": ".py",
   "mimetype": "text/x-python",
   "name": "python",
   "nbconvert_exporter": "python",
   "pygments_lexer": "ipython3",
   "version": "3.7.4"
  }
 },
 "nbformat": 4,
 "nbformat_minor": 2
}
