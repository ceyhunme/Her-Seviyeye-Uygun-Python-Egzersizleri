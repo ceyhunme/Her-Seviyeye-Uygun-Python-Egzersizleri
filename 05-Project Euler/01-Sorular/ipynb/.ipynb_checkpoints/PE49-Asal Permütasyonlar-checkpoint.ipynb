{
 "cells": [
  {
   "cell_type": "markdown",
   "metadata": {},
   "source": [
    "# Soru 49"
   ]
  },
  {
   "cell_type": "markdown",
   "metadata": {},
   "source": [
    "Her terimin 3330 arttığı 1487, 4817, 8147 aritmetik dizisi iki yönden ilginçtir: (i) üç terim de asal sayıdır ve (ii) 4 basamaklı sayıların her biri birbirinin permütasyonudur.\n",
    "\n",
    "1-, 2- veya 3-basamaklı asal sayılar arasında bu aritmetik dizi bulunmasa da artan diziye sahip bir 4 basamaklı sayı daha bulunur.\n",
    "\n",
    "Bu dizinin üç terimini birleştirerek oluşturabileceğiniz 12 basamaklı sayı nedir?\n"
   ]
  },
  {
   "cell_type": "code",
   "execution_count": null,
   "metadata": {},
   "outputs": [],
   "source": []
  }
 ],
 "metadata": {
  "kernelspec": {
   "display_name": "Python 3",
   "language": "python",
   "name": "python3"
  },
  "language_info": {
   "codemirror_mode": {
    "name": "ipython",
    "version": 3
   },
   "file_extension": ".py",
   "mimetype": "text/x-python",
   "name": "python",
   "nbconvert_exporter": "python",
   "pygments_lexer": "ipython3",
   "version": "3.7.4"
  }
 },
 "nbformat": 4,
 "nbformat_minor": 2
}
