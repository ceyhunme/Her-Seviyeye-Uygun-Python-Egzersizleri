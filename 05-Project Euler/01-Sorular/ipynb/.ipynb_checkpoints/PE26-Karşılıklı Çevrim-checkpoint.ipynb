{
 "cells": [
  {
   "cell_type": "markdown",
   "metadata": {},
   "source": [
    "# Soru 26"
   ]
  },
  {
   "cell_type": "raw",
   "metadata": {},
   "source": [
    "Birim bölme bölünende 1 rakamını içerir. 2’den 10’a kadar olan bölenlerle birim bölmenin ondalık şekilde gösterimi aşağıdaki gibi verilmiştir:\n",
    "\n",
    "1/2\t= \t0.5\n",
    "1/3\t= \t0.(3)\n",
    "1/4\t= \t0.25\n",
    "1/5\t= \t0.2\n",
    "1/6\t= \t0.1(6)\n",
    "1/7\t= \t0.(142857)\n",
    "1/8\t= \t0.125\n",
    "1/9\t= \t0.(1)\n",
    "1/10\t= \t0.1\n",
    "0,1(6) gösterimi 0,166666... anlamına gelir ve 1 basamak tekrarlayan döngüdedir. 1/7’nin ise tekrarlayan döngüde 6 basamağı olduğu görülebilir.\n",
    "\n",
    "d < 1000 değeri için hangi 1/d ondalık kesir bölümünde en uzun tekrarlayan döngüye sahiptir?"
   ]
  },
  {
   "cell_type": "code",
   "execution_count": null,
   "metadata": {},
   "outputs": [],
   "source": []
  }
 ],
 "metadata": {
  "kernelspec": {
   "display_name": "Python 3",
   "language": "python",
   "name": "python3"
  },
  "language_info": {
   "codemirror_mode": {
    "name": "ipython",
    "version": 3
   },
   "file_extension": ".py",
   "mimetype": "text/x-python",
   "name": "python",
   "nbconvert_exporter": "python",
   "pygments_lexer": "ipython3",
   "version": "3.7.4"
  }
 },
 "nbformat": 4,
 "nbformat_minor": 2
}
