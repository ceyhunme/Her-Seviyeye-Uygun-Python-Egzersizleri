{
 "cells": [
  {
   "cell_type": "markdown",
   "metadata": {},
   "source": [
    "# Soru 37"
   ]
  },
  {
   "cell_type": "markdown",
   "metadata": {},
   "source": [
    "3797 sayısı ilginç bir özelliğe sahiptir. Asal sayı olmasının yanı sıra soldan sağa doğru basamaklarının sürekli olarak silinmesiyle de her aşama asal sayı olmaya devam eder: 3797, 797, 97 ve 7. Benzer şekilde sağdan sola da silme yapabiliriz: 3797, 379, 37 ve 3.\n",
    "\n",
    "Hem soldan sağa hem de sağdan sola kesilebilir on bir asal sayının toplamını bulunuz.\n",
    "\n",
    "NOT: 2, 3, 5 ve 7 kesilebilir asal sayı olarak kabul edilmez.\n"
   ]
  },
  {
   "cell_type": "code",
   "execution_count": null,
   "metadata": {},
   "outputs": [],
   "source": []
  }
 ],
 "metadata": {
  "kernelspec": {
   "display_name": "Python 3",
   "language": "python",
   "name": "python3"
  },
  "language_info": {
   "codemirror_mode": {
    "name": "ipython",
    "version": 3
   },
   "file_extension": ".py",
   "mimetype": "text/x-python",
   "name": "python",
   "nbconvert_exporter": "python",
   "pygments_lexer": "ipython3",
   "version": "3.7.4"
  }
 },
 "nbformat": 4,
 "nbformat_minor": 2
}
