{
 "cells": [
  {
   "cell_type": "markdown",
   "metadata": {},
   "source": [
    "# Soru 35"
   ]
  },
  {
   "cell_type": "markdown",
   "metadata": {},
   "source": [
    "197 sayısı basamaklarının döndürülmesi sonucunda elde edilen 197, 971 ve 719 sayıları da asal olduğu için dairesel asal sayı olarak kabul edilir.\n",
    "\n",
    "100’den küçük on üç tane böyle asal sayı bulunur: 2, 3, 5, 7, 11, 13, 17, 31, 37, 71, 73, 79 ve 97.\n",
    "\n",
    "Bir milyondan küçük kaç tane böyle asal sayı vardır?\n"
   ]
  },
  {
   "cell_type": "code",
   "execution_count": null,
   "metadata": {},
   "outputs": [],
   "source": []
  }
 ],
 "metadata": {
  "kernelspec": {
   "display_name": "Python 3",
   "language": "python",
   "name": "python3"
  },
  "language_info": {
   "codemirror_mode": {
    "name": "ipython",
    "version": 3
   },
   "file_extension": ".py",
   "mimetype": "text/x-python",
   "name": "python",
   "nbconvert_exporter": "python",
   "pygments_lexer": "ipython3",
   "version": "3.7.4"
  }
 },
 "nbformat": 4,
 "nbformat_minor": 2
}
