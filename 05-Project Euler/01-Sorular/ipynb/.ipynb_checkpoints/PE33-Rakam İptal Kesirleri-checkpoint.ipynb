{
 "cells": [
  {
   "cell_type": "markdown",
   "metadata": {},
   "source": [
    "# Soru 33"
   ]
  },
  {
   "cell_type": "markdown",
   "metadata": {},
   "source": [
    "49/98 ilginç bir kesirdir; deneyimsiz bir matematikçi olarak hatalı bir şekilde 9’ları yok ederek 49/98=4/8 doğru cevabını bulursunuz.\n",
    "\n",
    "30/50 = 3/5 gibi kesirleri önemsiz örnekler olarak ele alacağız.\n",
    "\n",
    "Bu tür kesirler için önemsiz olmayan, değer olarak birden az ve bölen ve bölünende iki basamak içeren sadece 4 tane örnek vardır.\n",
    "\n",
    "Eğer bu dört kesrin en küçük ortak paydası verilirse payda değerini bulunuz."
   ]
  },
  {
   "cell_type": "code",
   "execution_count": null,
   "metadata": {},
   "outputs": [],
   "source": []
  }
 ],
 "metadata": {
  "kernelspec": {
   "display_name": "Python 3",
   "language": "python",
   "name": "python3"
  },
  "language_info": {
   "codemirror_mode": {
    "name": "ipython",
    "version": 3
   },
   "file_extension": ".py",
   "mimetype": "text/x-python",
   "name": "python",
   "nbconvert_exporter": "python",
   "pygments_lexer": "ipython3",
   "version": "3.7.4"
  }
 },
 "nbformat": 4,
 "nbformat_minor": 2
}
