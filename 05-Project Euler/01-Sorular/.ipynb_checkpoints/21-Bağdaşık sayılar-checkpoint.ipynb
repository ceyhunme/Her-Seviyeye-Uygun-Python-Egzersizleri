{
 "cells": [
  {
   "cell_type": "markdown",
   "metadata": {},
   "source": [
    "# Soru 21"
   ]
  },
  {
   "cell_type": "markdown",
   "metadata": {},
   "source": [
    "d(n), n’in tam bölenlerinin toplamı olarak tanımlansın.\n",
    "a ≠ b iken, eğer d(b) = a ve d(a) = b oluyorsa, a ve b bağdaşık sayı olarak adlandırılır.\n",
    "\n",
    "Örneğin, 220’nin tam bölenleri 1, 2, 4, 5, 10, 11, 20, 22, 44, 55 ve 110’dur; O zaman d(220) = 284.\n",
    "284’ün tam bölenleri 1, 2, 4, 71 ve 142 ‘dir; O zaman d(284) = 220.\n",
    "\n",
    "10000’den küçük tüm bağdaşık sayıların toplamını hesaplayın."
   ]
  },
  {
   "cell_type": "code",
   "execution_count": null,
   "metadata": {},
   "outputs": [],
   "source": []
  }
 ],
 "metadata": {
  "kernelspec": {
   "display_name": "Python 3",
   "language": "python",
   "name": "python3"
  },
  "language_info": {
   "codemirror_mode": {
    "name": "ipython",
    "version": 3
   },
   "file_extension": ".py",
   "mimetype": "text/x-python",
   "name": "python",
   "nbconvert_exporter": "python",
   "pygments_lexer": "ipython3",
   "version": "3.7.4"
  }
 },
 "nbformat": 4,
 "nbformat_minor": 2
}
