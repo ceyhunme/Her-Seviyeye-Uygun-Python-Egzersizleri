{
 "cells": [
  {
   "cell_type": "markdown",
   "metadata": {},
   "source": [
    "# Soru 20"
   ]
  },
  {
   "cell_type": "markdown",
   "metadata": {},
   "source": [
    "n! şu şekilde yazılabilir : n x (n-1) x … x 3 x 2 x 1\n",
    "\n",
    "Örneğin, 10! = 10 x 9 x … x 3 x 2 x 1 = 3628800.\n",
    "Ve 10! sayısının basamaklarının toplamı da 3 + 6 + 2 + 8 + 8 = 27 ‘dir.\n",
    "\n",
    "100! sayısının basamaklarının toplamı kaçtır ?"
   ]
  },
  {
   "cell_type": "code",
   "execution_count": null,
   "metadata": {},
   "outputs": [],
   "source": []
  }
 ],
 "metadata": {
  "kernelspec": {
   "display_name": "Python 3",
   "language": "python",
   "name": "python3"
  },
  "language_info": {
   "codemirror_mode": {
    "name": "ipython",
    "version": 3
   },
   "file_extension": ".py",
   "mimetype": "text/x-python",
   "name": "python",
   "nbconvert_exporter": "python",
   "pygments_lexer": "ipython3",
   "version": "3.7.4"
  }
 },
 "nbformat": 4,
 "nbformat_minor": 2
}
