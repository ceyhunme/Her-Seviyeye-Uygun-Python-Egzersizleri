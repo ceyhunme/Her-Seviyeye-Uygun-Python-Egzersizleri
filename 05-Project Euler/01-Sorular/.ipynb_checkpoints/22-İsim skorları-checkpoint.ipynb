{
 "cells": [
  {
   "cell_type": "markdown",
   "metadata": {},
   "source": [
    "# Soru 22"
   ]
  },
  {
   "cell_type": "markdown",
   "metadata": {},
   "source": [
    "5 binin üzerinde ismi içeren 46KB’lık names.txt (kaynaklarda) dosyasını indirerek, alfabetik olarak sıralayın. Sonrasında isimlerdeki her bir harfin alfabetik sıra numarasını toplayarak, bu değeri ismin listedeki sıra numarasıyla çarpın ve ismin puanını bulun.\n",
    "\n",
    "Örneğin, liste alfabetik olarak sıralandığında COLIN ismi 938. sırada olacaktır ve harflerinin toplam değeri 3 + 15 + 12 + 9 + 14 = 53 olacaktır. Böylece, COLIN, 938 × 53 = 49714 şeklinde bir puan alacaktır.\n",
    "\n",
    "Dosyadaki tüm isim skorlarının toplamı nedir?"
   ]
  },
  {
   "cell_type": "code",
   "execution_count": null,
   "metadata": {},
   "outputs": [],
   "source": []
  }
 ],
 "metadata": {
  "kernelspec": {
   "display_name": "Python 3",
   "language": "python",
   "name": "python3"
  },
  "language_info": {
   "codemirror_mode": {
    "name": "ipython",
    "version": 3
   },
   "file_extension": ".py",
   "mimetype": "text/x-python",
   "name": "python",
   "nbconvert_exporter": "python",
   "pygments_lexer": "ipython3",
   "version": "3.7.4"
  }
 },
 "nbformat": 4,
 "nbformat_minor": 2
}
