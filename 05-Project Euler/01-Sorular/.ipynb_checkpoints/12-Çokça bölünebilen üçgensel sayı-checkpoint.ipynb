{
 "cells": [
  {
   "cell_type": "markdown",
   "metadata": {},
   "source": [
    "# Soru 12"
   ]
  },
  {
   "cell_type": "raw",
   "metadata": {},
   "source": [
    "Üçgensel sayı dizileri ardışık doğal sayıların toplanmasıyla üretilir. Örneğin 7. üçgensel sayı 1 + 2 + 3 + 4 + 5 + 6 + 7 = 28’dir. İlk 10 üçgensel sayı şöyledir:\n",
    "\n",
    "1, 3, 6, 10, 15, 21, 28, 36, 45, 55, …\n",
    "\n",
    "Şimdi ilk 7 üçgensel sayının bölenlerini listeleyelim:\n",
    "\n",
    " 1: 1\n",
    " 3: 1,3\n",
    " 6: 1,2,3,6\n",
    "10: 1,2,5,10\n",
    "15: 1,3,5,15\n",
    "21: 1,3,7,21\n",
    "28: 1,2,4,7,14,28\n",
    "Burada 28 sayısının, 5 taneden fazla bölene sahip ilk üçgensel sayı olduğunu görüyoruz.\n",
    "\n",
    "Peki 500’den fazla bölene sahip ilk üçgensel sayı kaçtır?"
   ]
  },
  {
   "cell_type": "code",
   "execution_count": null,
   "metadata": {},
   "outputs": [],
   "source": []
  }
 ],
 "metadata": {
  "kernelspec": {
   "display_name": "Python 3",
   "language": "python",
   "name": "python3"
  },
  "language_info": {
   "codemirror_mode": {
    "name": "ipython",
    "version": 3
   },
   "file_extension": ".py",
   "mimetype": "text/x-python",
   "name": "python",
   "nbconvert_exporter": "python",
   "pygments_lexer": "ipython3",
   "version": "3.7.4"
  }
 },
 "nbformat": 4,
 "nbformat_minor": 2
}
