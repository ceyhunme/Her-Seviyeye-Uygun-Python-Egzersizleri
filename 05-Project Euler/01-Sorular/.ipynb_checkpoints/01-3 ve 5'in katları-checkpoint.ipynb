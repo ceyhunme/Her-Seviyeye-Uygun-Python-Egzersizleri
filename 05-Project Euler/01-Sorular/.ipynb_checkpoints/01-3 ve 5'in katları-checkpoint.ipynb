{
 "cells": [
  {
   "cell_type": "markdown",
   "metadata": {},
   "source": [
    "# Soru 1"
   ]
  },
  {
   "cell_type": "markdown",
   "metadata": {},
   "source": [
    "3’ün veya 5’in katı olan 10’dan küçük tüm doğal sayıları listelersek, 3, 5, 6, ve 9’u elde ederiz. Bu katların toplamı 23’tür.\n",
    "\n",
    "3’ün veya 5’in 1000’den küçük tüm katlarının toplamını bulunuz."
   ]
  },
  {
   "cell_type": "code",
   "execution_count": null,
   "metadata": {},
   "outputs": [],
   "source": []
  }
 ],
 "metadata": {
  "kernelspec": {
   "display_name": "Python 3",
   "language": "python",
   "name": "python3"
  },
  "language_info": {
   "codemirror_mode": {
    "name": "ipython",
    "version": 3
   },
   "file_extension": ".py",
   "mimetype": "text/x-python",
   "name": "python",
   "nbconvert_exporter": "python",
   "pygments_lexer": "ipython3",
   "version": "3.7.4"
  }
 },
 "nbformat": 4,
 "nbformat_minor": 2
}
