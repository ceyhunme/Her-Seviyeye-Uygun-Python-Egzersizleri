{
 "cells": [
  {
   "cell_type": "markdown",
   "metadata": {},
   "source": [
    "# Soru 19"
   ]
  },
  {
   "cell_type": "markdown",
   "metadata": {},
   "source": [
    "1 Ocak 1900, Pazartesi gününe denk gelmişti.\n",
    "Eylül, Nisan, Haziran ve Kasım ayları 30 günden, diğer aylar 31 günden oluşur. Şubat, diğer aylardan farklı olarak 28 günden ve artık yıllarda 29 günden oluşur.\n",
    "4 ile bölünebilen yıllar artık yıldır, ancak yüzyıllar 400 ile bölünemiyorsa artık yıl değildir\n",
    "\n",
    "\n",
    "20. Yüzyıl'da (1 Ocak 1901 - 31 Aralık 2000 arası), Pazar günü kaç kez herhangi bir ayın ilk gününe denk gelmiştir?"
   ]
  },
  {
   "cell_type": "code",
   "execution_count": null,
   "metadata": {},
   "outputs": [],
   "source": []
  }
 ],
 "metadata": {
  "kernelspec": {
   "display_name": "Python 3",
   "language": "python",
   "name": "python3"
  },
  "language_info": {
   "codemirror_mode": {
    "name": "ipython",
    "version": 3
   },
   "file_extension": ".py",
   "mimetype": "text/x-python",
   "name": "python",
   "nbconvert_exporter": "python",
   "pygments_lexer": "ipython3",
   "version": "3.7.4"
  }
 },
 "nbformat": 4,
 "nbformat_minor": 2
}
