{
 "cells": [
  {
   "cell_type": "markdown",
   "metadata": {},
   "source": [
    "# Soru 18"
   ]
  },
  {
   "cell_type": "markdown",
   "metadata": {},
   "source": [
    "Aşağıdaki üçgenin en üstünden başlayıp, altındaki satırlardaki bağlantılı sayılarla ilerleyerek, üstten aşağı elde edilebilecek en büyük toplam 23’tür.\n",
    "\n",
    "*Şekli site üzerinden görmek gerekiyor.\n",
    "\n",
    "Şöyle: 3 + 7 + 4 + 9 = 23.\n",
    "\n",
    "Aşağıdaki üçgendeki üstten aşağıya elde edilebilecek maksimum toplamı bulunuz:\n",
    "\n",
    "*Şekli site üzerinden görmek gerekiyor.\n",
    "\n",
    "NOT: Sadece 16384 farklı yol olduğunda, bütün ihtimalleri deneyerek bu problemi çözmek mümkündür. Ancak 67. soru, aynı sorunun 100 satırlık bir üçgenli halidir; dolayısıyla brute force yöntemiyle çözülemez ve zekice bir yöntem kullanmayı gerektirir.)"
   ]
  },
  {
   "cell_type": "code",
   "execution_count": null,
   "metadata": {},
   "outputs": [],
   "source": []
  }
 ],
 "metadata": {
  "kernelspec": {
   "display_name": "Python 3",
   "language": "python",
   "name": "python3"
  },
  "language_info": {
   "codemirror_mode": {
    "name": "ipython",
    "version": 3
   },
   "file_extension": ".py",
   "mimetype": "text/x-python",
   "name": "python",
   "nbconvert_exporter": "python",
   "pygments_lexer": "ipython3",
   "version": "3.7.4"
  }
 },
 "nbformat": 4,
 "nbformat_minor": 2
}
