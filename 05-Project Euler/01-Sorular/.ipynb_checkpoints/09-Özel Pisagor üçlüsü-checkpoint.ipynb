{
 "cells": [
  {
   "cell_type": "markdown",
   "metadata": {},
   "source": [
    "# Soru 9"
   ]
  },
  {
   "cell_type": "markdown",
   "metadata": {},
   "source": [
    "Pisagor teoremindeki üç doğal sayı a, b ve c’dir; a < b < c ve a^2 + b^2 = c^2\n",
    "\n",
    "Örneğin, 3^2 + 4^2 = 9 + 16 = 25 = 5^2\n",
    "\n",
    "a + b + c’nin 1000 değerine sahip olduğu tek bir Pisagor üçlüsü vardır.\n",
    "\n",
    "Bu üçlüyü bulup, a x b x c değerini hesaplayın."
   ]
  },
  {
   "cell_type": "code",
   "execution_count": null,
   "metadata": {},
   "outputs": [],
   "source": []
  }
 ],
 "metadata": {
  "kernelspec": {
   "display_name": "Python 3",
   "language": "python",
   "name": "python3"
  },
  "language_info": {
   "codemirror_mode": {
    "name": "ipython",
    "version": 3
   },
   "file_extension": ".py",
   "mimetype": "text/x-python",
   "name": "python",
   "nbconvert_exporter": "python",
   "pygments_lexer": "ipython3",
   "version": "3.7.4"
  }
 },
 "nbformat": 4,
 "nbformat_minor": 2
}
