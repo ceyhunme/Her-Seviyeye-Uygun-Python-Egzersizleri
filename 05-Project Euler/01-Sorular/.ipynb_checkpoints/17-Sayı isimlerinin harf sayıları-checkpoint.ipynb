{
 "cells": [
  {
   "cell_type": "markdown",
   "metadata": {},
   "source": [
    "# Soru 17"
   ]
  },
  {
   "cell_type": "markdown",
   "metadata": {},
   "source": [
    "Eğer 1’den 5’e kadar sayılar ingilizce isimleriyle yazılırsa: one, two, three, four, five şeklinde yazıların. Bunlarda toplamda 3 + 3 + 5 + 4 + 4 = 19 harf vardır.\n",
    "\n",
    "Eğer 1’den 1000’e kadar bütün sayılar isimleriyle yazılsaydı, kaç harf kullanılırdı?\n",
    "\n",
    "NOT: Boşlukları ve tireleri saymayınız. Örneğin, 342 (three hundred and forty-two) 23 harf ve 115 (one hundred and fifteen) 20 harf içerir. Britanya İngilizcesinde sayıları yazarkenki “and” kullanımı da kurallar dahilindedir."
   ]
  },
  {
   "cell_type": "code",
   "execution_count": null,
   "metadata": {},
   "outputs": [],
   "source": []
  }
 ],
 "metadata": {
  "kernelspec": {
   "display_name": "Python 3",
   "language": "python",
   "name": "python3"
  },
  "language_info": {
   "codemirror_mode": {
    "name": "ipython",
    "version": 3
   },
   "file_extension": ".py",
   "mimetype": "text/x-python",
   "name": "python",
   "nbconvert_exporter": "python",
   "pygments_lexer": "ipython3",
   "version": "3.7.4"
  }
 },
 "nbformat": 4,
 "nbformat_minor": 2
}
